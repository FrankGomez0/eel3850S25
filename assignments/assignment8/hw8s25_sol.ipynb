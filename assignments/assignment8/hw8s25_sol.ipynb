{
 "cells": [
  {
   "cell_type": "markdown",
   "id": "dffc0740-ed97-457b-934a-bcf019a789a7",
   "metadata": {},
   "source": [
    "# HW8: Vector, matrix, covariance, and correlation coefficient\n",
    "\n",
    "Total : 50 pts This is an individual assignment.\n",
    "\n",
    "The first **three** problems are analytical and must be solved by hand. \n",
    "\n",
    "The last problem is python programming. **Submit your solution in both handwritten part and jupyter notebook and pdf print of the jupyter notebook.**"
   ]
  },
  {
   "cell_type": "code",
   "execution_count": null,
   "id": "51acf855-afc3-4d1f-8b3e-6aa19a264a3a",
   "metadata": {},
   "outputs": [],
   "source": []
  },
  {
   "cell_type": "markdown",
   "id": "ea0727b9-2c94-4a41-baee-234963167f0e",
   "metadata": {
    "tags": []
   },
   "source": [
    "# Problem 1 - Vector Projections\n",
    "(15 pt)\n",
    "Answer the following problems: \n",
    "\n",
    "1. (5 pt) Compute the cosine similarity between these two vectors $\\mathbf{b}=\\left[\\begin{matrix}1\\\\1\\\\1\\end{matrix}\\right]$ and $\\mathbf{a}=\\left[\\begin{matrix}1\\\\2\\\\2\\end{matrix}\\right]$. "
   ]
  },
  {
   "cell_type": "markdown",
   "id": "a584cde6-074e-47c0-ae58-304e16768d44",
   "metadata": {},
   "source": [
    "2. (5 pt)Project the vector $\\mathbf{b}$ onto $\\mathbf{a}$. Check that $\\mathbf{e}$ is perpendicular to $\\mathbf{a}$, that is the angle between $\\mathbf{e}$ and $\\mathbf{a}$ is $\\pm \\pi/2$.\n",
    "\n",
    "    1. \\begin{align*}\\mathbf{b}=\\left[\\begin{matrix}1\\\\2\\\\2\\end{matrix}\\right]~~~~~~\\text{and }~~~~~~~\\mathbf{a}=\\left[\\begin{matrix}1\\\\1\\\\1\\end{matrix}\\right]\\end{align*}\n",
    "    2. \\begin{align*}\\mathbf{b}=\\left[\\begin{matrix}1\\\\3\\\\1\\end{matrix}\\right]~~~~~~\\text{and }~~~~~~~\\mathbf{a}=\\left[\\begin{matrix}-1\\\\-3\\\\-1\\end{matrix}\\right]\\end{align*}\n",
    "    "
   ]
  },
  {
   "cell_type": "markdown",
   "id": "f4284b93-395a-4942-a0ba-9751675553ef",
   "metadata": {},
   "source": [
    "3. (5 pt) Draw the projection of $\\mathbf{b}$ onto $\\mathbf{a}$ and also compute the projection vector:\n",
    "    1. \\begin{align*}\\mathbf{b}=\\left[\\begin{matrix}\\cos\\theta\\\\\\sin\\theta\\end{matrix}\\right]~~~~~~\\text{and }~~~~~~~\\mathbf{a}=\\left[\\begin{matrix}1\\\\0\\end{matrix}\\right]\\end{align*}\n",
    "    \n",
    "    hint: $\\theta$ is a variable. your answer will be a function of $\\theta$\n",
    "    \n",
    "    2. \\begin{align*}\n",
    "\\mathbf{b}=\\left[\\begin{matrix}1\\\\1\\end{matrix}\\right] ~~~~~~\\text{and }~~~~~~~\n",
    "\\mathbf{a}=\\left[\\begin{matrix}1\\\\-1\\end{matrix}\\right]\n",
    "\\end{align*}"
   ]
  },
  {
   "cell_type": "markdown",
   "id": "b9fd6c5d",
   "metadata": {},
   "source": [
    "# Solution:\n",
    "\n",
    "1. $\\cos\\theta = \\frac{\\mathbf{b} \\cdot \\mathbf{a}}{\\|\\mathbf{b}\\| \\|\\mathbf{a}\\|} = \\frac{1\\times1+1\\times2+1\\times2}{\\sqrt{1^2+1^2+1^2}\\times\\sqrt{1^2+2^2+2^2}} = \\frac{5}{\\sqrt{3}\\times\\sqrt{9}} = \\frac{5}{3\\sqrt{3}}$\n",
    "\n",
    "2. $proj_\\mathbf{a} \\mathbf{b} = \\mathbf{p} = \\left( \\frac{\\mathbf{b} \\cdot \\mathbf{a}}{\\|\\mathbf{a}\\|^2} \\right) \\mathbf{a}, \\mathbf{e} = \\mathbf{b} - \\mathbf{p}$\n",
    "\n",
    "  (1) $\\mathbf{p} = \\frac{1\\times1+2\\times1+2\\times1}{1^2+1^2+1^2} \\left[\\begin{matrix}1\\\\1\\\\1\\end{matrix}\\right] = \\left[\\begin{matrix}\\frac{5}{3}\\\\\\frac{5}{3}\\\\\\frac{5}{3}\\end{matrix}\\right], \\\\ \\mathbf{e}=\\left[\\begin{matrix}1\\\\2\\\\2\\end{matrix}\\right] - \\left[\\begin{matrix}\\frac{5}{3}\\\\\\frac{5}{3}\\\\\\frac{5}{3}\\end{matrix}\\right] = \\left[\\begin{matrix}-\\frac{2}{3}\\\\\\frac{1}{3}\\\\\\frac{1}{3}\\end{matrix}\\right],\\\\ \\mathbf{e} \\cdot \\mathbf{a} = -\\frac{2}{3} \\times 1 + \\frac{1}{3} \\times 1 + \\frac{1}{3} \\times 1 = 0$\n",
    "\n",
    "  (2) $\\mathbf{p} = \\frac{1\\times(-1)+3\\times(-3)+1\\times(-1)}{(-1)^2+(-3)^2+(-1)^2} \\left[\\begin{matrix}-1\\\\-3\\\\-1\\end{matrix}\\right] = \\left[\\begin{matrix}1\\\\3\\\\1\\end{matrix}\\right], \\\\ \\mathbf{e}=\\left[\\begin{matrix}1\\\\3\\\\1\\end{matrix}\\right] - \\left[\\begin{matrix}1\\\\3\\\\1\\end{matrix}\\right] = \\left[\\begin{matrix}0\\\\0\\\\0\\end{matrix}\\right],\\\\ \\mathbf{e} \\cdot \\mathbf{a} = 0$\n",
    "\n",
    "3. \n",
    "\n",
    "  (1) $\\mathbf{p} = \\frac{\\cos\\theta\\times1+\\sin\\theta\\times0}{1^2+0^2} \\left[\\begin{matrix}1\\\\0\\end{matrix}\\right] = \\left[\\begin{matrix}\\cos\\theta\\\\0\\end{matrix}\\right]$\n",
    "\n",
    "  (2) $\\mathbf{p} = \\frac{1\\times1+1\\times(-1)}{1^2+(-1)^2} \\left[\\begin{matrix}1\\\\-1\\end{matrix}\\right] = \\left[\\begin{matrix}0\\\\0\\end{matrix}\\right]$"
   ]
  },
  {
   "cell_type": "markdown",
   "id": "2c964c96-e364-45a7-8ef4-d954b9ec5760",
   "metadata": {
    "tags": []
   },
   "source": [
    "# Problem 2\n",
    "\n",
    "(each 2pt, total 10pt)\n",
    "Let $\\mathbf{A}$ be an $n\\times m$ matrix, $\\mathbf{x}$ be an $m\\times 1$ vector, and $\\mathbf{B}$ be an $n \\times n$ matrix.\n",
    "\n",
    "For the following operations, state where the operation is valid and, if it is, report the size of the output:\n",
    "\n",
    "a) $\\mathbf{A}^T\\mathbf{x}$"
   ]
  },
  {
   "cell_type": "markdown",
   "id": "05d7f4cc-5e3e-471d-a53b-5ce32cf5b739",
   "metadata": {},
   "source": [
    "b) $\\mathbf{A}\\mathbf{x}$"
   ]
  },
  {
   "cell_type": "markdown",
   "id": "4456507b-d0d7-4918-a3a7-b97f91e5e368",
   "metadata": {},
   "source": [
    "c) $\\mathbf{B}^T\\mathbf{A}\\mathbf{x}$"
   ]
  },
  {
   "cell_type": "markdown",
   "id": "c549f60e-075a-4a44-801f-7ac1e01ffb9f",
   "metadata": {},
   "source": [
    "d) $\\mathbf{A}\\mathbf{B}^T\\mathbf{x}$"
   ]
  },
  {
   "cell_type": "markdown",
   "id": "1f5e755f-b432-47ac-a916-b6a980119944",
   "metadata": {},
   "source": [
    "e) $\\mathbf{A}\\mathbf{x} + \\mathbf{A}\\mathbf{B}\\mathbf{x}$"
   ]
  },
  {
   "cell_type": "markdown",
   "id": "2bbb87ce",
   "metadata": {},
   "source": [
    "# Solution:\n",
    "\n",
    "a) invalid, $(m \\times n) \\times (m \\times 1)$\n",
    "\n",
    "b) valid, $(n \\times m) \\times (m \\times 1) = (n \\times 1)$\n",
    "\n",
    "c) valid, $(n \\times n) \\times (n \\times m) \\times (m \\times 1) = (n \\times 1)$\n",
    "\n",
    "d) invalid, $(n \\times m) \\times (n \\times n) \\times (m \\times 1)$\n",
    "\n",
    "e) invalid, $((n \\times m) \\times (m \\times 1)) + ((n \\times m) \\times (n \\times n) \\times (m \\times 1))$\n"
   ]
  },
  {
   "cell_type": "markdown",
   "id": "73e0fa13-4a4f-489c-9417-0ba29132d875",
   "metadata": {
    "tags": []
   },
   "source": [
    "# Problem 3\n",
    "(10pt)\n",
    "\n",
    "Multiply these matrices:\n",
    "\n",
    "1. \\begin{align*}\n",
    "\\left[\\begin{matrix}0&0&1\\\\0&1&0\\\\1&0&0\\end{matrix}\\right]\\left[\\begin{matrix}1&2&3\\\\4&5&6\\\\7&8&9\\end{matrix}\\right]\\left[\\begin{matrix}0&0&1\\\\0&1&0\\\\1&0&0\\end{matrix}\\right]\n",
    "\\end{align*}\n",
    "multiply the first two and then use the answer to multiple with the last matrix.\n",
    "\n",
    "2. \\begin{align*}\n",
    "\\left[\\begin{matrix}1&0&0\\\\-1&1&0\\\\-1&0&1\\end{matrix}\\right]\\left[\\begin{matrix}1&2&3\\\\1&3&1\\\\1&4&0\\end{matrix}\\right]\n",
    "\\end{align*}"
   ]
  },
  {
   "cell_type": "markdown",
   "id": "f499c033",
   "metadata": {},
   "source": [
    "# Solution\n",
    "\n",
    "1. \\begin{align*}\n",
    "\\left[\\begin{matrix}0&0&1\\\\0&1&0\\\\1&0&0\\end{matrix}\\right]\\left[\\begin{matrix}1&2&3\\\\4&5&6\\\\7&8&9\\end{matrix}\\right]\\left[\\begin{matrix}0&0&1\\\\0&1&0\\\\1&0&0\\end{matrix}\\right] =\\\\\n",
    "\\left[\\begin{matrix}7&8&9\\\\4&5&6\\\\1&2&3\\end{matrix}\\right]\\left[\\begin{matrix}0&0&1\\\\0&1&0\\\\1&0&0\\end{matrix}\\right] = \\left[\\begin{matrix}9&8&7\\\\6&5&4\\\\3&2&1\\end{matrix}\\right]\n",
    "\\end{align*}\n",
    "\n",
    "2. \\begin{align*}\n",
    "\\left[\\begin{matrix}1&0&0\\\\-1&1&0\\\\-1&0&1\\end{matrix}\\right]\\left[\\begin{matrix}1&2&3\\\\1&3&1\\\\1&4&0\\end{matrix}\\right] = \\left[\\begin{matrix}1&2&3\\\\0&1&-2\\\\0&2&-3\\end{matrix}\\right]\n",
    "\\end{align*}"
   ]
  },
  {
   "cell_type": "markdown",
   "id": "1a803574-ea4c-4f11-be55-a7d6f0133d1b",
   "metadata": {},
   "source": [
    "# Problem 4\n",
    "\n",
    "(15pt)"
   ]
  },
  {
   "cell_type": "markdown",
   "id": "34f4b368-e664-40aa-b96f-1f6c18fe1700",
   "metadata": {},
   "source": [
    "This following dataset contains information about individuals’ medical insurance charges along with attributes such as age, sex, body mass index (BMI), number of children, smoking status, and region.\n",
    "\n",
    "https://www.kaggle.com/datasets/mirichoi0218/insurance\n",
    "\n",
    "\n",
    "we are interested in exploring how these different attributes correlate with medical insurance charges of the individual. "
   ]
  },
  {
   "cell_type": "markdown",
   "id": "cc030231-2119-4b5b-9307-296db64b7d91",
   "metadata": {},
   "source": [
    "1. (5pt) consider the individual living in northwest region who does not have kids, which features among bmi, sex, smoker, regions are highly correlated with the insurance cost? \n",
    "\n",
    "(note the smoker and sex are not real valued. You can covert them to real valued entries using Boolean, for example, True for male and False for female, True for smoker and False for nonsmoker)\n",
    "Without the conversion, these data entry will be ignored in dataframe cov and corr functions.\n"
   ]
  },
  {
   "cell_type": "code",
   "execution_count": 1,
   "id": "29e5e3ce-c7dc-4d17-9c86-e98b11cd01f5",
   "metadata": {},
   "outputs": [
    {
     "data": {
      "text/html": [
       "<div>\n",
       "<style scoped>\n",
       "    .dataframe tbody tr th:only-of-type {\n",
       "        vertical-align: middle;\n",
       "    }\n",
       "\n",
       "    .dataframe tbody tr th {\n",
       "        vertical-align: top;\n",
       "    }\n",
       "\n",
       "    .dataframe thead th {\n",
       "        text-align: right;\n",
       "    }\n",
       "</style>\n",
       "<table border=\"1\" class=\"dataframe\">\n",
       "  <thead>\n",
       "    <tr style=\"text-align: right;\">\n",
       "      <th></th>\n",
       "      <th>age</th>\n",
       "      <th>sex</th>\n",
       "      <th>bmi</th>\n",
       "      <th>children</th>\n",
       "      <th>smoker</th>\n",
       "      <th>region</th>\n",
       "      <th>charges</th>\n",
       "      <th>sex_num</th>\n",
       "      <th>smoker_num</th>\n",
       "    </tr>\n",
       "  </thead>\n",
       "  <tbody>\n",
       "    <tr>\n",
       "      <th>3</th>\n",
       "      <td>33</td>\n",
       "      <td>male</td>\n",
       "      <td>22.705</td>\n",
       "      <td>0</td>\n",
       "      <td>no</td>\n",
       "      <td>northwest</td>\n",
       "      <td>21984.47061</td>\n",
       "      <td>1</td>\n",
       "      <td>0</td>\n",
       "    </tr>\n",
       "    <tr>\n",
       "      <th>4</th>\n",
       "      <td>32</td>\n",
       "      <td>male</td>\n",
       "      <td>28.880</td>\n",
       "      <td>0</td>\n",
       "      <td>no</td>\n",
       "      <td>northwest</td>\n",
       "      <td>3866.85520</td>\n",
       "      <td>1</td>\n",
       "      <td>0</td>\n",
       "    </tr>\n",
       "    <tr>\n",
       "      <th>9</th>\n",
       "      <td>60</td>\n",
       "      <td>female</td>\n",
       "      <td>25.840</td>\n",
       "      <td>0</td>\n",
       "      <td>no</td>\n",
       "      <td>northwest</td>\n",
       "      <td>28923.13692</td>\n",
       "      <td>0</td>\n",
       "      <td>0</td>\n",
       "    </tr>\n",
       "    <tr>\n",
       "      <th>33</th>\n",
       "      <td>63</td>\n",
       "      <td>male</td>\n",
       "      <td>28.310</td>\n",
       "      <td>0</td>\n",
       "      <td>no</td>\n",
       "      <td>northwest</td>\n",
       "      <td>13770.09790</td>\n",
       "      <td>1</td>\n",
       "      <td>0</td>\n",
       "    </tr>\n",
       "    <tr>\n",
       "      <th>35</th>\n",
       "      <td>19</td>\n",
       "      <td>male</td>\n",
       "      <td>20.425</td>\n",
       "      <td>0</td>\n",
       "      <td>no</td>\n",
       "      <td>northwest</td>\n",
       "      <td>1625.43375</td>\n",
       "      <td>1</td>\n",
       "      <td>0</td>\n",
       "    </tr>\n",
       "    <tr>\n",
       "      <th>...</th>\n",
       "      <td>...</td>\n",
       "      <td>...</td>\n",
       "      <td>...</td>\n",
       "      <td>...</td>\n",
       "      <td>...</td>\n",
       "      <td>...</td>\n",
       "      <td>...</td>\n",
       "      <td>...</td>\n",
       "      <td>...</td>\n",
       "    </tr>\n",
       "    <tr>\n",
       "      <th>1237</th>\n",
       "      <td>58</td>\n",
       "      <td>female</td>\n",
       "      <td>28.215</td>\n",
       "      <td>0</td>\n",
       "      <td>no</td>\n",
       "      <td>northwest</td>\n",
       "      <td>12224.35085</td>\n",
       "      <td>0</td>\n",
       "      <td>0</td>\n",
       "    </tr>\n",
       "    <tr>\n",
       "      <th>1271</th>\n",
       "      <td>25</td>\n",
       "      <td>female</td>\n",
       "      <td>34.485</td>\n",
       "      <td>0</td>\n",
       "      <td>no</td>\n",
       "      <td>northwest</td>\n",
       "      <td>3021.80915</td>\n",
       "      <td>0</td>\n",
       "      <td>0</td>\n",
       "    </tr>\n",
       "    <tr>\n",
       "      <th>1277</th>\n",
       "      <td>32</td>\n",
       "      <td>female</td>\n",
       "      <td>29.735</td>\n",
       "      <td>0</td>\n",
       "      <td>no</td>\n",
       "      <td>northwest</td>\n",
       "      <td>4357.04365</td>\n",
       "      <td>0</td>\n",
       "      <td>0</td>\n",
       "    </tr>\n",
       "    <tr>\n",
       "      <th>1311</th>\n",
       "      <td>33</td>\n",
       "      <td>female</td>\n",
       "      <td>26.695</td>\n",
       "      <td>0</td>\n",
       "      <td>no</td>\n",
       "      <td>northwest</td>\n",
       "      <td>4571.41305</td>\n",
       "      <td>0</td>\n",
       "      <td>0</td>\n",
       "    </tr>\n",
       "    <tr>\n",
       "      <th>1337</th>\n",
       "      <td>61</td>\n",
       "      <td>female</td>\n",
       "      <td>29.070</td>\n",
       "      <td>0</td>\n",
       "      <td>yes</td>\n",
       "      <td>northwest</td>\n",
       "      <td>29141.36030</td>\n",
       "      <td>0</td>\n",
       "      <td>1</td>\n",
       "    </tr>\n",
       "  </tbody>\n",
       "</table>\n",
       "<p>132 rows × 9 columns</p>\n",
       "</div>"
      ],
      "text/plain": [
       "      age     sex     bmi  children smoker     region      charges  sex_num  \\\n",
       "3      33    male  22.705         0     no  northwest  21984.47061        1   \n",
       "4      32    male  28.880         0     no  northwest   3866.85520        1   \n",
       "9      60  female  25.840         0     no  northwest  28923.13692        0   \n",
       "33     63    male  28.310         0     no  northwest  13770.09790        1   \n",
       "35     19    male  20.425         0     no  northwest   1625.43375        1   \n",
       "...   ...     ...     ...       ...    ...        ...          ...      ...   \n",
       "1237   58  female  28.215         0     no  northwest  12224.35085        0   \n",
       "1271   25  female  34.485         0     no  northwest   3021.80915        0   \n",
       "1277   32  female  29.735         0     no  northwest   4357.04365        0   \n",
       "1311   33  female  26.695         0     no  northwest   4571.41305        0   \n",
       "1337   61  female  29.070         0    yes  northwest  29141.36030        0   \n",
       "\n",
       "      smoker_num  \n",
       "3              0  \n",
       "4              0  \n",
       "9              0  \n",
       "33             0  \n",
       "35             0  \n",
       "...          ...  \n",
       "1237           0  \n",
       "1271           0  \n",
       "1277           0  \n",
       "1311           0  \n",
       "1337           1  \n",
       "\n",
       "[132 rows x 9 columns]"
      ]
     },
     "execution_count": 1,
     "metadata": {},
     "output_type": "execute_result"
    }
   ],
   "source": [
    "import pandas as pd\n",
    "import numpy as np\n",
    "\n",
    "df= pd.read_csv( 'insurance.csv' )\n",
    "\n",
    "df['sex_num'] = df['sex'].map({'male': 1, 'female': 0})\n",
    "df['smoker_num'] = df['smoker'].map({'yes': 1, 'no': 0})\n",
    "\n",
    "northwest_no_kids = df[(df['region'] == 'northwest') & (df['children'] == 0)]\n",
    "northwest_no_kids"
   ]
  },
  {
   "cell_type": "code",
   "execution_count": 2,
   "id": "d6c2e32e",
   "metadata": {},
   "outputs": [
    {
     "name": "stdout",
     "output_type": "stream",
     "text": [
      "Question 1 - Correlations with charges for northwest region with no children:\n",
      "bmi: 0.1336\n",
      "sex_num: -0.1313\n",
      "smoker_num: 0.7628\n",
      "age: 0.3218\n"
     ]
    }
   ],
   "source": [
    "correlations_q1 = {}\n",
    "\n",
    "# BMI correlation with charges\n",
    "bmi_corr = np.corrcoef(northwest_no_kids['bmi'], northwest_no_kids['charges'])[0, 1]\n",
    "correlations_q1['bmi'] = bmi_corr\n",
    "\n",
    "# Sex correlation with charges\n",
    "sex_corr = np.corrcoef(northwest_no_kids['sex_num'], northwest_no_kids['charges'])[0, 1]\n",
    "correlations_q1['sex_num'] = sex_corr\n",
    "\n",
    "# Smoker correlation with charges\n",
    "smoker_corr = np.corrcoef(northwest_no_kids['smoker_num'], northwest_no_kids['charges'])[0, 1]\n",
    "correlations_q1['smoker_num'] = smoker_corr\n",
    "\n",
    "# Age correlation with charges\n",
    "age_corr = np.corrcoef(northwest_no_kids['age'], northwest_no_kids['charges'])[0, 1]\n",
    "correlations_q1['age'] = age_corr\n",
    "\n",
    "print(\"Question 1 - Correlations with charges for northwest region with no children:\")\n",
    "for feature, corr in correlations_q1.items():\n",
    "    print(f\"{feature}: {corr:.4f}\")"
   ]
  },
  {
   "cell_type": "markdown",
   "id": "c5a85eae-f03d-43cb-af93-d14fffaed49a",
   "metadata": {},
   "source": [
    "2. (5pt) From your analysis, which variables have negative correlation to the charges in the northwest region?     Explain what  these negative correlations imply with your own understanding.\n"
   ]
  },
  {
   "cell_type": "code",
   "execution_count": 3,
   "id": "2bf1c6c1-049f-47c9-8eec-f05f8f530455",
   "metadata": {},
   "outputs": [
    {
     "name": "stdout",
     "output_type": "stream",
     "text": [
      "\n",
      "Question 2 - Variables with negative correlation:\n",
      "sex_num: -0.1313\n"
     ]
    }
   ],
   "source": [
    "print(\"\\nQuestion 2 - Variables with negative correlation:\")\n",
    "for feature, corr in correlations_q1.items():\n",
    "    if corr < 0:\n",
    "        print(f\"{feature}: {corr:.4f}\")"
   ]
  },
  {
   "cell_type": "markdown",
   "id": "53ba8368",
   "metadata": {},
   "source": [
    "Since sex_num was mapped as 1 for males and 0 for females, this negative correlation implies that as the value of sex_num decreases (moving from male to female), the insurance charges tend to increase. In other words, females in the northwest region with no children tend to have higher insurance charges than males in the same demographic group."
   ]
  },
  {
   "cell_type": "markdown",
   "id": "bd38c879-1120-498b-b20c-2e7dc0e8e76f",
   "metadata": {},
   "source": [
    "3. (5 pt) Now let's convert the regions to real numbers: 0: northwest, 1: northeast, 2: southwest, 3: southeast. Perform the correlation analysis and explain if the charges are correlated with the region?"
   ]
  },
  {
   "cell_type": "code",
   "execution_count": 4,
   "id": "5cedb707-63cb-480d-ac85-021eea0969cc",
   "metadata": {},
   "outputs": [],
   "source": [
    "df= pd.read_csv( 'insurance.csv' )\n",
    "region_mapping = {\n",
    "    'northwest': 0,\n",
    "    'northeast': 1,\n",
    "    'southwest': 2,\n",
    "    'southeast': 3\n",
    "}\n",
    "\n",
    "df['region_num'] = df['region'].map(region_mapping)"
   ]
  },
  {
   "cell_type": "code",
   "execution_count": 5,
   "id": "552d052e-96f8-4b33-b6f1-eb5181423d44",
   "metadata": {},
   "outputs": [
    {
     "name": "stdout",
     "output_type": "stream",
     "text": [
      "\n",
      "Question 3 - Correlation between region and charges:\n",
      "Region correlation: 0.0570\n",
      "\n",
      "Average charges by region:\n",
      "northeast: $13406.38\n",
      "northwest: $12417.58\n",
      "southeast: $14735.41\n",
      "southwest: $12346.94\n"
     ]
    }
   ],
   "source": [
    "region_corr = np.corrcoef(df['region_num'], df['charges'])[0, 1]\n",
    "\n",
    "print(\"\\nQuestion 3 - Correlation between region and charges:\")\n",
    "print(f\"Region correlation: {region_corr:.4f}\")\n",
    "\n",
    "region_avg = df.groupby('region')['charges'].mean().reset_index()\n",
    "\n",
    "print(\"\\nAverage charges by region:\")\n",
    "for index, row in region_avg.iterrows():\n",
    "    print(f\"{row['region']}: ${row['charges']:.2f}\")"
   ]
  },
  {
   "cell_type": "markdown",
   "id": "ae357c7d",
   "metadata": {},
   "source": [
    "The correlation between region (coded as 0: northwest, 1: northeast, 2: southwest, 3: southeast) and charges is 0.0570, which indicates a very weak positive correlation.\n",
    "This weak positive correlation suggests that as the region code increases (moving from northwest to southeast), there's a slight tendency for insurance charges to increase as well, but this relationship is minimal. A correlation coefficient of 0.0570 is so close to zero that the relationship is nearly negligible."
   ]
  }
 ],
 "metadata": {
  "kernelspec": {
   "display_name": "Python 3 (ipykernel)",
   "language": "python",
   "name": "python3"
  },
  "language_info": {
   "codemirror_mode": {
    "name": "ipython",
    "version": 3
   },
   "file_extension": ".py",
   "mimetype": "text/x-python",
   "name": "python",
   "nbconvert_exporter": "python",
   "pygments_lexer": "ipython3",
   "version": "3.9.13"
  }
 },
 "nbformat": 4,
 "nbformat_minor": 5
}

{
 "cells": [
  {
   "cell_type": "markdown",
   "id": "0f1bf514",
   "metadata": {},
   "source": [
    "# Homework 1 Part 1\n",
    "\n",
    "part 1 total 50pt. Partial answers or answers without essential steps receive partial or no points.\n",
    "\n",
    "\n",
    "This is an individual assignment."
   ]
  },
  {
   "cell_type": "markdown",
   "id": "b6e35108",
   "metadata": {},
   "source": [
    "- homework includes two parts: A **graded** part and **ungraded** part. The ungraded part is for your own exercise."
   ]
  },
  {
   "cell_type": "markdown",
   "id": "99239c33",
   "metadata": {},
   "source": [
    "## Description\n",
    "\n",
    "Provide analytical solutions to the problems below and upload your answers as a PDF. (There is no need to type your answers -- just scan your handwritten solutions with an app like [CamScanner](https://www.camscanner.com/user/download) or [Scannable](https://apps.apple.com/us/app/evernote-scannable/id883338188).)"
   ]
  },
  {
   "cell_type": "markdown",
   "id": "998ba5c0",
   "metadata": {},
   "source": [
    "## Problem 1\n",
    "[TOTAL 16 PT]\n",
    "\n",
    "\n",
    "Let $\\{\\Omega, \\mathcal{F}, P\\}$ be a probability space with $A\\in\\mathcal{F}$, $B\\in\\mathcal{F}$ and $C\\in\\mathcal{F}$ such that $P(A)=0.4$, $P(B)=0.3$, $P(C)=0.2$, and $P(\\overline{A\\cup B})=0.35$. Compute the following probabilities:\n",
    "\n",
    "1. [4pt] Either $A$ or $B$ occurs.\n",
    "\n",
    "2. [3pt] Both $A$ and $B$ occur.\n",
    "\n",
    "3. [3pt] $A$ occurs but $B$ does not occur.\n",
    "\n",
    "4. [2pt] Are $A$ and $B$ mutually exclusive?\n",
    "\n",
    "5. [2pt] Is this claim correct? give your reasoning: If $C$ is independent of $A$, then $C^c$ is independent of $A$. \n",
    "\n",
    "6.  [2pt] If $C$ is independent of $A$, compute $P(A\\cap C)$ and $P(A\\cap C^c)$.\n",
    "\n",
    "Hint: using the axioms of probability. "
   ]
  },
  {
   "cell_type": "markdown",
   "id": "1791d3c1",
   "metadata": {},
   "source": [
    "## Problem 2\n",
    "[total 14 pt.]\n",
    "\n",
    "onsider a card drawn randomly from a standard deck of 52 cards. Let:\n",
    "\n",
    "- $ A$ be the event \"the card is a spade,\"\n",
    "- $B$ be the event \"the card is a face card (Jack, Queen, King).\"\n",
    "\n",
    "Solve the following two questions:\n",
    "\n",
    "1 [6pt, 2pt each]. compute $P(A)$, $P(B)$ and $P(A\\cap B)$\n",
    "\n",
    "2 [4pt]. Are $A$ and $B$ independent?\n",
    "\n",
    "3 [4pt]. Are $A$ and $B$ exclusive?"
   ]
  },
  {
   "cell_type": "markdown",
   "id": "9bb30e30",
   "metadata": {},
   "source": [
    "## Problem 3 (probability calculuation)\n",
    "\n",
    "[Total 20 pt]\n",
    "\n",
    "Consider repeatedly rolling a fair 6-sided die.\n",
    "\n",
    "1 [5pt]. What is the probability that the top face will be 4 at least once on 10 rolls of the die?\n",
    "\n",
    "2 [5pt]. What is the probability that the top face will be 4 at least once on 20 rolls of the die?\n",
    "\n",
    "3 [10pt]. How many rolls of the die would you have to do to be 90% confident that you would see at least one 4? In other words, how many rolls of the die would you have to be able to say, with a probability at least 90%, you will see at least one 4 appears.\n",
    "\n",
    "hint: For 1, consider to solve the probability of the top face be any number except 4 in one roll. And then use two axioms: 1) the probability of the complement of an event; 2) the independence rule.\n",
    "\n",
    "\n",
    "For 3, use the answer of 1 and 2 to find a function that takes the number of die rolls to the probability of seeing at least one 4. Then, solve an equation when the probability is 90%, what is the number of die rolls."
   ]
  },
  {
   "cell_type": "code",
   "execution_count": null,
   "id": "b5b3f451",
   "metadata": {},
   "outputs": [],
   "source": []
  },
  {
   "cell_type": "markdown",
   "id": "cfe312bb",
   "metadata": {},
   "source": [
    "## The following questions are ungraded exercises:"
   ]
  },
  {
   "cell_type": "markdown",
   "id": "498cb5f8",
   "metadata": {},
   "source": [
    "1. Suppose $P(A) = 0.3$ and $P(B) = 0.5$, where $A \\cap B = \\emptyset$. \n",
    " \n",
    "  - What is $P(A \\cup B)$?\n",
    "  \n",
    "  - What is $P(A\\cup B^c)$?"
   ]
  },
  {
   "cell_type": "markdown",
   "id": "97da005d",
   "metadata": {},
   "source": [
    "2. A fair six-sided die is rolled. Let $A$ be the event \"roll is an odd number\" and $B$ be the event \"roll is less than 4.\" Compute: \n",
    "  - $P(A)$\n",
    " \n",
    "  - $P(B)$\n",
    " \n",
    "  - $P(A \\cup B)$\n",
    "  \n"
   ]
  },
  {
   "cell_type": "markdown",
   "id": "55102726",
   "metadata": {},
   "source": [
    "\n",
    "3. A coin is flipped three times. Define the events:\n",
    " \n",
    "  - $A$: The first flip is heads.\n",
    " \n",
    "  - $B$: The second flip is heads.\n",
    " \n",
    "  - $C$: The third flip is heads.\n",
    " \n",
    "  - Are $A, B,$ and $C$ mutually exclusive? Justify your answer.\n",
    "  \n",
    " - Are $A, B,$ and $C$ independeny? Justify your answer.\n",
    "\n"
   ]
  },
  {
   "cell_type": "markdown",
   "id": "3e749750",
   "metadata": {},
   "source": [
    "4.  A single card is drawn from a standard deck of 52 cards. Let:\n",
    " \n",
    "  - $A$: The card is a heart.\n",
    " \n",
    "  - $B$: The card is a queen.\n",
    " \n",
    "  - Calculate $P(A^c)$, $P(B^c)$, and $P(A \\cap B)$.\n",
    " "
   ]
  }
 ],
 "metadata": {
  "kernelspec": {
   "display_name": "Python 3 (ipykernel)",
   "language": "python",
   "name": "python3"
  },
  "language_info": {
   "codemirror_mode": {
    "name": "ipython",
    "version": 3
   },
   "file_extension": ".py",
   "mimetype": "text/x-python",
   "name": "python",
   "nbconvert_exporter": "python",
   "pygments_lexer": "ipython3",
   "version": "3.9.13"
  }
 },
 "nbformat": 4,
 "nbformat_minor": 5
}

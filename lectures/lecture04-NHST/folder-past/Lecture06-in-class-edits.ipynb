{
 "cells": [
  {
   "cell_type": "markdown",
   "metadata": {},
   "source": [
    "# Lecture 6 \n",
    "* Combinatorics\n",
    "* Bayes' Theorem and Applications\n",
    "* Exploratory Data Analysis\n",
    "* Hypothesis Testing\n",
    "* Bootstrap Sampling"
   ]
  },
  {
   "cell_type": "markdown",
   "metadata": {},
   "source": [
    "These are some of the theorems and corollaries that we have learned so far:\n",
    "\n",
    "* $\\forall E\\in\\mathcal{F}, 0 \\leq P(E)\\leq 1$\n",
    "* $P(\\Omega)=1$ and $P(\\emptyset) = 0 $\n",
    "* $P(A^c) = P(\\overline{A}) = 1 - P(A)$\n",
    "* If $A\\subset B$, then $P(A)\\leq P(B)$\n",
    "* **DeMorgan's Law 1**: $\\overline{A\\cap B} = \\overline{A}\\cup\\overline{B}$  \n",
    "* **DeMorgan's Law 2**: $\\overline{A\\cup B} = \\overline{A}\\cap\\overline{B}$\n",
    "* $P(A\\cap B) = P(A) + P(B) - P(A\\cup B)$\n",
    "* If $A$ and $B$ are M.E. then $A\\cap B=\\emptyset \\Rightarrow P(A\\cap B) = 0$\n",
    "* **Conditional Probability**: $P(A|B) = \\frac{P(A\\cap B)}{P(B)}$, for $P(B)>0$\n",
    "* **Chain Rules**: $P(A\\cap B) = P(A|B)P(B)$ and $P(A\\cap B) = P(B|A)P(A)$\n",
    "* **Multiplication Rule**: $P(\\bigcap_{i=1}^n A_i) = P(A_1)P(A_2|A_1)P(A_3|A_1\\cap A_2)\\dots P\\left(A_n|A_1\\cap\\dots \\cap A_{n-1}\\right)$\n",
    "* **Total Probability**: if a set of events $\\{C_i\\}_{i=1}^n$ are partitions of the sample space $\\Omega$, then $P(A) = \\sum_{i=1}^n P(A|C_i)P(C_i)$\n",
    "* **Statistical Independence:** two events $A, B\\in\\mathcal{F}$ are statistical independent (s.i.) if and only if (iff) $P(A\\cap B)=P(A)P(B)$\n",
    "* If $A$ is statistically independent of $B$, then $B$ is statistically independent of $A$.\n",
    "* If $A, B\\in\\mathcal{F}$ are s.i., then $A$ and $\\bar{B}$ are s.i., $\\bar{A}$ and $B$ are s.i., and $\\bar{A}$ and $\\bar{B}$ are s.i..\n",
    "* **Conditional Independence:** Given an event $C$, the events $A$ and $B$ are said to be conditionally independent if $P(A\\cap B|C) = P(A|C)P(B|C)$\n",
    "* Conditionally independent events are not necessary statistically independent."
   ]
  },
  {
   "cell_type": "code",
   "execution_count": 2,
   "metadata": {},
   "outputs": [],
   "source": [
    "import random\n",
    "import numpy as np\n",
    "import numpy.random as npr\n",
    "import matplotlib.pyplot as plt\n",
    "%matplotlib inline\n",
    "plt.style.use('bmh')\n",
    "\n",
    "import itertools"
   ]
  },
  {
   "cell_type": "markdown",
   "metadata": {},
   "source": [
    "Library API for [itertools](https://docs.python.org/3/library/itertools.html).\n",
    "\n",
    "___"
   ]
  },
  {
   "cell_type": "markdown",
   "metadata": {},
   "source": [
    "# Combinatorics\n",
    "\n",
    "<div class=\"alert alert-info\">\n",
    "    \n",
    "A **combined experiment** is one in which the outcome is a tuple that takes one outcome from each of a sequence of subexperiments.\n",
    "</div>\n",
    "\n",
    "<div class=\"alert alert-info\">\n",
    "    <b>Cartesian Product</b>\n",
    "    \n",
    "The **cartesian product** of two sets $A$ and $B$ is denoted $A \\times B$ and is defined by \n",
    "\n",
    "$$ A \\times B = \\{ (a,b) | a \\in A \\mbox{ and } b \\in B\\}$$\n",
    "\n",
    "That is, it is the set of all two-tuples with the first element from set $A$ and the second element from set $B$.\n",
    "</div>"
   ]
  },
  {
   "cell_type": "markdown",
   "metadata": {},
   "source": [
    "## 1. Sampling with Replacement and with Ordering"
   ]
  },
  {
   "cell_type": "markdown",
   "metadata": {},
   "source": [
    "<div class=\"alert alert-info\">\n",
    "    <b>Sampling with replacement and with ordering</b>\n",
    "    \n",
    "Consider choosing $k$ values from a set of $n$ values. The result is a $k$-tuple: $(x_1, x_2, \\ldots, x_k)$, \n",
    "where $x_i \\in A, \\forall i=1,2,\\ldots, k$. \n",
    "\n",
    "Thus, this is a combined experiment with $|S_1|=|S_2|=\\ldots=|S_k|=|A|\\equiv n$.\\\\\n",
    "\n",
    "Therefore the number of distinct ordered $k$-tuple outcomes is $n^k$.\n",
    "</div>"
   ]
  },
  {
   "cell_type": "markdown",
   "metadata": {},
   "source": [
    "## 2. Sampling without Replacement and with Ordering"
   ]
  },
  {
   "cell_type": "markdown",
   "metadata": {},
   "source": [
    "<div class=\"alert alert-info\">\n",
    "    <b>Sampling without replacement and with ordering ($k$-permutations)</b>\n",
    "    \n",
    "In general, the number of ways to choose $k$ items from $n$ items **without replacement** and **with ordering** is\n",
    "$$ n \\times (n-1) \\times \\ldots \\times (n-k+1) = \\frac{n!}{(n-k)!}$$\n",
    "</div>"
   ]
  },
  {
   "cell_type": "markdown",
   "metadata": {},
   "source": [
    "**<font color=blue>Example 1:</font> Consider the combined experiment of flipping a fair coin 20 times and counting the number of heads. How many ways are there to observe a count of 2 heads in 20 coin flips?**"
   ]
  },
  {
   "cell_type": "markdown",
   "metadata": {},
   "source": [
    "**PYTHON technique** To compute the factorial of an integer in Python, you can use the ```scipy``` library:"
   ]
  },
  {
   "cell_type": "code",
   "execution_count": 3,
   "metadata": {},
   "outputs": [],
   "source": [
    "from scipy.special import factorial"
   ]
  },
  {
   "cell_type": "code",
   "execution_count": 4,
   "metadata": {},
   "outputs": [
    {
     "name": "stdout",
     "output_type": "stream",
     "text": [
      "380.0\n"
     ]
    }
   ],
   "source": [
    "print(factorial(20)/factorial(20-2))"
   ]
  },
  {
   "cell_type": "code",
   "execution_count": 5,
   "metadata": {},
   "outputs": [
    {
     "name": "stdout",
     "output_type": "stream",
     "text": [
      "Probability of H2 =  0.000362396240234375\n"
     ]
    }
   ],
   "source": [
    "print('Probability of H2 = ', 380/(2**20))"
   ]
  },
  {
   "cell_type": "markdown",
   "metadata": {},
   "source": [
    "Note that in counting the number of ways that 2 Heads can occur in 20 flips, (7,14) represents the same thing as (14,7). \n",
    "\n",
    "So, if we determine the number of **ordered** ways to choose 2 unique values out of 20, we have **overcounted** by a factor of 2.\n",
    "\n",
    "Thus, the correct number of outcomes in $H_2$ is\n",
    "$$ \\left|H_2 \\right| = \\frac{20 \\cdot 19}{2} = 190 $$ \n",
    "\n",
    "Now, let's try to count $|H_3|$. We know the number of ways to choose 3 **ordered** values from 20 without replacement is\n",
    "$$\\frac{20!}{(20-3)!} = 20 \\cdot 19 \\cdot 18$$\n",
    "\n",
    "But how many repeats are there if we want to know the number of unordered sets? Let's consider how many ways we can arrange (1,2,3):\n",
    "\n",
    "(1,2,3)\n",
    "(1,3,2)\n",
    "(2,1,3)\n",
    "(2,3,1)\n",
    "(3,1,2)\n",
    "(3,2,1)\n",
    "\n",
    "So, there are 6.\n",
    "\n",
    "Note that the number of ways to order 3 things is the same as the number of order ways to choose 3 items from a set of 3.\n",
    "\n",
    "<div class=\"alert alert-info\">\n",
    "    <b>Permutations</b>\n",
    "    \n",
    "The number of *permutations* of $k$ objects is the number of orderings of those $k$ objects, and can be calculated as\n",
    "$$ k \\times (k-1) \\times (k-2) \\times \\ldots \\times 2 \\times 1 \\\\ = k! $$\n",
    "</div>"
   ]
  },
  {
   "cell_type": "markdown",
   "metadata": {},
   "source": [
    "## 3. Sampling without Replacement and without Ordering\n",
    "\n",
    "Finally, we are ready to determine $|H_3|$, which is $20 \\times 19 \\times 18$ divided by the number of orderings of 3 items, which is $3!=6$, so\n",
    "\n",
    "\\begin{align*}\n",
    "\\left|H_3\\right| &= \\frac{20!}{(20-3)!}\\frac{1}{3!} \\\\\n",
    "&=\\frac{20 \\times 19 \\times 18}{6} \\\\\n",
    "&= 1140\n",
    "\\end{align*}\n",
    "\n",
    "Moreover, the formula for general $H_k$ follows directly.\n",
    "\n",
    "<div class=\"alert alert-info\">\n",
    "    <b>Sampling without Replacement and without Ordering (Combinations)</b>\n",
    "    \n",
    "The number of ways to choose $k$ items from a set of $n$ items **without replacement** and **without ordering** is\n",
    "$$  \\frac{n!}{(n-k)!k!} $$\n",
    "\n",
    "The value of the equation can also be expressed as\n",
    "$$ \\binom{n}{k} = C^{n}_{k} $$\n",
    "and is know as the **binomial coefficient**.\n",
    "</div>\n",
    "\n",
    "**PYTHON technique** To determine $\\binom{n}{k}$ in Python, you can also use the ```scipy``` library:"
   ]
  },
  {
   "cell_type": "code",
   "execution_count": 6,
   "metadata": {},
   "outputs": [],
   "source": [
    "from scipy.special import binom"
   ]
  },
  {
   "cell_type": "code",
   "execution_count": 7,
   "metadata": {},
   "outputs": [
    {
     "name": "stdout",
     "output_type": "stream",
     "text": [
      "190.0 190.0\n"
     ]
    }
   ],
   "source": [
    "print(binom(20,2), 20*19/2)"
   ]
  },
  {
   "cell_type": "code",
   "execution_count": 8,
   "metadata": {},
   "outputs": [
    {
     "name": "stdout",
     "output_type": "stream",
     "text": [
      "1140.0 1140.0\n"
     ]
    }
   ],
   "source": [
    "print(binom(20,3), 20*19*18/6)"
   ]
  },
  {
   "cell_type": "markdown",
   "metadata": {},
   "source": [
    "Thus, the probability of any event $H_k \\subset \\Omega$ is \n",
    "\n",
    "$$ P(H_k) = \\frac{|H_k|}{|\\Omega|} = \\frac{\\binom{20}{k}}{2^{20}}$$\n",
    "\n",
    "Let's put it all together and compare with our simulation:"
   ]
  },
  {
   "cell_type": "code",
   "execution_count": 9,
   "metadata": {},
   "outputs": [],
   "source": [
    "# Simulation parameters\n",
    "num_sims=100\n",
    "flips=20 # flips of fair coin\n",
    "\n",
    "# Conducting experiment\n",
    "results=npr.randint(2, size=(num_sims, flips)) # this will be an array of size num_sims-by-flips\n",
    "num_heads = np.sum(results, axis=1) # sums the \"1\"s along the columns (number of flips)\n",
    "\n",
    "# Analytical Probability\n",
    "analytic=[]\n",
    "for k in range(flips+1):\n",
    "    analytic+=[binom(flips,k)/(2**flips)]"
   ]
  },
  {
   "cell_type": "code",
   "execution_count": 10,
   "metadata": {},
   "outputs": [
    {
     "name": "stderr",
     "output_type": "stream",
     "text": [
      "/var/folders/hv/nfkbddg56bqbd3ply631tttc0000gp/T/ipykernel_52876/3045567749.py:13: MatplotlibDeprecationWarning: Passing the linefmt parameter positionally is deprecated since Matplotlib 3.5; the parameter will become keyword-only two minor releases later.\n",
      "  plt.stem(range(flips+1), analytic, 'm')\n",
      "/var/folders/hv/nfkbddg56bqbd3ply631tttc0000gp/T/ipykernel_52876/3045567749.py:21: MatplotlibDeprecationWarning: Passing the linefmt parameter positionally is deprecated since Matplotlib 3.5; the parameter will become keyword-only two minor releases later.\n",
      "  plt.stem(range(flips+1), analytic, 'm')\n"
     ]
    },
    {
     "data": {
      "image/png": "[encoded data removed]",
      "text/plain": [
       "<Figure size 2000x500 with 3 Axes>"
      ]
     },
     "metadata": {},
     "output_type": "display_data"
    },
    {
     "name": "stdout",
     "output_type": "stream",
     "text": [
      "No. Heads | Relative Freq. | Analytic Probability\n",
      "4 \t 0.02 \t 9.5367431640625e-07\n",
      "5 \t 0.01 \t 1.9073486328125e-05\n",
      "6 \t 0.02 \t 0.0001811981201171875\n",
      "7 \t 0.06 \t 0.001087188720703125\n",
      "8 \t 0.08 \t 0.004620552062988281\n",
      "9 \t 0.17 \t 0.0147857666015625\n",
      "10 \t 0.22 \t 0.03696441650390625\n",
      "11 \t 0.11 \t 0.0739288330078125\n",
      "12 \t 0.17 \t 0.12013435363769531\n",
      "13 \t 0.1 \t 0.16017913818359375\n",
      "14 \t 0.02 \t 0.17619705200195312\n",
      "15 \t 0.01 \t 0.16017913818359375\n",
      "16 \t 0.01 \t 0.12013435363769531\n"
     ]
    }
   ],
   "source": [
    "fig = plt.figure(figsize=(20,5))\n",
    "\n",
    "# Counting - Observed Relative Frequencies\n",
    "vals, counts = np.unique(num_heads, return_counts=True)\n",
    "plt.subplot(1,3,1)\n",
    "plt.bar(vals, counts/num_sims)\n",
    "plt.xlabel('Number of Heads')\n",
    "plt.ylabel('Relative Frequency')\n",
    "\n",
    "\n",
    "# Analytical probability\n",
    "plt.subplot(1,3,2)\n",
    "plt.stem(range(flips+1), analytic, 'm')\n",
    "plt.xlabel('Number of Heads')\n",
    "plt.ylabel('Analytical Probability')\n",
    "\n",
    "\n",
    "# Relative Frequencies vs Analytical Probability\n",
    "plt.subplot(1,3,3)\n",
    "plt.bar(vals, counts/num_sims)\n",
    "plt.stem(range(flips+1), analytic, 'm')\n",
    "plt.xlabel('Number of Heads')\n",
    "plt.ylabel('Relative Frequency vs Analytical Probability')\n",
    "plt.show() # forces the plot to be displayed at this stage\n",
    "\n",
    "print(\"No. Heads | Relative Freq. | Analytic Probability\")\n",
    "for i in range(len(vals)):\n",
    "    print(vals[i], '\\t', counts[i]/num_sims,'\\t',analytic[i])"
   ]
  },
  {
   "cell_type": "markdown",
   "metadata": {},
   "source": [
    "## 4. Sampling with Replacement and without Ordering\n",
    "\n",
    "Suppose that we want to sample from the set $A=\\{a_1,a_2,\\dots,a_n\\}$ $k$ times such that repetition is allowed and ordering does not matter. For example, if $A=\\{1,2,3,4,5,6\\}$ is the sample space of rolling a 6-sided fair die and $k=2$, then there are 21 differet ways of doing this\n",
    "\n",
    "\\begin{equation*}\n",
    "\\{(1,1), (1,2), (1,3), (1,4), (1,5), (1,6), (2,2), (2,3), (2,4), (2,5), (2,6), (3,3), (3,4), (3,5), (3,6), (4,4), (4,5), (4,6), (5,5), (5,6), (6,6)\\}\n",
    "\\end{equation*}\n",
    "\n",
    "* How can we get the number 21 without actually listing all the possibilities? "
   ]
  },
  {
   "cell_type": "markdown",
   "metadata": {},
   "source": [
    "One way to think about this is to note that any of the pairs in the above list can be represented by the number of 1's, 2's, 3's, 4's, 5's and 6's it contains. That is, if $x_i$ is the number of face $i$, we can equivalently represent each pair by a vector $(x_1,x_2,x_3,x_4,x_5,x_6)$, for example,\n",
    "\n",
    "\\begin{align*}\n",
    "(1,5) &\\rightarrow (x_1,x_2,x_3,x_4,x_5,x_6) = (1,0,0,0,1,0)\\\\\n",
    "(2,2) &\\rightarrow (x_1,x_2,x_3,x_4,x_5,x_6) = (0,2,0,0,0,0)\\\\\n",
    "(3,4) &\\rightarrow (x_1,x_2,x_3,x_4,x_5,x_6) = (0,0,1,1,0,0)\\\\\n",
    "(5,5) &\\rightarrow (x_1,x_2,x_3,x_4,x_5,x_6) = (0,0,0,0,2,0)\n",
    "\\end{align*}"
   ]
  },
  {
   "cell_type": "markdown",
   "metadata": {},
   "source": [
    "Note that here $x_i \\geq 0$ are integers and $x_1+x_2+x_3+x_4+x_5+x_6 = k = 2$. Thus, we can claim that the number of ways we can sample two elements from the set $A=\\{1,2,3,4,5,6\\}$ such that ordering does not matter and repetition is allowed is the same as solutions to the following equation\n",
    "\n",
    "$$x_1+x_2+x_3+x_4+x_5+x_6 = 2\\text{, where } x_i\\in\\{0,1,2\\}$$\n",
    "\n",
    "This is an interesting observation and in fact using the same argument we can make the following statement for general $k$ and $n$."
   ]
  },
  {
   "cell_type": "markdown",
   "metadata": {},
   "source": [
    "<div class=\"alert alert-info\">\n",
    "    <b>Sampling with Replacement and without Ordering (Partitions)</b>\n",
    "    \n",
    "The number of $k$-multisets of an $n$-set $A=\\{a_1,a_2,\\cdots,a_n\\}$ **with replacement** and **without ordering** are binomial coefficients of the form:\n",
    "\n",
    "$$\\binom{n + k - 1}{k} = \\binom{k + n - 1}{n-1}$$\n",
    "</div>"
   ]
  },
  {
   "cell_type": "markdown",
   "metadata": {},
   "source": [
    "**Bonus Material:** https://www.youtube.com/watch?v=UTCScjoPymA"
   ]
  },
  {
   "cell_type": "markdown",
   "metadata": {},
   "source": [
    "**<font color=blue>Example 2:</font> What is the probability of a roll of 11 when rolling fair 6-sided dice twice?**"
   ]
  },
  {
   "cell_type": "code",
   "execution_count": 11,
   "metadata": {},
   "outputs": [
    {
     "data": {
      "text/plain": [
       "(21.0, 21.0)"
      ]
     },
     "execution_count": 11,
     "metadata": {},
     "output_type": "execute_result"
    }
   ],
   "source": [
    "binom(6+2-1,2), binom(2+6-1,6-1)"
   ]
  },
  {
   "cell_type": "code",
   "execution_count": 12,
   "metadata": {},
   "outputs": [
    {
     "name": "stdout",
     "output_type": "stream",
     "text": [
      "Probability of a roll of 11 when rolling a 6-sided die twice is  0.047619047619047616\n"
     ]
    }
   ],
   "source": [
    "print('Probability of a roll of 11 when rolling a 6-sided die twice is ', 1/21)\n",
    "# This is corrected. "
   ]
  },
  {
   "cell_type": "markdown",
   "metadata": {},
   "source": [
    "___"
   ]
  },
  {
   "cell_type": "code",
   "execution_count": 13,
   "metadata": {},
   "outputs": [],
   "source": [
    "import random\n",
    "import numpy as np\n",
    "import numpy.random as npr\n",
    "import matplotlib.pyplot as plt\n",
    "%matplotlib inline\n",
    "plt.style.use('bmh')"
   ]
  },
  {
   "cell_type": "markdown",
   "metadata": {},
   "source": [
    "# Bayes' Rule"
   ]
  },
  {
   "cell_type": "markdown",
   "metadata": {},
   "source": [
    "Consider two events $A$ and $B$, by the **chain rule** equations we know that: \n",
    "\n",
    "$$P(A\\cap B) = P(A|B)P(B)$$\n",
    "and\n",
    "$$P(B\\cap A) = P(B|A) P(A)$$\n",
    "\n",
    "Note that \n",
    "\n",
    "\\begin{align*}\n",
    "P(A\\cap B) &= P(B\\cap A)\\\\\n",
    "\\iff P(A|B)P(B) &= P(B|A) P(A)\\\\\n",
    "\\iff P(A|B) &= \\frac{P(B|A) P(A)}{P(B)}\n",
    "\\end{align*}"
   ]
  },
  {
   "cell_type": "markdown",
   "metadata": {},
   "source": [
    "<div class=\"alert alert-info\" role=\"alert\">\n",
    "  <strong>Bayes's Theorem</strong>\n",
    "    \n",
    "If the set of events $\\{A_i\\}_{i=1}^n$ partitions the sample space $\\Omega$, and assuming $P(A_i)>0$, for all $i$. Then, for any event $B$ such that $P(B)>0$, we have\n",
    "\n",
    "\\begin{align*}\n",
    "P(A_i|B) &= \\frac{P(B|A_i)P(A_i)}{P(B)}\n",
    "\\end{align*}\n",
    "\n",
    "where $P(B)$ can be computed using the Law of Total Probability,\n",
    "  \n",
    "\\begin{align*}\n",
    "P(B) &= P(B|A_1)P(A_1) + \\cdots +P(B|A_n)P(A_n)\n",
    "\\end{align*}\n",
    "\n",
    "</div>"
   ]
  },
  {
   "cell_type": "markdown",
   "metadata": {},
   "source": [
    "**<font color=blue>Example 3:</font> Consider the experiment where we select between a fair 6-sided die and a fair 12-sided die at random and flip it once. What is the probability that the die selected was the 12-sided die if face on top was a 5?**"
   ]
  },
  {
   "cell_type": "markdown",
   "metadata": {},
   "source": [
    "<!-- Let $S$ be the event that the fair 6-sided die was selected, $T$ the event that the fair 12-sided die was selected, and $D_i$ the event that the face $i$ was rolled.\n",
    "\n",
    "$$P(T|D_5) = \\frac{P(T\\cap D_5)}{P(D_5)} = \\frac{P(D_5|T)P(T)}{P(D_5)}$$\n",
    "\n",
    "and\n",
    "\n",
    "$$P(D_5) = P(D_5|S)P(S) + P(D_5|T)P(T) = \\frac{1}{6}\\times\\frac{1}{2} + \\frac{1}{12}\\times\\frac{1}{2} = 0.125$$\n",
    "\n",
    "Putting it together,\n",
    "\n",
    "$$P(T|D_5) = \\frac{P(D_5|T)P(T)}{P(D_5|S)P(S) + P(D_5|T)P(T)} = \\frac{\\frac{1}{12}\\times\\frac{1}{2}}{\\frac{1}{6}\\times\\frac{1}{2} + \\frac{1}{12}\\times\\frac{1}{2}}=\\frac{1}{3}$$ -->"
   ]
  },
  {
   "cell_type": "code",
   "execution_count": 14,
   "metadata": {},
   "outputs": [
    {
     "name": "stdout",
     "output_type": "stream",
     "text": [
      "Probability that die is 12-sided if observed result is 5 is  0.32950191570881227\n"
     ]
    }
   ],
   "source": [
    "num_sims=100_000\n",
    "dice = ['6-sided','12-sided']\n",
    "face5_count = 0\n",
    "die12_count = 0\n",
    "for sim in range(num_sims):\n",
    "    coin = random.choice(dice) # choose die at random\n",
    "    if coin=='6-sided':\n",
    "        S=list(range(1,7))\n",
    "    else:\n",
    "        S=list(range(1,13))\n",
    "    flip = random.choice(S) # roll the die\n",
    "    if flip==5: \n",
    "        face5_count+=1\n",
    "        if coin == '12-sided':\n",
    "            die12_count+=1\n",
    "print('Probability that die is 12-sided if observed result is 5 is ',\n",
    "      die12_count/face5_count)"
   ]
  },
  {
   "cell_type": "markdown",
   "metadata": {},
   "source": [
    "* Bayes's rule is an extremely useful theorem and is often used for **statistical inference**.\n",
    "\n",
    "There are a number of *causes* that may result in a certain *effect*. We observe the effect, and we wish to infer the cause.\n",
    "\n",
    "* The events $A_1, A_2,\\dots,A_n$ can be characterized as a set of possible causes, and\n",
    "* The event $B$ represents the effect\n",
    "\n",
    "The probability $P(B|A_i)$ computes the probability that the effect $B$ will be observed when the cause $A_i$ is present. This amounts to a probabilistic model for a cause-effect relationship.\n",
    "\n",
    "Given that the effect $B$ has occurred, we want to evaluate the probability $P(B|A_i)$ that the cause $A_i$ is present."
   ]
  },
  {
   "cell_type": "markdown",
   "metadata": {},
   "source": [
    "* We refer to $P(A_i|B)$ as the **<font color=green>posterior probability</font>** of event $A_i$ given the information\n",
    "\n",
    "* We refer to $P(A_i)$ as the **<font color=orange>prior probability</font>**\n",
    "\n",
    "* We refer to $P(B|A_i)$ as the **<font color=blue>likelihood</font>**\n",
    "\n",
    "* We refer to $P(B)$ as the **<font color=brown>evidence/effect probability</font>**"
   ]
  },
  {
   "cell_type": "markdown",
   "metadata": {},
   "source": [
    "**<font color=blue>Example 4 [skip]:</font> A test for a certain rare disease is assumed to be correct 95% of the time: if a person has the disease, the test results are positive with probability 0.95, and if the person does not have the disease, the test results are negative with probability 0.95. A random person drawn from a certain *population* has probability 0.001 of having the disease. Given that the person just tested positive, what is the probability that the person has the disease?**"
   ]
  },
  {
   "cell_type": "markdown",
   "metadata": {},
   "source": [
    "<!-- Let $A$ be the event that the person has the disease, $B$ the event that the test results are positive. We are given that $P(B|A) = 0.95$ and $P(A) = 0.001$. We want to compute $P(A|B)$.\n",
    "\n",
    "\\begin{align*}\n",
    "P(A|B) &= \\frac{P(B|A)P(A)}{P(B)}\\\\\n",
    "&= \\frac{P(B|A)P(A)}{P(B|A)P(A) + P(B|\\overline{A})P(\\overline{A})}\\\\\n",
    "&= \\frac{0.95 \\times 0.001}{0.95\\times 0.001 + 0.05\\times 0.999}\\\\\n",
    "&\\approx 0.0187\n",
    "\\end{align*} -->"
   ]
  },
  {
   "cell_type": "markdown",
   "metadata": {},
   "source": [
    "# Bayesian Statistics vs Classic Statistics"
   ]
  },
  {
   "cell_type": "markdown",
   "metadata": {
    "cell_style": "split"
   },
   "source": [
    "The Bayes' theorem is an *extremely* useful result, formulated by Thomas Bayes in the 18th century and later published by Richard Price.\n",
    "\n",
    "This result originated the term **Bayesian statistics** or **Bayesian inference**, giving a different interpretation of probability when compared to **classic statistics** or **Frequentist inference**.\n",
    "\n",
    "* **Frequentist statistics**: refers to the field of statistics that draws conclusions from data by computing relative frequency of events in the data.\n",
    "\n",
    "* **Bayesian statistics**: refers to the field of statistics that draws conclusions from data by testing out the hypothesis and computing their observed probability from data.\n",
    "\n",
    "In **inference**, Bayes' rule makes use of a **prior** which is an assumption made about some underlying phenomenon. Bayes' equation makes use of this prior probability to compute the probability of such cause given some observational data.\n",
    "\n",
    "Whereas in classical inference, no assumption are made about the underlying nature of the system that generated the observational data. It's inference is purely based on how the frequency of outcomes."
   ]
  },
  {
   "cell_type": "markdown",
   "metadata": {
    "cell_style": "split"
   },
   "source": [
    "![ThomasBayes](https://upload.wikimedia.org/wikipedia/commons/d/d4/Thomas_Bayes.gif)\n",
    "Thomas Bayes (1701-1761), [Wikipedia page](https://en.wikipedia.org/wiki/Thomas_Bayes)"
   ]
  },
  {
   "cell_type": "markdown",
   "metadata": {},
   "source": [
    "**Which statistical approach should I use to draw conclusions from my data?** We will see that it *depends* on\n",
    "1. the problem\n",
    "2. the actual quantity (and quality) of the observational data that you have\n",
    "3. whether or not you have prior beliefs\n",
    "4. other factors"
   ]
  },
  {
   "cell_type": "code",
   "execution_count": 15,
   "metadata": {},
   "outputs": [
    {
     "data": {
      "image/png": "[encoded data removed]",
      "text/plain": [
       "<IPython.core.display.Image object>"
      ]
     },
     "execution_count": 15,
     "metadata": {
      "image/png": {
       "width": 500
      }
     },
     "output_type": "execute_result"
    }
   ],
   "source": [
    "from IPython.display import Image\n",
    "Image('https://imgs.xkcd.com/comics/frequentists_vs_bayesians_2x.png',width=500)"
   ]
  },
  {
   "cell_type": "markdown",
   "metadata": {},
   "source": [
    "**<font color=blue>Example 5:</font> Suppose that I flipped a coin 5 times and observe the event $E=\\{H,H,H,H,H\\}$. Without telling you anything else, what is the probability of heads? What would your answer be?**"
   ]
  },
  {
   "cell_type": "markdown",
   "metadata": {},
   "source": [
    "The **hidden state** of this problem is: what coin was used for this experiment?"
   ]
  },
  {
   "cell_type": "markdown",
   "metadata": {},
   "source": [
    "* Frequentist statistics: $P(H) = \\frac{|H|}{|E|} = \\frac{5}{5} = 1$. \n",
    "\n",
    "It does not use any prior beliefs."
   ]
  },
  {
   "cell_type": "markdown",
   "metadata": {},
   "source": [
    "* Bayesian statistics: you start by assuming that chances are e.g. I'm flipping a fair coin - this is your prior belief, that the coin is fair, then $P(H|\\text{fair})=\\frac{1}{2}$, furthermore you also compute a probability for that hypothesis:\n",
    "\n",
    "\\begin{align*}\n",
    "P(\\text{fair}| E) &= \\frac{P(E|\\text{fair})P(\\text{fair})}{P(E)}\\\\\n",
    "&= \\frac{P(E|\\text{fair})P(\\text{fair})}{P(E|\\text{fair})P(\\text{fair})+P(E|\\text{unfair})P(\\text{unfair})}\\\\\n",
    "&= \\frac{\\left(\\frac{1}{2}\\right)^5\\times\\frac{1}{2}}{\\left(\\frac{1}{2}\\right)^5\\times\\frac{1}{2}+(1)^5\\times\\frac{1}{2}}, \\text{ assuming you believe it to be 50/50 between fair and 2-headed}\\\\\n",
    "&\\approx 0.0303\n",
    "\\end{align*}"
   ]
  },
  {
   "cell_type": "markdown",
   "metadata": {},
   "source": [
    "If you thought I had 2 fair coin and 1 2-headed, then the probability for fair coin is $\\frac{2}{3}$ and probability for 2-headed was $\\frac{1}{3}$. With this, the probability of the hypothesis/cause \"coin is fair\" is:\n",
    "\n",
    "$$P(\\text{fair}| E) = \\frac{\\left(\\frac{1}{2}\\right)^5\\times\\frac{2}{3}}{\\left(\\frac{1}{2}\\right)^5\\times\\frac{2}{3}+(1)^5\\times\\frac{1}{3}} \\approx 0.0588$$\n",
    "\n",
    "Note that a **stronger (prior) belief** influenced the probability of your **hypothesis**."
   ]
  },
  {
   "cell_type": "markdown",
   "metadata": {},
   "source": [
    "**This is where the (healthy) \"rivalry\" between Frequentist vs Bayesian emerges:**\n",
    "\n",
    "* Frequentists say that we should never make assumptions (prior beliefs) because they will change the probability of the hypothesis. Frequestists support that the use of the observational data is the approach to take conclusions. Frequentist approach to probability is **data-driven**.\n",
    "\n",
    "* Bayesians say that in situations where we do not have enough data, it is prudent to make assumptions as the conclusions will become more \"realistic\".\n",
    "\n",
    "There are strategies to adjust the prior belief (correct its value to a *better* value) as we continue to collect more observations. We will study this."
   ]
  },
  {
   "cell_type": "markdown",
   "metadata": {},
   "source": [
    "## Applications of Bayesian Inference"
   ]
  },
  {
   "cell_type": "markdown",
   "metadata": {},
   "source": [
    "Applications of Bayesian inference are endless. These are some examples:\n",
    "\n",
    "1. Decision theory, e.g. communication system (example next lecture)\n",
    "\n",
    "2. Bioinformatics and healthcare, e.g. building a risk model from genetic profiles\n",
    "\n",
    "3. Recommender systems, e.g. Netflix\n",
    "\n",
    "4. Stock market prediction\n",
    "\n",
    "5. Email spam filter\n",
    "\n",
    "6. Financing, e.g. banks are using Bayesian inference to determine interest rates of a loan by using a risk model\n",
    "\n",
    "8. many, many others..."
   ]
  },
  {
   "cell_type": "markdown",
   "metadata": {},
   "source": [
    "___"
   ]
  },
  {
   "cell_type": "markdown",
   "metadata": {},
   "source": [
    "# Exploratory Data Analysis"
   ]
  },
  {
   "cell_type": "markdown",
   "metadata": {},
   "source": [
    "*A first look at the data*."
   ]
  },
  {
   "cell_type": "markdown",
   "metadata": {},
   "source": [
    "<div class=\"alert alert-success\">\n",
    "    <b>Exploratory Data Analysis</b>\n",
    "    \n",
    "**Exploratory data analysis** or **EDA** is a critical first step in analyzing the data from an experiment. Here are the main reasons we use EDA:\n",
    "* detection of mistakes\n",
    "* checking of assumptions\n",
    "* preliminary selection of appropriate models\n",
    "* determining relationships among the explanatory variables, and\n",
    "* assessing the direction and rough size of relationships between explanatory and outcome variables.\n",
    "\n",
    "Loosely speaking, any method of looking at data that does not include formal statistical modeling and inference falls under the term exploratory data analysis.\n",
    "</div>"
   ]
  },
  {
   "cell_type": "markdown",
   "metadata": {},
   "source": [
    "Exploratory data analysis is generally cross-classified in two ways. First, each method is either \n",
    "\n",
    "1. **non-graphical**, or \n",
    "2. **graphical**. \n",
    "\n",
    "And second, each method is either \n",
    "* **univariate**, or \n",
    "* **multivariate** (usually just bivariate)."
   ]
  },
  {
   "cell_type": "markdown",
   "metadata": {},
   "source": [
    "<div class=\"alert alert-info\">\n",
    "    <b>Types of EDA</b>\n",
    "    \n",
    "The four types of EDA are:\n",
    "* univariate non-graphical\n",
    "* multivariate non-graphical\n",
    "* univariate graphical\n",
    "* multivariate graphical\n",
    "</div>"
   ]
  },
  {
   "cell_type": "markdown",
   "metadata": {},
   "source": [
    "Non-graphical methods generally involve calculation of **summary statistics**, while graphical methods obviously summarize the data in a diagrammatic or pictorial way. \n",
    "\n",
    "* Univariate methods look at one variable (data column) at a time, while multivariate methods look at two or more variables at a time to explore relationships. \n",
    "    * Usually our multivariate EDA will be bivariate (looking at exactly two variables), but occasionally it will involve three or more variables. \n",
    "    * *It is almost always a good idea to perform univariate EDA on each of the components of a multivariate EDA before performing the multivariate EDA.*"
   ]
  },
  {
   "cell_type": "markdown",
   "metadata": {},
   "source": [
    "## Univariate Data\n",
    "\n",
    "The data that come from making a particular measurement on all of the subjects in a sample represent our observations for a single characteristic such as age, gender, speed at a task, or response to a stimulus. \n",
    "\n",
    "We should think of these measurements as representing a *sample distribution* of the variable, which in turn more or less represents the *population distribution* of the variable. \n",
    "\n",
    "The usual goal of univariate non-graphical EDA is to better appreciate the *sample distribution* and also to make some tentative conclusions about what population distribution(s) is/are compatible with the sample distribution. \n",
    "\n",
    "* Outlier detection is also a part of this analysis."
   ]
  },
  {
   "cell_type": "markdown",
   "metadata": {},
   "source": [
    "<div class=\"alert alert-info\">\n",
    "    <b>Population</b>\n",
    "    \n",
    "A **population** is a group of people, objects, events or observations that is being studied.\n",
    "</div>"
   ]
  },
  {
   "cell_type": "markdown",
   "metadata": {},
   "source": [
    "<div class=\"alert alert-info\">\n",
    "    <b>Parameters</b>\n",
    "    \n",
    "Often we are trying to assess some qualities or properties of that population. We call these **parameters**.\n",
    "</div>"
   ]
  },
  {
   "cell_type": "markdown",
   "metadata": {},
   "source": [
    "When the population is too large to directly measure the parameters of interest, then we try to draw inferences from a subset of the population.\n",
    "\n",
    "<div class=\"alert alert-info\">\n",
    "    <b>Sample</b>\n",
    "    \n",
    "A **sample** from a population is a subset of the population that can be used to draw inferences about the parameters of interest.\n",
    "</div>\n",
    "\n",
    "* A sample is usually drawn randomly from the population.\n",
    "\n",
    "* We usually require that each member of the sample is chosen independently from other members.\n",
    "\n",
    "* Often, but not always, each member in the population is equally likely to be included in the sample."
   ]
  },
  {
   "cell_type": "markdown",
   "metadata": {},
   "source": [
    "<div class=\"alert alert-info\">\n",
    "    <b>Statistic</b>\n",
    "    \n",
    "A **statistic** is a measurement of a quality or property on a sample that is used to assess a parameter of the whole population.\n",
    "</div>\n",
    "\n",
    "When samples are small, the statistics often provide little or no information about the parameters.\n",
    "\n",
    "* For example, consider the problem of determining whether a coin is fair or two-headed. The result of flipping a coin one time provides no useful information for determining that\n",
    "\n",
    "When samples are larger, they generally more accurately represent the population."
   ]
  },
  {
   "cell_type": "markdown",
   "metadata": {},
   "source": [
    "In practice, when dealing with data, there are generally two cases that we will encounter:\n",
    "\n",
    "1. When designing an experiment, the statistician can choose the sample size to balance between being able to generate a useful statistic and the cost of taking more samples.\n",
    "\n",
    "2. Sometimes the experiment has already been carried out or is not under the control of the statistician. For instance, the statistician wants to assess something based on an existing survey or compare effects of a change in laws on a set of states. In this case, the sample size is fixed."
   ]
  },
  {
   "cell_type": "markdown",
   "metadata": {},
   "source": [
    "___"
   ]
  },
  {
   "cell_type": "markdown",
   "metadata": {},
   "source": [
    "### Example: Effect of 1994-2004 Federal Assault Weapon Ban\n",
    "\n",
    "In 1994, the United States Congress passed a ban on a variety of semiautomatic rifles that are sometimes referred to as \"assault weapons\". The ban was in effect for 10 years, from 1994-2004. ([State Firearm Laws](https://www.statefirearmlaws.org/resources))\n",
    "\n",
    "It might be guessed that the goal of any gun ban is to reduced gun violence. Thus it is natural to assess whether the \"assault weapon\" ban had any effect on gun violence."
   ]
  },
  {
   "cell_type": "markdown",
   "metadata": {},
   "source": [
    "Fortunately, the Center for Disease Control's National Center for Health Statistics tracks firearm mortality at the state level. Visualizations of firearm mortality by state, along with links to download the data are available here:\n",
    "\n",
    "https://www.cdc.gov/nchs/pressroom/sosmap/firearm_mortality/firearm.htm"
   ]
  },
  {
   "cell_type": "markdown",
   "metadata": {},
   "source": [
    "Although this page does not have data prior to 2005, the data for 2005 should be similar to that before the ban because the ban was only on the **sale** of certain firearms. It would take many years for this ban to actually affect the availability of firearms."
   ]
  },
  {
   "cell_type": "markdown",
   "metadata": {},
   "source": [
    "Thus, we can use two sets of data on that page to measure the effect of the \"assault weapons\" ban:\n",
    "\n",
    "* The 2005 data set represents firearm mortality after the ban had been in effect for a decade\n",
    "* The 2014 data set represents firearm mortality after the ban had been seized for a decade"
   ]
  },
  {
   "cell_type": "markdown",
   "metadata": {},
   "source": [
    "I have download this data and it is saved in the file called **\"firearms-combined.csv\"**.\n",
    "\n",
    "**Make sure you have the CSV file wherever you are working on this notebook!**\n",
    "\n",
    "Now let's read the data from the CSV file into a dataframe:"
   ]
  },
  {
   "cell_type": "code",
   "execution_count": 16,
   "metadata": {},
   "outputs": [],
   "source": [
    "import pandas as pd"
   ]
  },
  {
   "cell_type": "code",
   "execution_count": 17,
   "metadata": {},
   "outputs": [],
   "source": [
    "df = pd.read_csv('firearms-combined.csv')"
   ]
  },
  {
   "cell_type": "code",
   "execution_count": 18,
   "metadata": {},
   "outputs": [
    {
     "data": {
      "text/html": [
       "<div>\n",
       "<style scoped>\n",
       "    .dataframe tbody tr th:only-of-type {\n",
       "        vertical-align: middle;\n",
       "    }\n",
       "\n",
       "    .dataframe tbody tr th {\n",
       "        vertical-align: top;\n",
       "    }\n",
       "\n",
       "    .dataframe thead th {\n",
       "        text-align: right;\n",
       "    }\n",
       "</style>\n",
       "<table border=\"1\" class=\"dataframe\">\n",
       "  <thead>\n",
       "    <tr style=\"text-align: right;\">\n",
       "      <th></th>\n",
       "      <th>STATE</th>\n",
       "      <th>RATE-2005</th>\n",
       "      <th>RATE-2014</th>\n",
       "      <th>Total Laws 2014</th>\n",
       "    </tr>\n",
       "  </thead>\n",
       "  <tbody>\n",
       "    <tr>\n",
       "      <th>0</th>\n",
       "      <td>AL</td>\n",
       "      <td>16.0</td>\n",
       "      <td>16.9</td>\n",
       "      <td>10</td>\n",
       "    </tr>\n",
       "    <tr>\n",
       "      <th>1</th>\n",
       "      <td>AK</td>\n",
       "      <td>17.5</td>\n",
       "      <td>19.2</td>\n",
       "      <td>3</td>\n",
       "    </tr>\n",
       "    <tr>\n",
       "      <th>2</th>\n",
       "      <td>AZ</td>\n",
       "      <td>16.1</td>\n",
       "      <td>13.5</td>\n",
       "      <td>8</td>\n",
       "    </tr>\n",
       "    <tr>\n",
       "      <th>3</th>\n",
       "      <td>AR</td>\n",
       "      <td>15.7</td>\n",
       "      <td>16.6</td>\n",
       "      <td>11</td>\n",
       "    </tr>\n",
       "    <tr>\n",
       "      <th>4</th>\n",
       "      <td>CA</td>\n",
       "      <td>9.5</td>\n",
       "      <td>7.4</td>\n",
       "      <td>100</td>\n",
       "    </tr>\n",
       "    <tr>\n",
       "      <th>5</th>\n",
       "      <td>CO</td>\n",
       "      <td>11.6</td>\n",
       "      <td>12.2</td>\n",
       "      <td>30</td>\n",
       "    </tr>\n",
       "    <tr>\n",
       "      <th>6</th>\n",
       "      <td>CT</td>\n",
       "      <td>5.3</td>\n",
       "      <td>5.0</td>\n",
       "      <td>85</td>\n",
       "    </tr>\n",
       "    <tr>\n",
       "      <th>7</th>\n",
       "      <td>DE</td>\n",
       "      <td>8.8</td>\n",
       "      <td>11.1</td>\n",
       "      <td>38</td>\n",
       "    </tr>\n",
       "    <tr>\n",
       "      <th>8</th>\n",
       "      <td>FL</td>\n",
       "      <td>10.0</td>\n",
       "      <td>11.5</td>\n",
       "      <td>21</td>\n",
       "    </tr>\n",
       "    <tr>\n",
       "      <th>9</th>\n",
       "      <td>GA</td>\n",
       "      <td>12.1</td>\n",
       "      <td>13.7</td>\n",
       "      <td>6</td>\n",
       "    </tr>\n",
       "    <tr>\n",
       "      <th>10</th>\n",
       "      <td>HI</td>\n",
       "      <td>2.1</td>\n",
       "      <td>2.6</td>\n",
       "      <td>78</td>\n",
       "    </tr>\n",
       "    <tr>\n",
       "      <th>11</th>\n",
       "      <td>ID</td>\n",
       "      <td>14.1</td>\n",
       "      <td>13.2</td>\n",
       "      <td>5</td>\n",
       "    </tr>\n",
       "    <tr>\n",
       "      <th>12</th>\n",
       "      <td>IL</td>\n",
       "      <td>8.0</td>\n",
       "      <td>9.0</td>\n",
       "      <td>65</td>\n",
       "    </tr>\n",
       "    <tr>\n",
       "      <th>13</th>\n",
       "      <td>IN</td>\n",
       "      <td>11.2</td>\n",
       "      <td>12.4</td>\n",
       "      <td>11</td>\n",
       "    </tr>\n",
       "    <tr>\n",
       "      <th>14</th>\n",
       "      <td>IA</td>\n",
       "      <td>6.7</td>\n",
       "      <td>7.5</td>\n",
       "      <td>25</td>\n",
       "    </tr>\n",
       "    <tr>\n",
       "      <th>15</th>\n",
       "      <td>KS</td>\n",
       "      <td>9.3</td>\n",
       "      <td>11.3</td>\n",
       "      <td>8</td>\n",
       "    </tr>\n",
       "    <tr>\n",
       "      <th>16</th>\n",
       "      <td>KY</td>\n",
       "      <td>13.0</td>\n",
       "      <td>13.9</td>\n",
       "      <td>7</td>\n",
       "    </tr>\n",
       "    <tr>\n",
       "      <th>17</th>\n",
       "      <td>LA</td>\n",
       "      <td>18.5</td>\n",
       "      <td>19.0</td>\n",
       "      <td>12</td>\n",
       "    </tr>\n",
       "    <tr>\n",
       "      <th>18</th>\n",
       "      <td>ME</td>\n",
       "      <td>7.8</td>\n",
       "      <td>9.4</td>\n",
       "      <td>11</td>\n",
       "    </tr>\n",
       "    <tr>\n",
       "      <th>19</th>\n",
       "      <td>MD</td>\n",
       "      <td>11.9</td>\n",
       "      <td>9.0</td>\n",
       "      <td>63</td>\n",
       "    </tr>\n",
       "    <tr>\n",
       "      <th>20</th>\n",
       "      <td>MA</td>\n",
       "      <td>3.4</td>\n",
       "      <td>3.2</td>\n",
       "      <td>101</td>\n",
       "    </tr>\n",
       "    <tr>\n",
       "      <th>21</th>\n",
       "      <td>MI</td>\n",
       "      <td>10.8</td>\n",
       "      <td>11.1</td>\n",
       "      <td>20</td>\n",
       "    </tr>\n",
       "    <tr>\n",
       "      <th>22</th>\n",
       "      <td>MN</td>\n",
       "      <td>7.0</td>\n",
       "      <td>6.6</td>\n",
       "      <td>39</td>\n",
       "    </tr>\n",
       "    <tr>\n",
       "      <th>23</th>\n",
       "      <td>MS</td>\n",
       "      <td>16.0</td>\n",
       "      <td>18.3</td>\n",
       "      <td>5</td>\n",
       "    </tr>\n",
       "    <tr>\n",
       "      <th>24</th>\n",
       "      <td>MO</td>\n",
       "      <td>12.9</td>\n",
       "      <td>15.3</td>\n",
       "      <td>8</td>\n",
       "    </tr>\n",
       "    <tr>\n",
       "      <th>25</th>\n",
       "      <td>MT</td>\n",
       "      <td>16.9</td>\n",
       "      <td>16.1</td>\n",
       "      <td>4</td>\n",
       "    </tr>\n",
       "    <tr>\n",
       "      <th>26</th>\n",
       "      <td>NE</td>\n",
       "      <td>7.7</td>\n",
       "      <td>9.5</td>\n",
       "      <td>22</td>\n",
       "    </tr>\n",
       "    <tr>\n",
       "      <th>27</th>\n",
       "      <td>NV</td>\n",
       "      <td>16.1</td>\n",
       "      <td>14.8</td>\n",
       "      <td>11</td>\n",
       "    </tr>\n",
       "    <tr>\n",
       "      <th>28</th>\n",
       "      <td>NH</td>\n",
       "      <td>6.6</td>\n",
       "      <td>8.7</td>\n",
       "      <td>10</td>\n",
       "    </tr>\n",
       "    <tr>\n",
       "      <th>29</th>\n",
       "      <td>NJ</td>\n",
       "      <td>5.2</td>\n",
       "      <td>5.3</td>\n",
       "      <td>67</td>\n",
       "    </tr>\n",
       "    <tr>\n",
       "      <th>30</th>\n",
       "      <td>NM</td>\n",
       "      <td>13.9</td>\n",
       "      <td>16.0</td>\n",
       "      <td>10</td>\n",
       "    </tr>\n",
       "    <tr>\n",
       "      <th>31</th>\n",
       "      <td>NY</td>\n",
       "      <td>5.3</td>\n",
       "      <td>4.2</td>\n",
       "      <td>76</td>\n",
       "    </tr>\n",
       "    <tr>\n",
       "      <th>32</th>\n",
       "      <td>NC</td>\n",
       "      <td>12.8</td>\n",
       "      <td>11.8</td>\n",
       "      <td>30</td>\n",
       "    </tr>\n",
       "    <tr>\n",
       "      <th>33</th>\n",
       "      <td>ND</td>\n",
       "      <td>8.8</td>\n",
       "      <td>12.3</td>\n",
       "      <td>14</td>\n",
       "    </tr>\n",
       "    <tr>\n",
       "      <th>34</th>\n",
       "      <td>OH</td>\n",
       "      <td>9.6</td>\n",
       "      <td>10.3</td>\n",
       "      <td>15</td>\n",
       "    </tr>\n",
       "    <tr>\n",
       "      <th>35</th>\n",
       "      <td>OK</td>\n",
       "      <td>13.2</td>\n",
       "      <td>15.7</td>\n",
       "      <td>9</td>\n",
       "    </tr>\n",
       "    <tr>\n",
       "      <th>36</th>\n",
       "      <td>OR</td>\n",
       "      <td>10.7</td>\n",
       "      <td>11.7</td>\n",
       "      <td>24</td>\n",
       "    </tr>\n",
       "    <tr>\n",
       "      <th>37</th>\n",
       "      <td>PA</td>\n",
       "      <td>10.8</td>\n",
       "      <td>10.5</td>\n",
       "      <td>37</td>\n",
       "    </tr>\n",
       "    <tr>\n",
       "      <th>38</th>\n",
       "      <td>RI</td>\n",
       "      <td>3.6</td>\n",
       "      <td>3.0</td>\n",
       "      <td>43</td>\n",
       "    </tr>\n",
       "    <tr>\n",
       "      <th>39</th>\n",
       "      <td>SC</td>\n",
       "      <td>13.8</td>\n",
       "      <td>15.5</td>\n",
       "      <td>12</td>\n",
       "    </tr>\n",
       "    <tr>\n",
       "      <th>40</th>\n",
       "      <td>SD</td>\n",
       "      <td>10.2</td>\n",
       "      <td>10.3</td>\n",
       "      <td>5</td>\n",
       "    </tr>\n",
       "    <tr>\n",
       "      <th>41</th>\n",
       "      <td>TN</td>\n",
       "      <td>16.0</td>\n",
       "      <td>15.1</td>\n",
       "      <td>24</td>\n",
       "    </tr>\n",
       "    <tr>\n",
       "      <th>42</th>\n",
       "      <td>TX</td>\n",
       "      <td>11.1</td>\n",
       "      <td>10.7</td>\n",
       "      <td>20</td>\n",
       "    </tr>\n",
       "    <tr>\n",
       "      <th>43</th>\n",
       "      <td>UT</td>\n",
       "      <td>10.1</td>\n",
       "      <td>12.3</td>\n",
       "      <td>11</td>\n",
       "    </tr>\n",
       "    <tr>\n",
       "      <th>44</th>\n",
       "      <td>VT</td>\n",
       "      <td>6.8</td>\n",
       "      <td>10.3</td>\n",
       "      <td>3</td>\n",
       "    </tr>\n",
       "    <tr>\n",
       "      <th>45</th>\n",
       "      <td>VA</td>\n",
       "      <td>11.5</td>\n",
       "      <td>10.3</td>\n",
       "      <td>12</td>\n",
       "    </tr>\n",
       "    <tr>\n",
       "      <th>46</th>\n",
       "      <td>WA</td>\n",
       "      <td>8.8</td>\n",
       "      <td>9.7</td>\n",
       "      <td>41</td>\n",
       "    </tr>\n",
       "    <tr>\n",
       "      <th>47</th>\n",
       "      <td>WV</td>\n",
       "      <td>13.8</td>\n",
       "      <td>14.6</td>\n",
       "      <td>24</td>\n",
       "    </tr>\n",
       "    <tr>\n",
       "      <th>48</th>\n",
       "      <td>WI</td>\n",
       "      <td>8.5</td>\n",
       "      <td>8.2</td>\n",
       "      <td>24</td>\n",
       "    </tr>\n",
       "    <tr>\n",
       "      <th>49</th>\n",
       "      <td>WY</td>\n",
       "      <td>13.4</td>\n",
       "      <td>16.2</td>\n",
       "      <td>6</td>\n",
       "    </tr>\n",
       "  </tbody>\n",
       "</table>\n",
       "</div>"
      ],
      "text/plain": [
       "   STATE  RATE-2005  RATE-2014  Total Laws 2014\n",
       "0     AL       16.0       16.9               10\n",
       "1     AK       17.5       19.2                3\n",
       "2     AZ       16.1       13.5                8\n",
       "3     AR       15.7       16.6               11\n",
       "4     CA        9.5        7.4              100\n",
       "5     CO       11.6       12.2               30\n",
       "6     CT        5.3        5.0               85\n",
       "7     DE        8.8       11.1               38\n",
       "8     FL       10.0       11.5               21\n",
       "9     GA       12.1       13.7                6\n",
       "10    HI        2.1        2.6               78\n",
       "11    ID       14.1       13.2                5\n",
       "12    IL        8.0        9.0               65\n",
       "13    IN       11.2       12.4               11\n",
       "14    IA        6.7        7.5               25\n",
       "15    KS        9.3       11.3                8\n",
       "16    KY       13.0       13.9                7\n",
       "17    LA       18.5       19.0               12\n",
       "18    ME        7.8        9.4               11\n",
       "19    MD       11.9        9.0               63\n",
       "20    MA        3.4        3.2              101\n",
       "21    MI       10.8       11.1               20\n",
       "22    MN        7.0        6.6               39\n",
       "23    MS       16.0       18.3                5\n",
       "24    MO       12.9       15.3                8\n",
       "25    MT       16.9       16.1                4\n",
       "26    NE        7.7        9.5               22\n",
       "27    NV       16.1       14.8               11\n",
       "28    NH        6.6        8.7               10\n",
       "29    NJ        5.2        5.3               67\n",
       "30    NM       13.9       16.0               10\n",
       "31    NY        5.3        4.2               76\n",
       "32    NC       12.8       11.8               30\n",
       "33    ND        8.8       12.3               14\n",
       "34    OH        9.6       10.3               15\n",
       "35    OK       13.2       15.7                9\n",
       "36    OR       10.7       11.7               24\n",
       "37    PA       10.8       10.5               37\n",
       "38    RI        3.6        3.0               43\n",
       "39    SC       13.8       15.5               12\n",
       "40    SD       10.2       10.3                5\n",
       "41    TN       16.0       15.1               24\n",
       "42    TX       11.1       10.7               20\n",
       "43    UT       10.1       12.3               11\n",
       "44    VT        6.8       10.3                3\n",
       "45    VA       11.5       10.3               12\n",
       "46    WA        8.8        9.7               41\n",
       "47    WV       13.8       14.6               24\n",
       "48    WI        8.5        8.2               24\n",
       "49    WY       13.4       16.2                6"
      ]
     },
     "execution_count": 18,
     "metadata": {},
     "output_type": "execute_result"
    }
   ],
   "source": [
    "df"
   ]
  },
  {
   "cell_type": "markdown",
   "metadata": {},
   "source": [
    "* Death rates are measured per 100,000 total population."
   ]
  },
  {
   "cell_type": "code",
   "execution_count": 19,
   "metadata": {},
   "outputs": [
    {
     "data": {
      "text/plain": [
       "Index(['STATE', 'RATE-2005', 'RATE-2014', 'Total Laws 2014'], dtype='object')"
      ]
     },
     "execution_count": 19,
     "metadata": {},
     "output_type": "execute_result"
    }
   ],
   "source": [
    "df.columns"
   ]
  },
  {
   "cell_type": "markdown",
   "metadata": {},
   "source": [
    "Let's access the sample values for columns \"RATE-2005\" and \"RATE-2014\":"
   ]
  },
  {
   "cell_type": "code",
   "execution_count": 20,
   "metadata": {},
   "outputs": [
    {
     "data": {
      "text/plain": [
       "0     16.0\n",
       "1     17.5\n",
       "2     16.1\n",
       "3     15.7\n",
       "4      9.5\n",
       "5     11.6\n",
       "6      5.3\n",
       "7      8.8\n",
       "8     10.0\n",
       "9     12.1\n",
       "10     2.1\n",
       "11    14.1\n",
       "12     8.0\n",
       "13    11.2\n",
       "14     6.7\n",
       "15     9.3\n",
       "16    13.0\n",
       "17    18.5\n",
       "18     7.8\n",
       "19    11.9\n",
       "20     3.4\n",
       "21    10.8\n",
       "22     7.0\n",
       "23    16.0\n",
       "24    12.9\n",
       "25    16.9\n",
       "26     7.7\n",
       "27    16.1\n",
       "28     6.6\n",
       "29     5.2\n",
       "30    13.9\n",
       "31     5.3\n",
       "32    12.8\n",
       "33     8.8\n",
       "34     9.6\n",
       "35    13.2\n",
       "36    10.7\n",
       "37    10.8\n",
       "38     3.6\n",
       "39    13.8\n",
       "40    10.2\n",
       "41    16.0\n",
       "42    11.1\n",
       "43    10.1\n",
       "44     6.8\n",
       "45    11.5\n",
       "46     8.8\n",
       "47    13.8\n",
       "48     8.5\n",
       "49    13.4\n",
       "Name: RATE-2005, dtype: float64"
      ]
     },
     "execution_count": 20,
     "metadata": {},
     "output_type": "execute_result"
    }
   ],
   "source": [
    "df['RATE-2005']"
   ]
  },
  {
   "cell_type": "code",
   "execution_count": 21,
   "metadata": {},
   "outputs": [
    {
     "data": {
      "text/plain": [
       "array([16. , 17.5, 16.1, 15.7,  9.5, 11.6,  5.3,  8.8, 10. , 12.1,  2.1,\n",
       "       14.1,  8. , 11.2,  6.7,  9.3, 13. , 18.5,  7.8, 11.9,  3.4, 10.8,\n",
       "        7. , 16. , 12.9, 16.9,  7.7, 16.1,  6.6,  5.2, 13.9,  5.3, 12.8,\n",
       "        8.8,  9.6, 13.2, 10.7, 10.8,  3.6, 13.8, 10.2, 16. , 11.1, 10.1,\n",
       "        6.8, 11.5,  8.8, 13.8,  8.5, 13.4])"
      ]
     },
     "execution_count": 21,
     "metadata": {},
     "output_type": "execute_result"
    }
   ],
   "source": [
    "df['RATE-2005'].to_numpy()"
   ]
  },
  {
   "cell_type": "code",
   "execution_count": 22,
   "metadata": {},
   "outputs": [],
   "source": [
    "# Note that I went directly to a numpy array here, instead of making a list first\n",
    "# The reason for using a numpy array is that we want to apply numpy methods for \n",
    "# computing statistics further below!\n",
    "\n",
    "rate2005 = df['RATE-2005'].to_numpy()\n",
    "rate2014 = df['RATE-2014'].to_numpy()"
   ]
  },
  {
   "cell_type": "raw",
   "metadata": {},
   "source": [
    "Let's begin by plotting this data:"
   ]
  },
  {
   "cell_type": "markdown",
   "metadata": {},
   "source": [
    "## Histograms"
   ]
  },
  {
   "cell_type": "markdown",
   "metadata": {},
   "source": [
    "A common visualization is to look at a histogram of the data. Unlike the histograms we previously generated, this data takes on **real values**, not just integers. Fortunately, ```matplotlib``` has functions to do the hard work of making histograms for us:"
   ]
  },
  {
   "cell_type": "code",
   "execution_count": 23,
   "metadata": {},
   "outputs": [
    {
     "data": {
      "image/png": "[encoded data removed]",
      "text/plain": [
       "<Figure size 640x480 with 1 Axes>"
      ]
     },
     "metadata": {},
     "output_type": "display_data"
    }
   ],
   "source": [
    "plt.hist(rate2005)\n",
    "plt.hist(rate2014);"
   ]
  },
  {
   "cell_type": "markdown",
   "metadata": {},
   "source": [
    "Some styling will help make this more legible:"
   ]
  },
  {
   "cell_type": "code",
   "execution_count": 24,
   "metadata": {},
   "outputs": [
    {
     "data": {
      "image/png": "[encoded data removed]",
      "text/plain": [
       "<Figure size 640x480 with 1 Axes>"
      ]
     },
     "metadata": {},
     "output_type": "display_data"
    }
   ],
   "source": [
    "plt.hist(rate2005, alpha=0.5)\n",
    "plt.hist(rate2014, alpha=0.5);"
   ]
  },
  {
   "cell_type": "markdown",
   "metadata": {},
   "source": [
    "Each bar of the histogram represents a \"bin\" of data values. In fact, the counts and bin edges are returned by the hist function. We can easily change the number of bins to provide more resolution:"
   ]
  },
  {
   "cell_type": "code",
   "execution_count": 25,
   "metadata": {},
   "outputs": [
    {
     "data": {
      "image/png": "[encoded data removed]",
      "text/plain": [
       "<Figure size 640x480 with 1 Axes>"
      ]
     },
     "metadata": {},
     "output_type": "display_data"
    }
   ],
   "source": [
    "plt.hist(rate2005, alpha=0.5, bins=20)\n",
    "plt.hist(rate2014, alpha=0.5, bins=20);"
   ]
  },
  {
   "cell_type": "markdown",
   "metadata": {},
   "source": [
    "Let's add some information to make this more useful:"
   ]
  },
  {
   "cell_type": "code",
   "execution_count": 26,
   "metadata": {},
   "outputs": [
    {
     "data": {
      "image/png": "[encoded data removed]",
      "text/plain": [
       "<Figure size 640x480 with 1 Axes>"
      ]
     },
     "metadata": {},
     "output_type": "display_data"
    }
   ],
   "source": [
    "plt.hist(rate2005, alpha=0.5, bins=20, label='RATE 2005')\n",
    "plt.hist(rate2014, alpha=0.5, bins=20, label='RATE 2014')\n",
    "plt.legend();"
   ]
  },
  {
   "cell_type": "code",
   "execution_count": 27,
   "metadata": {},
   "outputs": [
    {
     "data": {
      "image/png": "[encoded data removed]",
      "text/plain": [
       "<Figure size 640x480 with 1 Axes>"
      ]
     },
     "metadata": {},
     "output_type": "display_data"
    }
   ],
   "source": [
    "plt.hist(rate2005, alpha=0.5, bins=20, label='RATE 2005')\n",
    "plt.hist(rate2014, alpha=0.5, bins=20, label='RATE 2014')\n",
    "plt.legend()\n",
    "plt.xlabel('Mortality Rate per 100k people')\n",
    "plt.ylabel('Counts');"
   ]
  },
  {
   "cell_type": "markdown",
   "metadata": {},
   "source": [
    "* **What *inferences* might you make from this plot?**"
   ]
  },
  {
   "cell_type": "markdown",
   "metadata": {},
   "source": [
    "However, it does not make sense to make the number of bins very large compared to the data size."
   ]
  },
  {
   "cell_type": "code",
   "execution_count": 28,
   "metadata": {},
   "outputs": [
    {
     "data": {
      "image/png": "[encoded data removed]",
      "text/plain": [
       "<Figure size 640x480 with 1 Axes>"
      ]
     },
     "metadata": {},
     "output_type": "display_data"
    }
   ],
   "source": [
    "plt.hist(rate2005, alpha=0.5, bins=200, label='RATE 2005')\n",
    "plt.hist(rate2014, alpha=0.5, bins=200, label='RATE 2014')\n",
    "plt.legend()\n",
    "plt.xlabel('Mortality Rate per 100k people')\n",
    "plt.ylabel('Counts');"
   ]
  },
  {
   "cell_type": "markdown",
   "metadata": {},
   "source": [
    "## Summary Statistics\n",
    "\n",
    "Summary statistics are values calculated from sample data that measure some characteristic about the data.\n",
    "\n",
    "* **What is the most common summary statistic?**"
   ]
  },
  {
   "cell_type": "markdown",
   "metadata": {},
   "source": [
    "The **average** or **sample mean**. I **strongly** prefer the word average for the statistic computed from a set of data. \n",
    "\n",
    "We will use the word **mean** to refer to a type of average for random phenomena, when we do not have specific samples for those values. \n",
    "\n",
    "* What does the **average** or **sample mean** mean?\n",
    "\n",
    "    1. The value where most of the data \"sits\" is centered around\n",
    "    \n",
    "    2. The value that has minimum distance from every value\n",
    "    \n",
    "    3. Value most likely to occur\n",
    "    \n",
    "    4. Value that divides group into 2 sets of equal size \n",
    "\n",
    "Both ```pandas``` and ```numpy``` provide methods to calculate the average:"
   ]
  },
  {
   "cell_type": "code",
   "execution_count": 29,
   "metadata": {},
   "outputs": [
    {
     "data": {
      "text/plain": [
       "10.81"
      ]
     },
     "execution_count": 29,
     "metadata": {},
     "output_type": "execute_result"
    }
   ],
   "source": [
    "df['RATE-2005'].mean() #average"
   ]
  },
  {
   "cell_type": "code",
   "execution_count": 30,
   "metadata": {},
   "outputs": [
    {
     "data": {
      "text/plain": [
       "11.440000000000003"
      ]
     },
     "execution_count": 30,
     "metadata": {},
     "output_type": "execute_result"
    }
   ],
   "source": [
    "df['RATE-2014'].mean()"
   ]
  },
  {
   "cell_type": "code",
   "execution_count": 31,
   "metadata": {},
   "outputs": [
    {
     "data": {
      "text/plain": [
       "10.809999999999997"
      ]
     },
     "execution_count": 31,
     "metadata": {},
     "output_type": "execute_result"
    }
   ],
   "source": [
    "# Average over numpy arrays\n",
    "\n",
    "rate2005.mean()"
   ]
  },
  {
   "cell_type": "code",
   "execution_count": 32,
   "metadata": {},
   "outputs": [
    {
     "data": {
      "text/plain": [
       "11.44"
      ]
     },
     "execution_count": 32,
     "metadata": {},
     "output_type": "execute_result"
    }
   ],
   "source": [
    "rate2014.mean()"
   ]
  },
  {
   "cell_type": "code",
   "execution_count": 33,
   "metadata": {},
   "outputs": [
    {
     "data": {
      "text/plain": [
       "10.809999999999997"
      ]
     },
     "execution_count": 33,
     "metadata": {},
     "output_type": "execute_result"
    }
   ],
   "source": [
    "np.mean(rate2005)"
   ]
  },
  {
   "cell_type": "code",
   "execution_count": 34,
   "metadata": {},
   "outputs": [
    {
     "data": {
      "text/plain": [
       "11.44"
      ]
     },
     "execution_count": 34,
     "metadata": {},
     "output_type": "execute_result"
    }
   ],
   "source": [
    "np.mean(rate2014)"
   ]
  },
  {
   "cell_type": "markdown",
   "metadata": {},
   "source": [
    "Other **summary statistics** are used to summarize a set of observations, the most common ones are:\n",
    "\n",
    "1. **Average** - the value where most of the data \"sits\" is centered around\n",
    "\n",
    "2. **Size** - number of observations in the sample data\n",
    "\n",
    "3. **Count** - number of non-empty observations in the sample data\n",
    "\n",
    "4. **Median** - the \"middle number\" of the sorted sample data values\n",
    "\n",
    "5. **Standard deviation** - is a measure of dispersion; it measures the average distance between a single observation and the average value\n",
    "\n",
    "6. **Quartiles** - the boundary values for the lowest, middle and upper quarters of the sample data\n",
    "\n",
    "7. **Inter-Quantile Range (IQR)** - where the \"middle fifty\" percent of the data is"
   ]
  },
  {
   "cell_type": "markdown",
   "metadata": {},
   "source": [
    "In ```pandas``` we can print a summary statistic table this way:"
   ]
  },
  {
   "cell_type": "code",
   "execution_count": 35,
   "metadata": {},
   "outputs": [
    {
     "data": {
      "text/html": [
       "<div>\n",
       "<style scoped>\n",
       "    .dataframe tbody tr th:only-of-type {\n",
       "        vertical-align: middle;\n",
       "    }\n",
       "\n",
       "    .dataframe tbody tr th {\n",
       "        vertical-align: top;\n",
       "    }\n",
       "\n",
       "    .dataframe thead th {\n",
       "        text-align: right;\n",
       "    }\n",
       "</style>\n",
       "<table border=\"1\" class=\"dataframe\">\n",
       "  <thead>\n",
       "    <tr style=\"text-align: right;\">\n",
       "      <th></th>\n",
       "      <th>STATE</th>\n",
       "      <th>RATE-2005</th>\n",
       "      <th>RATE-2014</th>\n",
       "      <th>Total Laws 2014</th>\n",
       "    </tr>\n",
       "  </thead>\n",
       "  <tbody>\n",
       "    <tr>\n",
       "      <th>0</th>\n",
       "      <td>AL</td>\n",
       "      <td>16.0</td>\n",
       "      <td>16.9</td>\n",
       "      <td>10</td>\n",
       "    </tr>\n",
       "    <tr>\n",
       "      <th>1</th>\n",
       "      <td>AK</td>\n",
       "      <td>17.5</td>\n",
       "      <td>19.2</td>\n",
       "      <td>3</td>\n",
       "    </tr>\n",
       "    <tr>\n",
       "      <th>2</th>\n",
       "      <td>AZ</td>\n",
       "      <td>16.1</td>\n",
       "      <td>13.5</td>\n",
       "      <td>8</td>\n",
       "    </tr>\n",
       "    <tr>\n",
       "      <th>3</th>\n",
       "      <td>AR</td>\n",
       "      <td>15.7</td>\n",
       "      <td>16.6</td>\n",
       "      <td>11</td>\n",
       "    </tr>\n",
       "    <tr>\n",
       "      <th>4</th>\n",
       "      <td>CA</td>\n",
       "      <td>9.5</td>\n",
       "      <td>7.4</td>\n",
       "      <td>100</td>\n",
       "    </tr>\n",
       "    <tr>\n",
       "      <th>5</th>\n",
       "      <td>CO</td>\n",
       "      <td>11.6</td>\n",
       "      <td>12.2</td>\n",
       "      <td>30</td>\n",
       "    </tr>\n",
       "    <tr>\n",
       "      <th>6</th>\n",
       "      <td>CT</td>\n",
       "      <td>5.3</td>\n",
       "      <td>5.0</td>\n",
       "      <td>85</td>\n",
       "    </tr>\n",
       "    <tr>\n",
       "      <th>7</th>\n",
       "      <td>DE</td>\n",
       "      <td>8.8</td>\n",
       "      <td>11.1</td>\n",
       "      <td>38</td>\n",
       "    </tr>\n",
       "    <tr>\n",
       "      <th>8</th>\n",
       "      <td>FL</td>\n",
       "      <td>10.0</td>\n",
       "      <td>11.5</td>\n",
       "      <td>21</td>\n",
       "    </tr>\n",
       "    <tr>\n",
       "      <th>9</th>\n",
       "      <td>GA</td>\n",
       "      <td>12.1</td>\n",
       "      <td>13.7</td>\n",
       "      <td>6</td>\n",
       "    </tr>\n",
       "    <tr>\n",
       "      <th>10</th>\n",
       "      <td>HI</td>\n",
       "      <td>2.1</td>\n",
       "      <td>2.6</td>\n",
       "      <td>78</td>\n",
       "    </tr>\n",
       "    <tr>\n",
       "      <th>11</th>\n",
       "      <td>ID</td>\n",
       "      <td>14.1</td>\n",
       "      <td>13.2</td>\n",
       "      <td>5</td>\n",
       "    </tr>\n",
       "    <tr>\n",
       "      <th>12</th>\n",
       "      <td>IL</td>\n",
       "      <td>8.0</td>\n",
       "      <td>9.0</td>\n",
       "      <td>65</td>\n",
       "    </tr>\n",
       "    <tr>\n",
       "      <th>13</th>\n",
       "      <td>IN</td>\n",
       "      <td>11.2</td>\n",
       "      <td>12.4</td>\n",
       "      <td>11</td>\n",
       "    </tr>\n",
       "    <tr>\n",
       "      <th>14</th>\n",
       "      <td>IA</td>\n",
       "      <td>6.7</td>\n",
       "      <td>7.5</td>\n",
       "      <td>25</td>\n",
       "    </tr>\n",
       "    <tr>\n",
       "      <th>15</th>\n",
       "      <td>KS</td>\n",
       "      <td>9.3</td>\n",
       "      <td>11.3</td>\n",
       "      <td>8</td>\n",
       "    </tr>\n",
       "    <tr>\n",
       "      <th>16</th>\n",
       "      <td>KY</td>\n",
       "      <td>13.0</td>\n",
       "      <td>13.9</td>\n",
       "      <td>7</td>\n",
       "    </tr>\n",
       "    <tr>\n",
       "      <th>17</th>\n",
       "      <td>LA</td>\n",
       "      <td>18.5</td>\n",
       "      <td>19.0</td>\n",
       "      <td>12</td>\n",
       "    </tr>\n",
       "    <tr>\n",
       "      <th>18</th>\n",
       "      <td>ME</td>\n",
       "      <td>7.8</td>\n",
       "      <td>9.4</td>\n",
       "      <td>11</td>\n",
       "    </tr>\n",
       "    <tr>\n",
       "      <th>19</th>\n",
       "      <td>MD</td>\n",
       "      <td>11.9</td>\n",
       "      <td>9.0</td>\n",
       "      <td>63</td>\n",
       "    </tr>\n",
       "    <tr>\n",
       "      <th>20</th>\n",
       "      <td>MA</td>\n",
       "      <td>3.4</td>\n",
       "      <td>3.2</td>\n",
       "      <td>101</td>\n",
       "    </tr>\n",
       "    <tr>\n",
       "      <th>21</th>\n",
       "      <td>MI</td>\n",
       "      <td>10.8</td>\n",
       "      <td>11.1</td>\n",
       "      <td>20</td>\n",
       "    </tr>\n",
       "    <tr>\n",
       "      <th>22</th>\n",
       "      <td>MN</td>\n",
       "      <td>7.0</td>\n",
       "      <td>6.6</td>\n",
       "      <td>39</td>\n",
       "    </tr>\n",
       "    <tr>\n",
       "      <th>23</th>\n",
       "      <td>MS</td>\n",
       "      <td>16.0</td>\n",
       "      <td>18.3</td>\n",
       "      <td>5</td>\n",
       "    </tr>\n",
       "    <tr>\n",
       "      <th>24</th>\n",
       "      <td>MO</td>\n",
       "      <td>12.9</td>\n",
       "      <td>15.3</td>\n",
       "      <td>8</td>\n",
       "    </tr>\n",
       "    <tr>\n",
       "      <th>25</th>\n",
       "      <td>MT</td>\n",
       "      <td>16.9</td>\n",
       "      <td>16.1</td>\n",
       "      <td>4</td>\n",
       "    </tr>\n",
       "    <tr>\n",
       "      <th>26</th>\n",
       "      <td>NE</td>\n",
       "      <td>7.7</td>\n",
       "      <td>9.5</td>\n",
       "      <td>22</td>\n",
       "    </tr>\n",
       "    <tr>\n",
       "      <th>27</th>\n",
       "      <td>NV</td>\n",
       "      <td>16.1</td>\n",
       "      <td>14.8</td>\n",
       "      <td>11</td>\n",
       "    </tr>\n",
       "    <tr>\n",
       "      <th>28</th>\n",
       "      <td>NH</td>\n",
       "      <td>6.6</td>\n",
       "      <td>8.7</td>\n",
       "      <td>10</td>\n",
       "    </tr>\n",
       "    <tr>\n",
       "      <th>29</th>\n",
       "      <td>NJ</td>\n",
       "      <td>5.2</td>\n",
       "      <td>5.3</td>\n",
       "      <td>67</td>\n",
       "    </tr>\n",
       "    <tr>\n",
       "      <th>30</th>\n",
       "      <td>NM</td>\n",
       "      <td>13.9</td>\n",
       "      <td>16.0</td>\n",
       "      <td>10</td>\n",
       "    </tr>\n",
       "    <tr>\n",
       "      <th>31</th>\n",
       "      <td>NY</td>\n",
       "      <td>5.3</td>\n",
       "      <td>4.2</td>\n",
       "      <td>76</td>\n",
       "    </tr>\n",
       "    <tr>\n",
       "      <th>32</th>\n",
       "      <td>NC</td>\n",
       "      <td>12.8</td>\n",
       "      <td>11.8</td>\n",
       "      <td>30</td>\n",
       "    </tr>\n",
       "    <tr>\n",
       "      <th>33</th>\n",
       "      <td>ND</td>\n",
       "      <td>8.8</td>\n",
       "      <td>12.3</td>\n",
       "      <td>14</td>\n",
       "    </tr>\n",
       "    <tr>\n",
       "      <th>34</th>\n",
       "      <td>OH</td>\n",
       "      <td>9.6</td>\n",
       "      <td>10.3</td>\n",
       "      <td>15</td>\n",
       "    </tr>\n",
       "    <tr>\n",
       "      <th>35</th>\n",
       "      <td>OK</td>\n",
       "      <td>13.2</td>\n",
       "      <td>15.7</td>\n",
       "      <td>9</td>\n",
       "    </tr>\n",
       "    <tr>\n",
       "      <th>36</th>\n",
       "      <td>OR</td>\n",
       "      <td>10.7</td>\n",
       "      <td>11.7</td>\n",
       "      <td>24</td>\n",
       "    </tr>\n",
       "    <tr>\n",
       "      <th>37</th>\n",
       "      <td>PA</td>\n",
       "      <td>10.8</td>\n",
       "      <td>10.5</td>\n",
       "      <td>37</td>\n",
       "    </tr>\n",
       "    <tr>\n",
       "      <th>38</th>\n",
       "      <td>RI</td>\n",
       "      <td>3.6</td>\n",
       "      <td>3.0</td>\n",
       "      <td>43</td>\n",
       "    </tr>\n",
       "    <tr>\n",
       "      <th>39</th>\n",
       "      <td>SC</td>\n",
       "      <td>13.8</td>\n",
       "      <td>15.5</td>\n",
       "      <td>12</td>\n",
       "    </tr>\n",
       "    <tr>\n",
       "      <th>40</th>\n",
       "      <td>SD</td>\n",
       "      <td>10.2</td>\n",
       "      <td>10.3</td>\n",
       "      <td>5</td>\n",
       "    </tr>\n",
       "    <tr>\n",
       "      <th>41</th>\n",
       "      <td>TN</td>\n",
       "      <td>16.0</td>\n",
       "      <td>15.1</td>\n",
       "      <td>24</td>\n",
       "    </tr>\n",
       "    <tr>\n",
       "      <th>42</th>\n",
       "      <td>TX</td>\n",
       "      <td>11.1</td>\n",
       "      <td>10.7</td>\n",
       "      <td>20</td>\n",
       "    </tr>\n",
       "    <tr>\n",
       "      <th>43</th>\n",
       "      <td>UT</td>\n",
       "      <td>10.1</td>\n",
       "      <td>12.3</td>\n",
       "      <td>11</td>\n",
       "    </tr>\n",
       "    <tr>\n",
       "      <th>44</th>\n",
       "      <td>VT</td>\n",
       "      <td>6.8</td>\n",
       "      <td>10.3</td>\n",
       "      <td>3</td>\n",
       "    </tr>\n",
       "    <tr>\n",
       "      <th>45</th>\n",
       "      <td>VA</td>\n",
       "      <td>11.5</td>\n",
       "      <td>10.3</td>\n",
       "      <td>12</td>\n",
       "    </tr>\n",
       "    <tr>\n",
       "      <th>46</th>\n",
       "      <td>WA</td>\n",
       "      <td>8.8</td>\n",
       "      <td>9.7</td>\n",
       "      <td>41</td>\n",
       "    </tr>\n",
       "    <tr>\n",
       "      <th>47</th>\n",
       "      <td>WV</td>\n",
       "      <td>13.8</td>\n",
       "      <td>14.6</td>\n",
       "      <td>24</td>\n",
       "    </tr>\n",
       "    <tr>\n",
       "      <th>48</th>\n",
       "      <td>WI</td>\n",
       "      <td>8.5</td>\n",
       "      <td>8.2</td>\n",
       "      <td>24</td>\n",
       "    </tr>\n",
       "    <tr>\n",
       "      <th>49</th>\n",
       "      <td>WY</td>\n",
       "      <td>13.4</td>\n",
       "      <td>16.2</td>\n",
       "      <td>6</td>\n",
       "    </tr>\n",
       "  </tbody>\n",
       "</table>\n",
       "</div>"
      ],
      "text/plain": [
       "   STATE  RATE-2005  RATE-2014  Total Laws 2014\n",
       "0     AL       16.0       16.9               10\n",
       "1     AK       17.5       19.2                3\n",
       "2     AZ       16.1       13.5                8\n",
       "3     AR       15.7       16.6               11\n",
       "4     CA        9.5        7.4              100\n",
       "5     CO       11.6       12.2               30\n",
       "6     CT        5.3        5.0               85\n",
       "7     DE        8.8       11.1               38\n",
       "8     FL       10.0       11.5               21\n",
       "9     GA       12.1       13.7                6\n",
       "10    HI        2.1        2.6               78\n",
       "11    ID       14.1       13.2                5\n",
       "12    IL        8.0        9.0               65\n",
       "13    IN       11.2       12.4               11\n",
       "14    IA        6.7        7.5               25\n",
       "15    KS        9.3       11.3                8\n",
       "16    KY       13.0       13.9                7\n",
       "17    LA       18.5       19.0               12\n",
       "18    ME        7.8        9.4               11\n",
       "19    MD       11.9        9.0               63\n",
       "20    MA        3.4        3.2              101\n",
       "21    MI       10.8       11.1               20\n",
       "22    MN        7.0        6.6               39\n",
       "23    MS       16.0       18.3                5\n",
       "24    MO       12.9       15.3                8\n",
       "25    MT       16.9       16.1                4\n",
       "26    NE        7.7        9.5               22\n",
       "27    NV       16.1       14.8               11\n",
       "28    NH        6.6        8.7               10\n",
       "29    NJ        5.2        5.3               67\n",
       "30    NM       13.9       16.0               10\n",
       "31    NY        5.3        4.2               76\n",
       "32    NC       12.8       11.8               30\n",
       "33    ND        8.8       12.3               14\n",
       "34    OH        9.6       10.3               15\n",
       "35    OK       13.2       15.7                9\n",
       "36    OR       10.7       11.7               24\n",
       "37    PA       10.8       10.5               37\n",
       "38    RI        3.6        3.0               43\n",
       "39    SC       13.8       15.5               12\n",
       "40    SD       10.2       10.3                5\n",
       "41    TN       16.0       15.1               24\n",
       "42    TX       11.1       10.7               20\n",
       "43    UT       10.1       12.3               11\n",
       "44    VT        6.8       10.3                3\n",
       "45    VA       11.5       10.3               12\n",
       "46    WA        8.8        9.7               41\n",
       "47    WV       13.8       14.6               24\n",
       "48    WI        8.5        8.2               24\n",
       "49    WY       13.4       16.2                6"
      ]
     },
     "execution_count": 35,
     "metadata": {},
     "output_type": "execute_result"
    }
   ],
   "source": [
    "df"
   ]
  },
  {
   "cell_type": "code",
   "execution_count": 36,
   "metadata": {},
   "outputs": [
    {
     "data": {
      "text/html": [
       "<div>\n",
       "<style scoped>\n",
       "    .dataframe tbody tr th:only-of-type {\n",
       "        vertical-align: middle;\n",
       "    }\n",
       "\n",
       "    .dataframe tbody tr th {\n",
       "        vertical-align: top;\n",
       "    }\n",
       "\n",
       "    .dataframe thead th {\n",
       "        text-align: right;\n",
       "    }\n",
       "</style>\n",
       "<table border=\"1\" class=\"dataframe\">\n",
       "  <thead>\n",
       "    <tr style=\"text-align: right;\">\n",
       "      <th></th>\n",
       "      <th>RATE-2005</th>\n",
       "      <th>RATE-2014</th>\n",
       "      <th>Total Laws 2014</th>\n",
       "    </tr>\n",
       "  </thead>\n",
       "  <tbody>\n",
       "    <tr>\n",
       "      <th>count</th>\n",
       "      <td>50.000000</td>\n",
       "      <td>50.000000</td>\n",
       "      <td>50.000000</td>\n",
       "    </tr>\n",
       "    <tr>\n",
       "      <th>mean</th>\n",
       "      <td>10.810000</td>\n",
       "      <td>11.440000</td>\n",
       "      <td>26.480000</td>\n",
       "    </tr>\n",
       "    <tr>\n",
       "      <th>std</th>\n",
       "      <td>3.940644</td>\n",
       "      <td>4.149748</td>\n",
       "      <td>26.142654</td>\n",
       "    </tr>\n",
       "    <tr>\n",
       "      <th>min</th>\n",
       "      <td>2.100000</td>\n",
       "      <td>2.600000</td>\n",
       "      <td>3.000000</td>\n",
       "    </tr>\n",
       "    <tr>\n",
       "      <th>25%</th>\n",
       "      <td>8.125000</td>\n",
       "      <td>9.100000</td>\n",
       "      <td>9.250000</td>\n",
       "    </tr>\n",
       "    <tr>\n",
       "      <th>50%</th>\n",
       "      <td>10.800000</td>\n",
       "      <td>11.400000</td>\n",
       "      <td>14.500000</td>\n",
       "    </tr>\n",
       "    <tr>\n",
       "      <th>75%</th>\n",
       "      <td>13.700000</td>\n",
       "      <td>14.750000</td>\n",
       "      <td>35.250000</td>\n",
       "    </tr>\n",
       "    <tr>\n",
       "      <th>max</th>\n",
       "      <td>18.500000</td>\n",
       "      <td>19.200000</td>\n",
       "      <td>101.000000</td>\n",
       "    </tr>\n",
       "  </tbody>\n",
       "</table>\n",
       "</div>"
      ],
      "text/plain": [
       "       RATE-2005  RATE-2014  Total Laws 2014\n",
       "count  50.000000  50.000000        50.000000\n",
       "mean   10.810000  11.440000        26.480000\n",
       "std     3.940644   4.149748        26.142654\n",
       "min     2.100000   2.600000         3.000000\n",
       "25%     8.125000   9.100000         9.250000\n",
       "50%    10.800000  11.400000        14.500000\n",
       "75%    13.700000  14.750000        35.250000\n",
       "max    18.500000  19.200000       101.000000"
      ]
     },
     "execution_count": 36,
     "metadata": {},
     "output_type": "execute_result"
    }
   ],
   "source": [
    "df.describe()"
   ]
  },
  {
   "cell_type": "markdown",
   "metadata": {},
   "source": [
    "A good graphical descriptor that displays a few of these summary statistics is the **boxplot** or **whisker plot**:"
   ]
  },
  {
   "cell_type": "markdown",
   "metadata": {},
   "source": [
    "![boxplot](https://www.simplypsychology.org/boxplot.jpg)"
   ]
  },
  {
   "cell_type": "markdown",
   "metadata": {},
   "source": [
    "We can use the ```matplotlib``` to display a boxplot:"
   ]
  },
  {
   "cell_type": "code",
   "execution_count": 37,
   "metadata": {},
   "outputs": [
    {
     "data": {
      "image/png": "[encoded data removed]",
      "text/plain": [
       "<Figure size 640x480 with 1 Axes>"
      ]
     },
     "metadata": {},
     "output_type": "display_data"
    }
   ],
   "source": [
    "plt.boxplot(df['RATE-2005'].to_numpy(), vert=False)\n",
    "plt.grid(True);"
   ]
  },
  {
   "cell_type": "code",
   "execution_count": 38,
   "metadata": {},
   "outputs": [
    {
     "data": {
      "image/png": "[encoded data removed]",
      "text/plain": [
       "<Figure size 640x480 with 1 Axes>"
      ]
     },
     "metadata": {},
     "output_type": "display_data"
    }
   ],
   "source": [
    "plt.boxplot(df[['RATE-2005','RATE-2014']].to_numpy(), vert=False)\n",
    "plt.grid(True);"
   ]
  },
  {
   "cell_type": "markdown",
   "metadata": {},
   "source": [
    "Or we can use built-in ```pandas``` graphic visualizations directly on dataframes:"
   ]
  },
  {
   "cell_type": "code",
   "execution_count": 39,
   "metadata": {},
   "outputs": [
    {
     "data": {
      "image/png": "[encoded data removed]",
      "text/plain": [
       "<Figure size 500x500 with 1 Axes>"
      ]
     },
     "metadata": {},
     "output_type": "display_data"
    }
   ],
   "source": [
    "df[['RATE-2005', 'RATE-2014']].boxplot(vert=False, figsize=(5,5), fontsize=15);"
   ]
  },
  {
   "cell_type": "markdown",
   "metadata": {},
   "source": [
    "* **What *inferences* might you make from this plot?**"
   ]
  },
  {
   "cell_type": "markdown",
   "metadata": {},
   "source": [
    "The sample mean of the 2014 data set is larger than that for the 2005 data set. This may indicate that the overturn of the assault weapon ban in 2014 is associated with an increase in firearms mortality.\n",
    "\n",
    "However, the difference is relatively small, as are the sample sizes (50)."
   ]
  },
  {
   "cell_type": "code",
   "execution_count": 40,
   "metadata": {},
   "outputs": [
    {
     "data": {
      "text/plain": [
       "0.6300000000000026"
      ]
     },
     "execution_count": 40,
     "metadata": {},
     "output_type": "execute_result"
    }
   ],
   "source": [
    "diff = rate2014.mean() - rate2005.mean()\n",
    "\n",
    "diff"
   ]
  },
  {
   "cell_type": "markdown",
   "metadata": {},
   "source": [
    "By performing EDA, we have gathered a lot of information and we may want to start answering some questions that require statistical hypothesis testing and modeling. \n",
    "\n",
    "* For example, for the firearm law example, we may *hypothesize* that the observed average difference are just based on random sampling from the underlying population, that is that the ban did not have an effect on firearm mortality rate."
   ]
  },
  {
   "cell_type": "markdown",
   "metadata": {},
   "source": [
    "___"
   ]
  },
  {
   "cell_type": "markdown",
   "metadata": {},
   "source": [
    "# Binary Hypothesis Testing"
   ]
  },
  {
   "cell_type": "markdown",
   "metadata": {},
   "source": [
    "* The *null hypothesis* is that there is no real difference between the two data sets, and any differences are just based on random sampling from the underlying population.\n",
    "\n",
    "So, let's **assume that the two samples are from the same population**. \n",
    "\n",
    "* By combining the samples (called **pooling**), we get a new subset of the original population, if the null hypothesis is true. Moreover, any sample from this better represents the original population than either of the samples.\n",
    "\n",
    "* We can check whether the null hypothesis is true by checking how often samples from the pooled data set have a difference in means as large as the one observed."
   ]
  },
  {
   "cell_type": "markdown",
   "metadata": {},
   "source": [
    "<div class=\"alert alert-info\">\n",
    "    <b>Pooling</b>\n",
    "    \n",
    "**Pooling** describes the practice of gathering together small sets of data that are assumed to have been *drawn* from the same underlying population and using the combined larger set (the *pool*) to obtain a more precise estimate of that population.\n",
    "</div>"
   ]
  },
  {
   "cell_type": "markdown",
   "metadata": {},
   "source": [
    "## Sampling"
   ]
  },
  {
   "cell_type": "markdown",
   "metadata": {},
   "source": [
    "**The big question:** to sample **with replacement** or **without replacement**?"
   ]
  },
  {
   "cell_type": "markdown",
   "metadata": {},
   "source": [
    "<div class=\"alert alert-info\">\n",
    "    <b>Bootstrapping</b>\n",
    "    \n",
    "**Sampling with replacement** from a pooling set is called **bootstrapping** and is the most popular resampling technique. It is meant to better emulate independent sampling from the original population.\n",
    "</div>"
   ]
  },
  {
   "cell_type": "markdown",
   "metadata": {},
   "source": [
    "<div class=\"alert alert-info\">\n",
    "    <b>Permutations</b>\n",
    "    \n",
    "**Sampling without replacement** from a pooling set better emulates **permutation** tests, where we check every possible reordering of the data into samples. This will be discussed more later.\n",
    "</div>"
   ]
  },
  {
   "cell_type": "markdown",
   "metadata": {},
   "source": [
    "* Generally, *sampling without replacement* is more conservative (produces a higher $p$-value) than bootstrapping. \n",
    "* Bootstraping is **easy** and **most popular**, and we apply it here."
   ]
  },
  {
   "cell_type": "markdown",
   "metadata": {},
   "source": [
    "**The Bootstrap Idea:** The original sample approximates the population from which it was drawn. So *resamples* from this sample approximate what we would get if we took many samples from the population. The bootstrap distribution of a statistic, based on many resamples, approximates the sampling distribution of the statistic, based on many samples."
   ]
  },
  {
   "cell_type": "markdown",
   "metadata": {},
   "source": [
    "___"
   ]
  },
  {
   "cell_type": "markdown",
   "metadata": {},
   "source": [
    "### Bootstrap Model 1"
   ]
  },
  {
   "cell_type": "code",
   "execution_count": 41,
   "metadata": {},
   "outputs": [
    {
     "data": {
      "text/plain": [
       "array([16. , 17.5, 16.1, 15.7,  9.5, 11.6,  5.3,  8.8, 10. , 12.1,  2.1,\n",
       "       14.1,  8. , 11.2,  6.7,  9.3, 13. , 18.5,  7.8, 11.9,  3.4, 10.8,\n",
       "        7. , 16. , 12.9, 16.9,  7.7, 16.1,  6.6,  5.2, 13.9,  5.3, 12.8,\n",
       "        8.8,  9.6, 13.2, 10.7, 10.8,  3.6, 13.8, 10.2, 16. , 11.1, 10.1,\n",
       "        6.8, 11.5,  8.8, 13.8,  8.5, 13.4, 16.9, 19.2, 13.5, 16.6,  7.4,\n",
       "       12.2,  5. , 11.1, 11.5, 13.7,  2.6, 13.2,  9. , 12.4,  7.5, 11.3,\n",
       "       13.9, 19. ,  9.4,  9. ,  3.2, 11.1,  6.6, 18.3, 15.3, 16.1,  9.5,\n",
       "       14.8,  8.7,  5.3, 16. ,  4.2, 11.8, 12.3, 10.3, 15.7, 11.7, 10.5,\n",
       "        3. , 15.5, 10.3, 15.1, 10.7, 12.3, 10.3, 10.3,  9.7, 14.6,  8.2,\n",
       "       16.2])"
      ]
     },
     "execution_count": 41,
     "metadata": {},
     "output_type": "execute_result"
    }
   ],
   "source": [
    "pooled = np.concatenate((rate2005, rate2014))\n",
    "pooled"
   ]
  },
  {
   "cell_type": "code",
   "execution_count": 42,
   "metadata": {},
   "outputs": [
    {
     "name": "stdout",
     "output_type": "stream",
     "text": [
      "100 100 (100,)\n"
     ]
    }
   ],
   "source": [
    "print(pooled.size, len(pooled), pooled.shape)"
   ]
  },
  {
   "cell_type": "markdown",
   "metadata": {},
   "source": [
    "* How would we randomly choose from this data **with replacement**?\n",
    "\n",
    "* And, if each resample is a new sample, which size should the resample have?"
   ]
  },
  {
   "cell_type": "code",
   "execution_count": 43,
   "metadata": {},
   "outputs": [
    {
     "name": "stdout",
     "output_type": "stream",
     "text": [
      "[2.1, 9.5, 9.4, 13.5, 7.8, 11.6, 7.0, 5.2, 13.4, 11.1, 11.8, 7.0, 18.3, 14.8, 11.5, 9.5, 8.8, 13.9, 16.0, 5.3, 10.8, 8.5, 9.0, 7.0, 16.0, 18.5, 12.4, 19.0, 10.7, 4.2, 13.2, 15.7, 9.3, 11.5, 5.3, 19.0, 9.6, 13.2, 10.8, 5.3, 15.7, 9.5, 9.0, 12.2, 10.3, 10.8, 11.5, 16.6, 18.3, 16.6]\n"
     ]
    }
   ],
   "source": [
    "# resample for, for example, rate-2005\n",
    "print(random.choices(pooled, k=50))"
   ]
  },
  {
   "cell_type": "markdown",
   "metadata": {
    "slideshow": {
     "slide_type": "slide"
    }
   },
   "source": [
    "Recall that ```numpy.random``` has a similar method:"
   ]
  },
  {
   "cell_type": "code",
   "execution_count": 44,
   "metadata": {},
   "outputs": [
    {
     "data": {
      "text/plain": [
       "array([ 5. ,  8.5, 16.9,  3.6,  5.3, 16. , 11.6, 15.7,  7.7, 10.3, 12.3,\n",
       "       12.1, 10.3, 13. , 11.7, 10.3,  9.5, 13.2, 11.8, 15.5, 10.2, 13.2,\n",
       "       16.1, 16.1, 13.8,  8.8, 11.2, 12.3, 10.1, 10.3, 12.3,  3.2, 16.1,\n",
       "        6.7,  5.3,  8.7, 11.3, 16. , 16. , 12.8,  8.8,  5. ,  5. ,  5.3,\n",
       "        8.5, 11.3,  3.4, 16.1, 16. ,  7. ])"
      ]
     },
     "execution_count": 44,
     "metadata": {},
     "output_type": "execute_result"
    }
   ],
   "source": [
    "npr.choice(pooled, size=50)"
   ]
  },
  {
   "cell_type": "markdown",
   "metadata": {},
   "source": [
    "For a significance level of $\\alpha = 0.05$, let's build a Bootstrap simulation to compute the probability of observing a mean difference of 0.63 or larger:"
   ]
  },
  {
   "cell_type": "code",
   "execution_count": 45,
   "metadata": {},
   "outputs": [
    {
     "name": "stdout",
     "output_type": "stream",
     "text": [
      "Under null hypothesis, observe effect this large with prob.  0.4426\n",
      "p-value =  0.4426\n"
     ]
    }
   ],
   "source": [
    "num_sims=10_000\n",
    "event_count=0\n",
    "\n",
    "for sim in range(num_sims):\n",
    "    resample05 = npr.choice(pooled, size=50) # Bootstrap, sampling from pooling with replacement\n",
    "    resample14 = npr.choice(pooled, size=50) \n",
    "    \n",
    "    # Computes resample averages\n",
    "    mean05 = resample05.mean()\n",
    "    mean14 = resample14.mean()\n",
    "    \n",
    "    # statistic - difference of the sample averages\n",
    "    resample_diff = mean14 - mean05\n",
    "    \n",
    "    # Compare the resampled statistic with the observed statistic value (diff)\n",
    "    # We want to count extreme events, i.e., observing a resampled \n",
    "    #statistic larger or equal then the original one\n",
    "    if abs(resample_diff) >= diff: # 2-sided hypothesis test \n",
    "        event_count+=1\n",
    "    \n",
    "    \n",
    "print(\"Under null hypothesis, observe effect this large with prob. \", event_count/num_sims)\n",
    "print('p-value = ',event_count/num_sims)"
   ]
  },
  {
   "cell_type": "markdown",
   "metadata": {},
   "source": [
    "* **What is the conclusion?**\n",
    "\n",
    "    * **Is the result statistically significant?** No, because the p-value is larger than $\\alpha=0.05$.\n",
    "    * **Can we reject the null hypothesis?** No, \"we cannot reject the null hypothesis\".\n",
    "    * **Conclusion:** The data suggests that the ban did not have an effect of firearm mortality rate."
   ]
  },
  {
   "cell_type": "markdown",
   "metadata": {},
   "source": [
    "### Bootstrap Model 2"
   ]
  },
  {
   "cell_type": "markdown",
   "metadata": {},
   "source": [
    "A more reasonable bootstrap approach would be to randomly assign values from 2005 or 2014 **for each state** and then assess the difference:"
   ]
  },
  {
   "cell_type": "code",
   "execution_count": 46,
   "metadata": {},
   "outputs": [
    {
     "data": {
      "text/plain": [
       "(50, 2)"
      ]
     },
     "execution_count": 46,
     "metadata": {},
     "output_type": "execute_result"
    }
   ],
   "source": [
    "stacked_data = np.vstack((rate2005, rate2014)).T\n",
    "\n",
    "stacked_data.shape"
   ]
  },
  {
   "cell_type": "code",
   "execution_count": 47,
   "metadata": {},
   "outputs": [
    {
     "data": {
      "text/plain": [
       "(50, 2)"
      ]
     },
     "execution_count": 47,
     "metadata": {},
     "output_type": "execute_result"
    }
   ],
   "source": [
    "# Alternative: Use the Pandas library\n",
    "\n",
    "stacked_data = df[['RATE-2005', 'RATE-2014']].to_numpy()\n",
    "\n",
    "stacked_data.shape"
   ]
  },
  {
   "cell_type": "code",
   "execution_count": 48,
   "metadata": {},
   "outputs": [
    {
     "data": {
      "text/plain": [
       "array([[16. , 16.9],\n",
       "       [17.5, 19.2],\n",
       "       [16.1, 13.5],\n",
       "       [15.7, 16.6],\n",
       "       [ 9.5,  7.4],\n",
       "       [11.6, 12.2],\n",
       "       [ 5.3,  5. ],\n",
       "       [ 8.8, 11.1],\n",
       "       [10. , 11.5],\n",
       "       [12.1, 13.7],\n",
       "       [ 2.1,  2.6],\n",
       "       [14.1, 13.2],\n",
       "       [ 8. ,  9. ],\n",
       "       [11.2, 12.4],\n",
       "       [ 6.7,  7.5],\n",
       "       [ 9.3, 11.3],\n",
       "       [13. , 13.9],\n",
       "       [18.5, 19. ],\n",
       "       [ 7.8,  9.4],\n",
       "       [11.9,  9. ],\n",
       "       [ 3.4,  3.2],\n",
       "       [10.8, 11.1],\n",
       "       [ 7. ,  6.6],\n",
       "       [16. , 18.3],\n",
       "       [12.9, 15.3],\n",
       "       [16.9, 16.1],\n",
       "       [ 7.7,  9.5],\n",
       "       [16.1, 14.8],\n",
       "       [ 6.6,  8.7],\n",
       "       [ 5.2,  5.3],\n",
       "       [13.9, 16. ],\n",
       "       [ 5.3,  4.2],\n",
       "       [12.8, 11.8],\n",
       "       [ 8.8, 12.3],\n",
       "       [ 9.6, 10.3],\n",
       "       [13.2, 15.7],\n",
       "       [10.7, 11.7],\n",
       "       [10.8, 10.5],\n",
       "       [ 3.6,  3. ],\n",
       "       [13.8, 15.5],\n",
       "       [10.2, 10.3],\n",
       "       [16. , 15.1],\n",
       "       [11.1, 10.7],\n",
       "       [10.1, 12.3],\n",
       "       [ 6.8, 10.3],\n",
       "       [11.5, 10.3],\n",
       "       [ 8.8,  9.7],\n",
       "       [13.8, 14.6],\n",
       "       [ 8.5,  8.2],\n",
       "       [13.4, 16.2]])"
      ]
     },
     "execution_count": 48,
     "metadata": {},
     "output_type": "execute_result"
    }
   ],
   "source": [
    "stacked_data"
   ]
  },
  {
   "cell_type": "markdown",
   "metadata": {},
   "source": [
    "Now, we want to a special kind of array indexing: **fancy indexing**."
   ]
  },
  {
   "cell_type": "code",
   "execution_count": 49,
   "metadata": {},
   "outputs": [
    {
     "data": {
      "text/plain": [
       "array([0, 0, 1, 0, 0, 1, 1, 0, 1, 0, 1, 0, 0, 0, 1, 1, 1, 1, 1, 1, 1, 0,\n",
       "       0, 0, 0, 0, 1, 1, 1, 0, 0, 0, 0, 1, 1, 1, 0, 0, 0, 1, 1, 0, 1, 1,\n",
       "       1, 1, 0, 0, 0, 1])"
      ]
     },
     "execution_count": 49,
     "metadata": {},
     "output_type": "execute_result"
    }
   ],
   "source": [
    "a = npr.randint(2, size=50)\n",
    "a"
   ]
  },
  {
   "cell_type": "code",
   "execution_count": null,
   "metadata": {},
   "outputs": [],
   "source": []
  },
  {
   "cell_type": "code",
   "execution_count": 50,
   "metadata": {},
   "outputs": [],
   "source": [
    "b = stacked_data[range(50),a] # 2-D Fancy indexing"
   ]
  },
  {
   "cell_type": "code",
   "execution_count": 51,
   "metadata": {},
   "outputs": [
    {
     "data": {
      "text/plain": [
       "array([16. , 17.5, 13.5, 15.7,  9.5, 12.2,  5. ,  8.8, 11.5, 12.1,  2.6,\n",
       "       14.1,  8. , 11.2,  7.5, 11.3, 13.9, 19. ,  9.4,  9. ,  3.2, 10.8,\n",
       "        7. , 16. , 12.9, 16.9,  9.5, 14.8,  8.7,  5.2, 13.9,  5.3, 12.8,\n",
       "       12.3, 10.3, 15.7, 10.7, 10.8,  3.6, 15.5, 10.3, 16. , 10.7, 12.3,\n",
       "       10.3, 10.3,  8.8, 13.8,  8.5, 16.2])"
      ]
     },
     "execution_count": 51,
     "metadata": {},
     "output_type": "execute_result"
    }
   ],
   "source": [
    "b"
   ]
  },
  {
   "cell_type": "markdown",
   "metadata": {},
   "source": [
    "For a significance level of $\\alpha = 0.05$, let's build a Bootstrap simulation to compute the probability of observing a mean difference of 0.63 or larger:"
   ]
  },
  {
   "cell_type": "code",
   "execution_count": 52,
   "metadata": {},
   "outputs": [
    {
     "name": "stdout",
     "output_type": "stream",
     "text": [
      "Under null hypothesis, observe effect this large with prob.  0.0\n"
     ]
    }
   ],
   "source": [
    "num_sims=10_000\n",
    "event_count=0\n",
    "\n",
    "for sim in range(num_sims):\n",
    "    resample05 = stacked_data[range(50), npr.randint(2, size=50)] # 2-D Fancy indexing\n",
    "    resample14 = stacked_data[range(50), npr.randint(2, size=50)]\n",
    "    \n",
    "    mean05 = resample05.mean()\n",
    "    mean14 = resample14.mean()\n",
    "    \n",
    "    sample_diff = mean14-mean05\n",
    "    \n",
    "    if abs(sample_diff)>= diff: # \n",
    "        event_count+=1\n",
    "    \n",
    "\n",
    "print(\"Under null hypothesis, observe effect this large with prob. \",event_count/num_sims)"
   ]
  },
  {
   "cell_type": "markdown",
   "metadata": {},
   "source": [
    "* **What is the conclusion?**\n",
    "\n",
    "    * **Is the result statistically significant?** Yes, because the p-value is smaller than $\\alpha=0.05$.\n",
    "    * **Can we reject the null hypothesis?** Yes, we reject the null hypothesis.\n",
    "    * **Conclusion:** Under this interpretation, the restriction on assault weapons is associated with an increase in mean firearms morality.\n",
    "\n",
    "It depends on how you interpret the data!"
   ]
  },
  {
   "cell_type": "markdown",
   "metadata": {},
   "source": [
    "### Distribution of the bootstrap mean-difference"
   ]
  },
  {
   "cell_type": "markdown",
   "metadata": {},
   "source": [
    "Every time we create a bootstrap value for the difference of means, we create a new random value. Let's see how the bootstrap means are distributed by looking at a histogram of those values:"
   ]
  },
  {
   "cell_type": "code",
   "execution_count": 51,
   "metadata": {},
   "outputs": [
    {
     "data": {
      "image/png": "[encoded data removed]",
      "text/plain": [
       "<Figure size 432x288 with 1 Axes>"
      ]
     },
     "metadata": {
      "needs_background": "light"
     },
     "output_type": "display_data"
    }
   ],
   "source": [
    "num_sims=10_000\n",
    "bs_stats=[]\n",
    "\n",
    "for sim in range(num_sims):\n",
    "    resample05 = stacked_data[range(50), npr.randint(2, size=50)] # 2-D Fancy indexing\n",
    "    resample14 = stacked_data[range(50), npr.randint(2, size=50)]\n",
    "    \n",
    "    mean05 = resample05.mean()\n",
    "    mean14 = resample14.mean()\n",
    "    \n",
    "    sample_diff = mean14-mean05\n",
    "    bs_stats += [sample_diff]\n",
    "\n",
    "    \n",
    "plt.hist(bs_stats)\n",
    "plt.xlabel('Resampled Statistic (difference of means)')\n",
    "plt.ylabel('Counts')\n",
    "plt.title('Bootstrap sampling');"
   ]
  },
  {
   "cell_type": "markdown",
   "metadata": {},
   "source": [
    "A few obervations:\n",
    "    \n",
    "1. The difference of means has a bell shape -- we saw that before. Why do you think that is?\n",
    "2. Almost all of the values fall between -0.5 and +0.5. Thus, it is not surprising that getting a mean-difference as large as 0.6 is very rare."
   ]
  },
  {
   "cell_type": "markdown",
   "metadata": {},
   "source": [
    "**Topic for later:** The **Central Limit Theorem** (CLT) for sums says that if you keep drawing larger and larger samples and taking their sums, the sums form their own normal distribution (the sampling distribution), which approaches a normal distribution as the sample size increases. "
   ]
  },
  {
   "cell_type": "code",
   "execution_count": null,
   "metadata": {},
   "outputs": [],
   "source": []
  },
  {
   "cell_type": "markdown",
   "metadata": {},
   "source": [
    "We can now consider the question: **what values of the mean-difference will make it such that we have 95\\% confidence that we should ACCEPT the null hypothesis?**"
   ]
  },
  {
   "cell_type": "code",
   "execution_count": 41,
   "metadata": {},
   "outputs": [],
   "source": [
    "bs_stats.sort() # sorts (in ascendent order) in place\n",
    "# bs_stats"
   ]
  },
  {
   "cell_type": "code",
   "execution_count": 29,
   "metadata": {},
   "outputs": [
    {
     "data": {
      "text/plain": [
       "14"
      ]
     },
     "execution_count": 29,
     "metadata": {},
     "output_type": "execute_result"
    }
   ],
   "source": [
    "np.sum(np.array(bs_stats)<-0.5)"
   ]
  },
  {
   "cell_type": "code",
   "execution_count": 30,
   "metadata": {},
   "outputs": [
    {
     "data": {
      "text/plain": [
       "10000"
      ]
     },
     "execution_count": 30,
     "metadata": {},
     "output_type": "execute_result"
    }
   ],
   "source": [
    "len(bs_stats)"
   ]
  },
  {
   "cell_type": "markdown",
   "metadata": {},
   "source": [
    "So, the percentage of data lying below -0.5 is:"
   ]
  },
  {
   "cell_type": "code",
   "execution_count": 31,
   "metadata": {},
   "outputs": [
    {
     "data": {
      "text/plain": [
       "0.13999999999999999"
      ]
     },
     "execution_count": 31,
     "metadata": {},
     "output_type": "execute_result"
    }
   ],
   "source": [
    "np.sum(np.array(bs_stats)<-0.5)/len(bs_stats)*100"
   ]
  },
  {
   "cell_type": "markdown",
   "metadata": {},
   "source": [
    "Similarly, the percentage lying above 0.5 is:"
   ]
  },
  {
   "cell_type": "code",
   "execution_count": 32,
   "metadata": {},
   "outputs": [
    {
     "data": {
      "text/plain": [
       "0.05"
      ]
     },
     "execution_count": 32,
     "metadata": {},
     "output_type": "execute_result"
    }
   ],
   "source": [
    "np.sum(np.array(bs_stats)>0.5)/len(bs_stats)*100"
   ]
  },
  {
   "cell_type": "code",
   "execution_count": 33,
   "metadata": {},
   "outputs": [
    {
     "data": {
      "text/plain": [
       "99.81"
      ]
     },
     "execution_count": 33,
     "metadata": {},
     "output_type": "execute_result"
    }
   ],
   "source": [
    "100 - 0.14 - 0.05"
   ]
  },
  {
   "cell_type": "markdown",
   "metadata": {},
   "source": [
    "Another way to express this is that 99.80% of the data is between $[-0.5, 0.5]$."
   ]
  },
  {
   "cell_type": "markdown",
   "metadata": {},
   "source": [
    "This is an example of a **confidence interval**. \n",
    "\n",
    "* Confidence intervals offer an alternative to $p$-values that provide more information. \n",
    "\n",
    "* When we say a $x$% confidence interval, we usually mean the region such that $(100-x)/2$% of samples will fall below the confidence interval, and $(100-x)/2$% of samples will fall above the confidence interval. "
   ]
  },
  {
   "cell_type": "markdown",
   "metadata": {},
   "source": [
    "The confidence interval for a bootstrap statistic cannot be known exactly, but it can be estimated accurately given enough samples of the bootstrap statistic."
   ]
  },
  {
   "cell_type": "markdown",
   "metadata": {},
   "source": [
    "# Confidence Intervals"
   ]
  },
  {
   "cell_type": "markdown",
   "metadata": {},
   "source": [
    "**Procedure for Estimating Confidence Interval for a Bootstrap Statistic**\n",
    "\n",
    "1. Draw $N$ samples from the pooled data using replacement\n",
    "2. For each sample(s), compute the desired statistic and store it\n",
    "3. Sort all of the stored statistics\n",
    "4. For confidence interval $x$%:\n",
    "    * the lower bound of the confidence interval is the element in position $N(1-x)/2$\n",
    "    * the upper bound of the confidence interval is the element in position $N-N(1-x)/2= N \\times x/2$"
   ]
  },
  {
   "cell_type": "markdown",
   "metadata": {},
   "source": [
    "**<font color=blue>Example 1:</font> Compute the 95% confidence interval for the example above.**"
   ]
  },
  {
   "cell_type": "code",
   "execution_count": 40,
   "metadata": {},
   "outputs": [],
   "source": [
    "bs_stats.sort()\n",
    "# bs_stats"
   ]
  },
  {
   "cell_type": "markdown",
   "metadata": {},
   "source": [
    "Find the **position** in the sorted sequence of the lower bound of the confidence interval:"
   ]
  },
  {
   "cell_type": "code",
   "execution_count": 40,
   "metadata": {},
   "outputs": [],
   "source": [
    "bs_stats.sort()\n",
    "# bs_stats"
   ]
  },
  {
   "cell_type": "code",
   "execution_count": 35,
   "metadata": {},
   "outputs": [
    {
     "data": {
      "text/plain": [
       "250.00000000000023"
      ]
     },
     "execution_count": 35,
     "metadata": {},
     "output_type": "execute_result"
    }
   ],
   "source": [
    "lower = len(bs_stats)*(1-0.95)/2\n",
    "lower"
   ]
  },
  {
   "cell_type": "markdown",
   "metadata": {},
   "source": [
    "Now find the **value** of the sorted data at that position. That is the lower end of our confidence region:"
   ]
  },
  {
   "cell_type": "code",
   "execution_count": 36,
   "metadata": {},
   "outputs": [
    {
     "data": {
      "text/plain": [
       "-0.3119999999999994"
      ]
     },
     "execution_count": 36,
     "metadata": {},
     "output_type": "execute_result"
    }
   ],
   "source": [
    "bs_stats[int(lower)]"
   ]
  },
  {
   "cell_type": "markdown",
   "metadata": {},
   "source": [
    "Finding the position of the upper bound of the confidence interval is most easily done using the position of the lower bound:"
   ]
  },
  {
   "cell_type": "code",
   "execution_count": 37,
   "metadata": {},
   "outputs": [
    {
     "data": {
      "text/plain": [
       "9749.0"
      ]
     },
     "execution_count": 37,
     "metadata": {},
     "output_type": "execute_result"
    }
   ],
   "source": [
    "upper = len(bs_stats) -lower -1\n",
    "upper"
   ]
  },
  {
   "cell_type": "code",
   "execution_count": 38,
   "metadata": {},
   "outputs": [
    {
     "data": {
      "text/plain": [
       "0.3060000000000027"
      ]
     },
     "execution_count": 38,
     "metadata": {},
     "output_type": "execute_result"
    }
   ],
   "source": [
    "bs_stats[int(upper)]"
   ]
  },
  {
   "cell_type": "markdown",
   "metadata": {},
   "source": [
    "Thus, the 95% confidence interval is $[-0.31, 0.31]$."
   ]
  },
  {
   "cell_type": "markdown",
   "metadata": {},
   "source": [
    "**How can confidence intervals be used in place of $p$-values?** \n",
    "* Instead of conducting a binary hypothesis test with $\\alpha=0.05$, we can compute the 95% confidence interval for the mean difference. Then we observe if the result lies within the 95% confidence interval."
   ]
  },
  {
   "cell_type": "markdown",
   "metadata": {},
   "source": [
    "The observed mean-difference value was 0.63. This falls outside the 95% confidence interval $[-0.31,0.31]$. The fact that the observed value is far outside the 95% confidence interval makes it likely that we could have used a stronger criteria (like 99% confidence intervals)."
   ]
  },
  {
   "cell_type": "code",
   "execution_count": null,
   "metadata": {},
   "outputs": [],
   "source": []
  }
 ],
 "metadata": {
  "kernelspec": {
   "display_name": "Python 3 (ipykernel)",
   "language": "python",
   "name": "python3"
  },
  "language_info": {
   "codemirror_mode": {
    "name": "ipython",
    "version": 3
   },
   "file_extension": ".py",
   "mimetype": "text/x-python",
   "name": "python",
   "nbconvert_exporter": "python",
   "pygments_lexer": "ipython3",
   "version": "3.9.13"
  },
  "latex_envs": {
   "LaTeX_envs_menu_present": true,
   "autoclose": false,
   "autocomplete": true,
   "bibliofile": "biblio.bib",
   "cite_by": "apalike",
   "current_citInitial": 1,
   "eqLabelWithNumbers": true,
   "eqNumInitial": 1,
   "hotkeys": {
    "equation": "Ctrl-E",
    "itemize": "Ctrl-I"
   },
   "labels_anchors": false,
   "latex_user_defs": false,
   "report_style_numbering": false,
   "user_envs_cfg": false
  },
  "varInspector": {
   "cols": {
    "lenName": 16,
    "lenType": 16,
    "lenVar": 40
   },
   "kernels_config": {
    "python": {
     "delete_cmd_postfix": "",
     "delete_cmd_prefix": "del ",
     "library": "var_list.py",
     "varRefreshCmd": "print(var_dic_list())"
    },
    "r": {
     "delete_cmd_postfix": ") ",
     "delete_cmd_prefix": "rm(",
     "library": "var_list.r",
     "varRefreshCmd": "cat(var_dic_list()) "
    }
   },
   "types_to_exclude": [
    "module",
    "function",
    "builtin_function_or_method",
    "instance",
    "_Feature"
   ],
   "window_display": false
  }
 },
 "nbformat": 4,
 "nbformat_minor": 4
}

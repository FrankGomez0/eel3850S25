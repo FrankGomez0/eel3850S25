{
 "cells": [
  {
   "cell_type": "markdown",
   "metadata": {},
   "source": [
    "# Lecture 06-pt2\n",
    "\n",
    "Continue with the covid data set for:\n",
    "* Hypothesis Testing\n",
    "* Bootstrap Sampling"
   ]
  },
  {
   "cell_type": "code",
   "execution_count": 1,
   "metadata": {},
   "outputs": [],
   "source": [
    "import numpy as np\n",
    "import numpy.random as npr\n",
    "import random\n",
    "import itertools\n",
    "\n",
    "import pandas as pd\n",
    "\n",
    "import matplotlib.pyplot as plt\n",
    "%matplotlib inline\n",
    "plt.style.use('ggplot')"
   ]
  },
  {
   "cell_type": "markdown",
   "metadata": {},
   "source": [
    "# Reading:\n",
    "    \n",
    "    "
   ]
  },
  {
   "cell_type": "markdown",
   "metadata": {
    "user_expressions": []
   },
   "source": [
    "## Visualizing Multiple Data Sets"
   ]
  },
  {
   "cell_type": "code",
   "execution_count": null,
   "metadata": {
    "tags": []
   },
   "outputs": [],
   "source": [
    "import pandas as pd\n",
    "\n",
    "df = pd.read_csv( 'https://www.fdsp.net/data/covid-merged.csv' )\n",
    "df.set_index('state', inplace=True)\n",
    "df['cases_norm'] = df['cases'] / df['population'] * 1000\n",
    "df['gdp_norm'] = df['gdp'] / df['population'] * 1000;\n"
   ]
  },
  {
   "cell_type": "markdown",
   "metadata": {
    "user_expressions": []
   },
   "source": [
    "### Partitioning Based on GDP\n",
    "\n",
    "The gross domestic product (GDP) provides a measure of how affluent a state is. Let's use it to partition into groups of equal size -- so we will use the ______\n"
   ]
  },
  {
   "cell_type": "code",
   "execution_count": null,
   "metadata": {
    "tags": []
   },
   "outputs": [],
   "source": []
  },
  {
   "cell_type": "code",
   "execution_count": null,
   "metadata": {},
   "outputs": [],
   "source": [
    "#DEMO\n"
   ]
  },
  {
   "cell_type": "markdown",
   "metadata": {
    "user_expressions": []
   },
   "source": [
    "To partition the data, we introduce a new dataframe method called `query()` "
   ]
  },
  {
   "cell_type": "code",
   "execution_count": null,
   "metadata": {
    "tags": []
   },
   "outputs": [],
   "source": [
    "#DEMO\n"
   ]
  },
  {
   "cell_type": "code",
   "execution_count": null,
   "metadata": {},
   "outputs": [],
   "source": [
    "#DEMO\n"
   ]
  },
  {
   "cell_type": "code",
   "execution_count": null,
   "metadata": {},
   "outputs": [],
   "source": [
    "#DEMO\n"
   ]
  },
  {
   "cell_type": "code",
   "execution_count": null,
   "metadata": {},
   "outputs": [],
   "source": [
    "#DEMO\n"
   ]
  },
  {
   "cell_type": "markdown",
   "metadata": {
    "user_expressions": []
   },
   "source": [
    "Let's compare using histograms:"
   ]
  },
  {
   "cell_type": "code",
   "execution_count": null,
   "metadata": {},
   "outputs": [],
   "source": [
    "#DEMO\n"
   ]
  },
  {
   "cell_type": "markdown",
   "metadata": {
    "user_expressions": []
   },
   "source": [
    "**ISSUE:**"
   ]
  },
  {
   "cell_type": "code",
   "execution_count": null,
   "metadata": {},
   "outputs": [],
   "source": [
    "#DEMO\n",
    "import numpy as np\n",
    "\n"
   ]
  },
  {
   "cell_type": "code",
   "execution_count": null,
   "metadata": {},
   "outputs": [],
   "source": [
    "#DEMO\n",
    "# Copy and use new edges\n",
    "# First time no transparency\n"
   ]
  },
  {
   "cell_type": "markdown",
   "metadata": {
    "user_expressions": []
   },
   "source": [
    "**DISCUSSION**\n",
    "\n",
    "The histogram shows that states with GDPs per capita over the median have higher case counts in general (for instance, the larger bars in the range 2-5), as well as larger maximum values (above 8).  Unfortunately, the data does not provide any insight into why that might be the case. One reason might be that states with higher GDPs may have larger network effects, where more of the population interacts with a larger number of people. For instance, such states may have more of their population employed in office jobs and more likely to travel for their work. "
   ]
  },
  {
   "cell_type": "markdown",
   "metadata": {
    "user_expressions": []
   },
   "source": [
    "When an effect is observed visually, we usually want to quantify that effect in some way and then test whether any observed difference is \"real\""
   ]
  },
  {
   "cell_type": "code",
   "execution_count": null,
   "metadata": {},
   "outputs": [],
   "source": []
  },
  {
   "cell_type": "code",
   "execution_count": null,
   "metadata": {},
   "outputs": [],
   "source": []
  },
  {
   "cell_type": "markdown",
   "metadata": {
    "user_expressions": []
   },
   "source": [
    "### Partitioning Based on Urban Index\n"
   ]
  },
  {
   "cell_type": "code",
   "execution_count": null,
   "metadata": {},
   "outputs": [],
   "source": []
  },
  {
   "cell_type": "markdown",
   "metadata": {
    "user_expressions": []
   },
   "source": [
    "Now we use that median to partition the data and plot the histograms:"
   ]
  },
  {
   "cell_type": "code",
   "execution_count": null,
   "metadata": {},
   "outputs": [],
   "source": []
  },
  {
   "cell_type": "code",
   "execution_count": null,
   "metadata": {},
   "outputs": [],
   "source": []
  },
  {
   "cell_type": "markdown",
   "metadata": {
    "user_expressions": []
   },
   "source": [
    "As with normalized GDP, a substantial difference in the distribution of the COVID case rates is seen for states that are more urban versus less urban. The average normalized case rates for these partitions are:"
   ]
  },
  {
   "cell_type": "code",
   "execution_count": null,
   "metadata": {},
   "outputs": [],
   "source": []
  },
  {
   "cell_type": "markdown",
   "metadata": {
    "user_expressions": []
   },
   "source": [
    "# Null Hypothesis Testing with Real Data"
   ]
  },
  {
   "cell_type": "code",
   "execution_count": null,
   "metadata": {
    "tags": [
     "remove-cell"
    ]
   },
   "outputs": [],
   "source": [
    "# Magic cell to make MPL save to both png and pdf\n",
    "from matplotlib_inline.backend_inline import set_matplotlib_formats\n",
    "set_matplotlib_formats('png', 'pdf')"
   ]
  },
  {
   "cell_type": "markdown",
   "metadata": {
    "user_expressions": []
   },
   "source": [
    "When dealing with data from different groups, we will generally observe differences. For instance, we may measure the means or medians of the data sets, and we will usually find that these summary statistics differ between the groups.  At this point, we wish to understand whether the observed difference is \"significant\": is this difference likely to be a property of the underlying groups, or is it just caused by random variations in the data?"
   ]
  },
  {
   "cell_type": "markdown",
   "metadata": {
    "user_expressions": []
   },
   "source": [
    "The number of samples of random phenomena has a significant impact on how accurately we can estimate those phenomena. When it comes to real data, the problem is amplified because we do not know the ground-truth characterization of the random phenomena producing the data. \n",
    "\n",
    "Let's start by restricting our analysis to a small subset of our data to see how effects observed with small data may be caused simply by random sampling. By restricting our data, we can show examples of the technique that we will be using, and the examples will be small enough to understand easily.\n"
   ]
  },
  {
   "cell_type": "markdown",
   "metadata": {
    "tags": [],
    "user_expressions": []
   },
   "source": [
    "## Small Data Example Using Covid Rates\n",
    "\n",
    "Start by loading the data and calculating the COVID cases per 1000 residents and GDP per 1000 residents:"
   ]
  },
  {
   "cell_type": "markdown",
   "metadata": {
    "user_expressions": []
   },
   "source": [
    "Now consider the normalized COVID case rates from the first six states and partition them into two sets using alphabetical order. Since Arizona is the third state alphabetically, we can get the first three as follows:"
   ]
  },
  {
   "cell_type": "code",
   "execution_count": null,
   "metadata": {
    "tags": []
   },
   "outputs": [],
   "source": []
  },
  {
   "cell_type": "markdown",
   "metadata": {
    "user_expressions": []
   },
   "source": [
    "Similarly, we can get the next three using the following:"
   ]
  },
  {
   "cell_type": "code",
   "execution_count": null,
   "metadata": {
    "tags": []
   },
   "outputs": [],
   "source": []
  },
  {
   "cell_type": "markdown",
   "metadata": {
    "user_expressions": []
   },
   "source": [
    "Because the data is so small, histograms do not make sense.\n",
    "\n",
    "Instead, we directly turn to using summary statistics. \n",
    "\n",
    "Let's calculate the means for these two groups:"
   ]
  },
  {
   "cell_type": "code",
   "execution_count": null,
   "metadata": {},
   "outputs": [],
   "source": []
  },
  {
   "cell_type": "code",
   "execution_count": null,
   "metadata": {},
   "outputs": [],
   "source": []
  },
  {
   "cell_type": "markdown",
   "metadata": {
    "user_expressions": []
   },
   "source": [
    "**Observation**: The mean COVID case rate for states in `first3` is much larger than for states in `second3`.\n",
    "\n",
    "**How to test whether this differnece could be caused by random variations in the data.**"
   ]
  },
  {
   "cell_type": "markdown",
   "metadata": {
    "user_expressions": []
   },
   "source": [
    "**First step:** reduce the observed data to a single statistic, called the *test statistic*:"
   ]
  },
  {
   "cell_type": "markdown",
   "metadata": {
    "user_expressions": []
   },
   "source": [
    "**test statistic**\n",
    ">  A single numerical value that can be used in a statistical test."
   ]
  },
  {
   "cell_type": "code",
   "execution_count": null,
   "metadata": {},
   "outputs": [],
   "source": [
    "#DEMO\n",
    "# Choose ordering to make positive!\n"
   ]
  },
  {
   "cell_type": "markdown",
   "metadata": {
    "user_expressions": []
   },
   "source": [
    "**This is a ______ difference!**\n",
    "\n",
    "Possible hypotheses (explanations):\n",
    "1. States that come later alphabetically might have higher COVID rates. (Hard to justify?)\n",
    "2. The states in `second3` might differ from the states in group `first3` in some significant way. (Maybe but... why?)\n",
    "3. The differences could be caused by random sampling. That is, the COVID rates all come from the same underlying random phenomena, but because of randomness, some states end up with higher rates in the observed data than others. In `first3` and `second3`, it just happened by randomness that `second3` ended up with more states with higher COVID rates, and `first3` ended up with more states with lower rates.\n",
    "\n",
    "In statistics, we want to create hypotheses that can be *tested*, which means that we can assess the likelihood that the hypothesis is true or false.  In this case, we use the term *statistical hypothesis*:\n"
   ]
  },
  {
   "cell_type": "markdown",
   "metadata": {
    "tags": []
   },
   "source": [
    "<div class=\"alert alert-info\">\n",
    "    <b>Statistical hypothesis</b>\n",
    "    \n",
    "**Statistical hypothesis** is an explanation for phenomena observed in a data set that can be formally tested using the data.\n",
    "</div>"
   ]
  },
  {
   "cell_type": "markdown",
   "metadata": {
    "user_expressions": []
   },
   "source": [
    "Hypothesis 3 is a very common type of hypothesis when working with two groups of data that have different values for some summary statistic of interest. This type of hypothesis is called the *null hypothesis*:\n",
    "\n",
    "\n",
    "**Null hypothesis (for multiple groups)**\n",
    ">   The *null hypothesis* is that there is no real difference between the two data sets, and any differences are just based on random sampling from the underlying population.\n",
    "\n",
    "\n",
    "Usually denoted by $H_0$\n",
    "\n",
    "*Intuitively, the zero can be read as implying zero difference between the populations (in the feature being compared).*"
   ]
  },
  {
   "cell_type": "markdown",
   "metadata": {
    "user_expressions": []
   },
   "source": [
    "**Alternate hypothesis ($H_a$)**\n",
    ">  the feature being measured actually comes from random distributions that differ by group."
   ]
  },
  {
   "cell_type": "markdown",
   "metadata": {
    "user_expressions": []
   },
   "source": [
    "We will conduct a form of *binary hypothesis test*:\n",
    "\n",
    "**Binary hypothesis test**\n",
    ">   A binary hypothesis test is a statistical test that decides between two competing statistical hypotheses."
   ]
  },
  {
   "cell_type": "markdown",
   "metadata": {
    "user_expressions": []
   },
   "source": [
    "Usually, $H_a$ cannot be tested directly because we do not know ahead of time *how* the underlying phenomena differ. \n",
    "\n",
    "Instead, we conduct tests by assuming $H_0$ is true, called a *null hypothesis test*: "
   ]
  },
  {
   "cell_type": "markdown",
   "metadata": {
    "user_expressions": []
   },
   "source": [
    "**Null hypothesis significance test (NHST)**\n",
    ">   A type of binary hypothesis  test that estimates the probability of observing such a large value of the  statistic under the condition that some null hypothesis, $H_0$, is true."
   ]
  },
  {
   "cell_type": "markdown",
   "metadata": {
    "user_expressions": []
   },
   "source": [
    "Two broad approaches to NHSTs:\n",
    "\n",
    "**Model-based methods**\n",
    ">   The data is assumed to come from some known statistical distribution; often allows the use of analytical methods.\n",
    "\n",
    "**Model-free methods**\n",
    ">   No assumption is made about the data fitting to some statistical model; analytical  methods are usually not possible. \n",
    "\n",
    "In model-free methods, techniques must be applied to the data itself to answer questions about the data. "
   ]
  },
  {
   "cell_type": "markdown",
   "metadata": {
    "user_expressions": []
   },
   "source": [
    "Either approach relies on assumptions.\n",
    "\n",
    "The model-free method because it has several important advantages:\n",
    "1. Model-based methods typically require the data reach a certain size before the model is a reasonable approximation for the test statistic. This is not an issue with model-free methods (although data size is important for other reasons).\n",
    "2. It does not require analytical formulas to be available for every summary statistic that may be considered.\n",
    "3. It does not rely on mathematical formulas that may seem obscure or that require a significant amount of foundational work in probability to understand.\n",
    "4. The model-free approach we will use is easier to get started with, especially for engineers who are experienced in programming and simulating phenomena."
   ]
  },
  {
   "cell_type": "markdown",
   "metadata": {
    "user_expressions": []
   },
   "source": [
    "We want to draw data from the distribution of the data under $H_0$, but we don't have a model. Instead, we use \n",
    "*resampling* to approximate drawing from the distribution of the data under $H_0$:\n",
    "\n",
    "**resampling**\n",
    ">   Resampling is a type of statistical simulation in which new samples are repeatedly drawn from the existing data for each of the groups under consideration, and the statistical measures being used are evaluated for each new sample group. "
   ]
  },
  {
   "cell_type": "markdown",
   "metadata": {
    "user_expressions": []
   },
   "source": [
    "Our $H_0$:  the data in the two groups come from the same underlying random phenomena\n",
    "\n",
    "We will _______ the data and draw samples:"
   ]
  },
  {
   "cell_type": "markdown",
   "metadata": {},
   "source": [
    "<div class=\"alert alert-info\">\n",
    "    <b>Pooling</b>\n",
    "    \n",
    "**Pooling** describes the practice of gathering together small sets of data that are assumed to have been *drawn* from the same underlying population and using the combined larger set (the *pool*) to obtain a more precise estimate of that population.\n",
    "</div>"
   ]
  },
  {
   "cell_type": "code",
   "execution_count": null,
   "metadata": {},
   "outputs": [],
   "source": [
    "#DEMO\n",
    "import numpy as np\n"
   ]
  },
  {
   "cell_type": "markdown",
   "metadata": {
    "user_expressions": []
   },
   "source": [
    "For numerical data, we leverage the NumPy.random submodule to draw samples, which we will import as `npr`:"
   ]
  },
  {
   "cell_type": "code",
   "execution_count": null,
   "metadata": {},
   "outputs": [],
   "source": [
    "#DEMO\n"
   ]
  },
  {
   "cell_type": "markdown",
   "metadata": {
    "user_expressions": []
   },
   "source": [
    "We can randomly draw data from `pooled` using `npr.choice()`, which requires a variable to draw from as the first argument and can take a second argument as the number of items to draw (if not given, the default is one)."
   ]
  },
  {
   "cell_type": "code",
   "execution_count": null,
   "metadata": {},
   "outputs": [],
   "source": [
    "#DEMO\n",
    "#Note that the resulting array has a repeated value, even though there are no repeated values in the variable `pooled`. "
   ]
  },
  {
   "cell_type": "markdown",
   "metadata": {
    "user_expressions": []
   },
   "source": [
    "There are two ways to sample from data:\n",
    "1. **Sampling with replacement:** Items drawn are placed back into the array from which data is being sampled. Any number of items may be drawn.\n",
    "2. **Sampling without replacement:** Items drawn are removed from the array from which data is being sampled. The maximum number of items that can be drawn is the size of the original array.\n",
    "\n",
    "`npr.choice()` defaults to sampling with replacement but can perform sampling without replacement if passed the keyword argument `replace=False`.\n",
    "\n",
    "For example, here are two draws of 6 items using each approach:"
   ]
  },
  {
   "cell_type": "code",
   "execution_count": null,
   "metadata": {},
   "outputs": [],
   "source": [
    "#DEMO\n"
   ]
  },
  {
   "cell_type": "markdown",
   "metadata": {
    "user_expressions": []
   },
   "source": [
    "To perform resampling, we simulate how `first3` and `second3` **could have been created** if they came from the same random phenomena.\n",
    "\n",
    "* Create new vectors `first3_sample` and `second3_sample` by sampling from the pooled data\n",
    "* Each sample vector should be the **same size** as the original vectors\n",
    "\n",
    "The most popular method draws the data **with replacement**.  \n",
    "* Called **bootstrap sampling**\n",
    "* often used to simulate random values of the test statistic under $H_0$"
   ]
  },
  {
   "cell_type": "code",
   "execution_count": null,
   "metadata": {},
   "outputs": [],
   "source": [
    "#DEMO -- run a few times\n",
    "\n",
    "print(f'new group first3_sample: {first3_sample}')\n",
    "print(f'new group second3_sample: {second3_sample}')"
   ]
  },
  {
   "cell_type": "markdown",
   "metadata": {
    "tags": [],
    "user_expressions": []
   },
   "source": [
    "Goal of a NHST: determine whether the observed value of the test statistic could be attributed just to randomness\n",
    "*  use resampling to estimate probability of  seeing such a large test statistic  under $H_0$"
   ]
  },
  {
   "cell_type": "code",
   "execution_count": null,
   "metadata": {},
   "outputs": [],
   "source": [
    "#DEMO -- copy from above and add new lines. Run a few times\n",
    "\n",
    "print(f'new group first3_sample: {first3_sample}')\n",
    "print(f'new group second3_sample: {second3_sample}')\n",
    "\n",
    "print(f'original value of test statistic: {diff}')\n",
    "print(f'sample value of test statistic: ',\n",
    "      f'{second3_sample.mean() - first3_sample.mean()}')"
   ]
  },
  {
   "cell_type": "markdown",
   "metadata": {
    "user_expressions": []
   },
   "source": [
    "Note that the sample test statistic can be either positive or negative\n",
    "\n",
    "Should we consider the signed value or magnitude? It depends on the original hypothesis, and we will discuss this more later.\n",
    "\n",
    "For now, let's consider only the *magnitude* of the sample test statistic"
   ]
  },
  {
   "cell_type": "markdown",
   "metadata": {
    "user_expressions": []
   },
   "source": [
    "\n",
    "The probability of seeing such a large value of the test statistic under $H_0$ is called the $\\mathbf{p}$**-value**\n",
    "\n",
    "For now, we will say that the difference is *statistically significant* if the observed $p$-value is smaller than a threshold\n",
    "* i.e., it is very unlikely to observe such an extreme difference in summary statistics under $H_0$\n",
    "\n",
    "**IMPORTANT** Need to declare ahead of time:\n",
    "* Exactly what is being tested\n",
    "* Criterion for statistical significance\n",
    "\n",
    "The significance threshold (for rejecting $H_0$) determines the max. prob. of rejecting the null hypothesis when it is actually true"
   ]
  },
  {
   "cell_type": "markdown",
   "metadata": {
    "user_expressions": []
   },
   "source": [
    "## Resampling Simulation for Estimating $p$-value\n"
   ]
  },
  {
   "cell_type": "code",
   "execution_count": null,
   "metadata": {},
   "outputs": [],
   "source": [
    "#DEMO\n",
    "# These are common to most simulations:\n",
    "# 1) Set up the number of iterations (no. of samples from the pool)\n",
    "# 2) Initialize our counter to zero\n",
    "num_sims = 10_000\n",
    "count = 0\n",
    "\n",
    "# Put these outside the loop to save execution time \n",
    "# since they don't change.\n",
    "# Even though we know these, it is good to get in the habit of \n",
    "# setting them dynamically from the data\n",
    "\n",
    "\n",
    "\n",
    "for sim in range(num_sims):\n",
    "    # Bootstrap sampling\n",
    "\n",
    "\n",
    "    # Calculate the test statistic\n",
    "\n",
    "\n",
    "    # Update the counter if observed difference as large as original\n",
    "\n",
    "\n",
    "print(f'Prob. of seeing a result this extreme =~ {count / num_sims}')"
   ]
  },
  {
   "cell_type": "markdown",
   "metadata": {
    "user_expressions": []
   },
   "source": [
    "**Draw conclusions**\n",
    "\n",
    "Since this $p$-value is much larger than our threshold of 5% (i.e., 0.05), we **fail to reject the null hypothesis**. The observed difference will occur approximately 20% of the time, even if there is no difference in normalized COVID rates among these states.\n",
    "\n",
    "**NOTE** This does not mean that there is no difference among these two groups. There could be a difference, but the data is not sufficient to be sure that they come from different distributions"
   ]
  },
  {
   "cell_type": "markdown",
   "metadata": {
    "user_expressions": []
   },
   "source": [
    "## Testing the Observed Differences in COVID Rates\n",
    "\n",
    "Now let's apply bootstrap resampling to test the previously observed differences in COVID rates based on GDP per capita using the full set of states:"
   ]
  },
  {
   "cell_type": "code",
   "execution_count": null,
   "metadata": {},
   "outputs": [],
   "source": [
    "#DEMO\n"
   ]
  },
  {
   "cell_type": "code",
   "execution_count": null,
   "metadata": {},
   "outputs": [],
   "source": []
  },
  {
   "cell_type": "markdown",
   "metadata": {
    "user_expressions": []
   },
   "source": [
    "We will use the difference in sample means as the test statistic for a NHST, so one of our first steps is to calculate the value of this test statistic:"
   ]
  },
  {
   "cell_type": "code",
   "execution_count": null,
   "metadata": {},
   "outputs": [],
   "source": []
  },
  {
   "cell_type": "markdown",
   "metadata": {
    "user_expressions": []
   },
   "source": [
    "For this case, the pooled data is simply all of the normalized COVID data:"
   ]
  },
  {
   "cell_type": "code",
   "execution_count": null,
   "metadata": {},
   "outputs": [],
   "source": []
  },
  {
   "cell_type": "markdown",
   "metadata": {
    "user_expressions": []
   },
   "source": [
    "Copy the simulation from the previous section and modify it to draw data to represent new `higher_gdp` and `lower_gdp` groups:"
   ]
  },
  {
   "cell_type": "code",
   "execution_count": null,
   "metadata": {},
   "outputs": [],
   "source": [
    "# These are common to most simulation:\n",
    "# 1) Set up the number of iterations (draws from the pool)\n",
    "# 2) Initialize our counter to zero\n",
    "num_sims = 10_000\n",
    "count = 0\n",
    "\n",
    "\n",
    "\n",
    "\n",
    "for sim in range(num_sims):\n",
    "    # Bootstrap sampling\n",
    "\n",
    "\n",
    "    # Calculate the absolute value of the difference of means\n",
    "\n",
    "\n",
    "    # Update the counter if observed difference as large as original\n",
    "\n",
    "\n",
    "print(f'Prob. of seeing a result this extreme =~ {count / num_sims: .3f}')"
   ]
  },
  {
   "cell_type": "markdown",
   "metadata": {
    "tags": [],
    "user_expressions": []
   },
   "source": [
    "**CONCLUSIONS:**\n",
    "\n",
    "The observed $p$-value is approx. 0.07, which is above our threshold of 0.05. We **fail to reject the null hypothesis**.\n",
    "\n",
    "The two groups may have data coming from different distributions, but the data is not sufficient to be confident that the observed difference is not from the effects of random sampling with small sample sizes"
   ]
  },
  {
   "cell_type": "markdown",
   "metadata": {
    "user_expressions": []
   },
   "source": [
    "**Make into function**"
   ]
  },
  {
   "cell_type": "code",
   "execution_count": null,
   "metadata": {},
   "outputs": [],
   "source": [
    "def resample_mean(pooled_data, diff, len1, len2, num_sims=10_000):\n",
    "    '''Resample from pooled data and conduct a two-tailed NHST \n",
    "    on the mean-difference\n",
    "    \n",
    "    Inputs\n",
    "    ------\n",
    "    pooled_data: a NumPy array containing all the data \n",
    "                 in the original 2 groups\n",
    "    \n",
    "    diff: the observed difference in sample means \n",
    "          in the original groups\n",
    "    \n",
    "    len1, len2: the lengths of the original groups\n",
    "    \n",
    "    num_sims: the number of simulation iterations\n",
    "    \n",
    "    Output\n",
    "    ------\n",
    "    prints resulting $p$-value\n",
    "    '''\n",
    "  \n",
    "\n",
    "\n",
    "    print(f'Prob. of seeing a result this extreme =~ {count / num_sims}')"
   ]
  },
  {
   "cell_type": "code",
   "execution_count": null,
   "metadata": {},
   "outputs": [],
   "source": []
  },
  {
   "cell_type": "markdown",
   "metadata": {
    "user_expressions": []
   },
   "source": [
    "Now let's apply bootstrap resampling when the states are grouped using the urban index:"
   ]
  },
  {
   "cell_type": "code",
   "execution_count": null,
   "metadata": {},
   "outputs": [],
   "source": []
  },
  {
   "cell_type": "code",
   "execution_count": null,
   "metadata": {},
   "outputs": [],
   "source": []
  },
  {
   "cell_type": "code",
   "execution_count": null,
   "metadata": {},
   "outputs": [],
   "source": []
  },
  {
   "cell_type": "markdown",
   "metadata": {
    "user_expressions": []
   },
   "source": [
    "We can use our `resample_mean()` function to perform the two-sided test via bootstrap resampling:"
   ]
  },
  {
   "cell_type": "code",
   "execution_count": null,
   "metadata": {},
   "outputs": [],
   "source": []
  },
  {
   "cell_type": "markdown",
   "metadata": {
    "user_expressions": []
   },
   "source": [
    "**CONCLUSIONS**\n",
    "\n",
    "The observed $p$-value is .01, which is below our $5\\%$ threshold, so the result is statistically significant. More specifically, our conclusion is that the 25 states with a higher urban index have a statistically significant difference in COVID rates in comparison to the 25 states with a lower urban index. "
   ]
  },
  {
   "cell_type": "markdown",
   "metadata": {},
   "source": [
    "## Distribution of the bootstrap mean-difference"
   ]
  },
  {
   "cell_type": "markdown",
   "metadata": {},
   "source": [
    "In each iteration of the bootstrap simulation, random sampling produces a new difference of sample means, which is a numerical random value.\n",
    "\n",
    "These random values can be characterized by the set of values and the mapping of probability to those values. \n",
    "\n",
    "We call this the *distribution* of the random values.\n",
    "\n",
    "The distribution of the test statistic can be estimated using a histogram of  the observed values.\n",
    "\n",
    "Create new function to store and plot histogram of test statistics:"
   ]
  },
  {
   "cell_type": "code",
   "execution_count": null,
   "metadata": {},
   "outputs": [],
   "source": [
    "def resample_mean_hist(pooled_data, diff, len1, len2, num_sims=10_000):\n",
    "    '''Resample from pooled data and conduct a two-tailed NHST\n",
    "    on the mean-difference\n",
    "    \n",
    "    Inputs\n",
    "    ------\n",
    "    pooled_data: a NumPy array containing all the data\n",
    "                 in the original 2 groups\n",
    "    \n",
    "    diff: the observed difference in sample means\n",
    "          in the original groups\n",
    "    \n",
    "    len1, len2: the lengths of the original groups\n",
    "    \n",
    "    num_sims: the number of simulation iterations\n",
    "    \n",
    "    Output\n",
    "    ------\n",
    "    prints resulting $p$-value\n",
    "    plot histogram of the differences of sample means\n",
    "    '''\n",
    "\n",
    "\n",
    "    print(f'Prob. of seeing a result this extreme =~ {count / num_sims}')\n",
    "    \n",
    "    # *** Plot the histogram with 40 bins ***"
   ]
  },
  {
   "cell_type": "markdown",
   "metadata": {},
   "source": [
    "**Note:** histogram does not depend on the mean difference observed in the data. "
   ]
  },
  {
   "cell_type": "code",
   "execution_count": null,
   "metadata": {},
   "outputs": [],
   "source": []
  },
  {
   "cell_type": "markdown",
   "metadata": {},
   "source": [
    "**OBSERVATIONS**\n",
    " The majority of the values fall between -2 and +2. Thus, it is not surprising that getting a mean difference as large as 2.34 is rare."
   ]
  },
  {
   "cell_type": "markdown",
   "metadata": {},
   "source": [
    "<!-- Now we are ready to solve **problem 1**:\n",
    "\n",
    "**<font color=orange>Scenario A:</font>** Suppose that we always decide $A_1$. For $P(A_0) = \\frac{2}{5}$, $P(A_1)=\\frac{3}{5}$, we have:\n",
    "\n",
    "\\begin{align*}\n",
    "P(A_0|B_0) &\\underset{A_1}{\\overset{A_0}{\\gtrless}} P(A_1|B_0)\\\\\n",
    "\\frac{P(B_0|A_0)P(A_0)}{P(B_0)} &\\underset{A_1}{\\overset{A_0}{\\gtrless}} \\frac{P(B_0|A_1)P(A_1)}{P(B_0)} \\\\\n",
    "\\frac{\\frac{7}{8}\\times\\frac{2}{5}}{\\frac{9}{20}} &\\underset{A_1}{\\overset{A_0}{\\gtrless}} \\frac{\\frac{1}{6}\\times\\frac{3}{5}}{\\frac{9}{20}}\\\\\n",
    "\\frac{7}{9} &\\underset{A_1}{\\overset{A_0}{\\gtrless}} \\frac{2}{9} \\Rightarrow \\text{ Decide }A_0 \n",
    "\\end{align*}\n",
    "\n",
    "So, when $B_0$ is received, MAP decision rule is to decide $A_0$ with probability $P(A_0|B_0)=\\frac{7}{9}$.\n",
    "\n",
    "Similarly, when $B_1$ is received, MAP decision rule is to decide $A_1$ with probability $P(A_1|B_1)=\\frac{10}{11}$.\n",
    "\n",
    "If the (optimal) decision rule is to always decide $A_1$, then we will have an error whenever we receive $B_0$. We can use the Law of Total probability to compute the overall probability of error $P(E)$:\n",
    "\n",
    "$$P(E) = P(E|B_0)P(B_0) + P(E|B_1)P(B_1)$$\n",
    "\n",
    "where\n",
    "\n",
    "$$P(B_0) = P(B_0|A_0)P(A_0) + P(B_0|A_1)P(A_1) = \\frac{7}{8}\\times\\frac{2}{5} + \\frac{1}{6}\\times\\frac{3}{5} = \\frac{9}{20}$$\n",
    "and\n",
    "$$P(B_1) = P(B_1|A_0)P(A_0) + P(B_1|A_1)P(A_1) = \\frac{1}{8}\\times\\frac{2}{5} + \\frac{5}{6}\\times\\frac{3}{5} = 1- P(B_0) = \\frac{11}{20}$$\n",
    "\n",
    "For this decision rule, we have that: \n",
    "\n",
    "$$P(E) = \\frac{7}{9}\\times\\frac{9}{20} + \\left(1-\\frac{10}{11}\\right)\\times\\frac{11}{20} = 0.4$$ -->"
   ]
  },
  {
   "cell_type": "markdown",
   "metadata": {},
   "source": [
    "<!-- **<font color=orange>Scenario B:</font>** Suppose that we always decide $A_1$. For $P(A_0) = \\frac{1}{10}$, $P(A_1)=\\frac{9}{10}$, we have:\n",
    "\n",
    "\\begin{align*}\n",
    "P(A_0|B_0) &\\underset{A_1}{\\overset{A_0}{\\gtrless}} P(A_1|B_0)\\\\\n",
    "\\frac{P(B_0|A_0)P(A_0)}{P(B_0)} &\\underset{A_1}{\\overset{A_0}{\\gtrless}} \\frac{P(B_0|A_1)P(A_1)}{P(B_0)} \\\\\n",
    "\\frac{\\frac{7}{8}\\times\\frac{1}{10}}{\\frac{19}{80}} &\\underset{A_1}{\\overset{A_0}{\\gtrless}} \\frac{\\frac{1}{6}\\times\\frac{9}{10}}{\\frac{19}{80}}\\\\\n",
    "\\frac{7}{19} &\\underset{A_1}{\\overset{A_0}{\\gtrless}} \\frac{12}{19} \\Rightarrow \\text{ Decide }A_1\n",
    "\\end{align*}\n",
    "\n",
    "So, when $B_0$ is received, MAP decision rule is to decide $A_1$ with probability $P(A_1|B_0)=\\frac{12}{19}$.\n",
    "\n",
    "Similarly, when $B_1$ is received, MAP decision rule is to decide $A_1$ with probability $P(A_1|B_1)=\\frac{60}{61}$.\n",
    "\n",
    "When using the MAP decision rule, we will always decide $A_1$. This does not mean we will not make an error. We will make the correct decision for when receiving $B_0$ with $\\frac{12}{19}$ probability. But we will be in error with $1-\\frac{12}{19}$ probability for when we receive $B_0$. We apply the same reasoning for $B_1$.\n",
    "\n",
    "$$P(E) = P(E|B_0)P(B_0) + P(E|B_1)P(B_1)$$\n",
    "\n",
    "where\n",
    "\n",
    "$$P(B_0) = P(B_0|A_0)P(A_0) + P(B_0|A_1)P(A_1) = \\frac{7}{8}\\times\\frac{1}{10} + \\frac{1}{6}\\times\\frac{9}{10} = \\frac{19}{80}$$\n",
    "and\n",
    "$$P(B_1) = P(B_1|A_0)P(A_0) + P(B_1|A_1)P(A_1) = \\frac{1}{8}\\times\\frac{1}{10} + \\frac{5}{6}\\times\\frac{9}{10} = 1- P(B_0) = \\frac{61}{80}$$\n",
    "\n",
    "For this decision rule, we have that: \n",
    "\n",
    "$$P(E) = P(E|B_0)P(B_0) + P(E|B_1)P(B_1) = \\left(1-\\frac{12}{19}\\right)\\times\\frac{19}{80} + \\left(1-\\frac{60}{61}\\right)\\times\\frac{61}{80} = 0.1$$ -->"
   ]
  },
  {
   "cell_type": "markdown",
   "metadata": {},
   "source": [
    "<!-- We changed the prior probability for both transmitters. In scenario B we are assuming that the probability that the Tx $A_0$ was used at 10\\% chance. Whereas in scenario A, we are assuming that the probability that Tx $A_0$ was used at 40\\%.  -->"
   ]
  },
  {
   "cell_type": "markdown",
   "metadata": {},
   "source": [
    "___"
   ]
  }
 ],
 "metadata": {
  "kernelspec": {
   "display_name": "Python 3 (ipykernel)",
   "language": "python",
   "name": "python3"
  },
  "language_info": {
   "codemirror_mode": {
    "name": "ipython",
    "version": 3
   },
   "file_extension": ".py",
   "mimetype": "text/x-python",
   "name": "python",
   "nbconvert_exporter": "python",
   "pygments_lexer": "ipython3",
   "version": "3.9.13"
  },
  "latex_envs": {
   "LaTeX_envs_menu_present": true,
   "autoclose": false,
   "autocomplete": true,
   "bibliofile": "biblio.bib",
   "cite_by": "apalike",
   "current_citInitial": 1,
   "eqLabelWithNumbers": true,
   "eqNumInitial": 1,
   "hotkeys": {
    "equation": "Ctrl-E",
    "itemize": "Ctrl-I"
   },
   "labels_anchors": false,
   "latex_user_defs": false,
   "report_style_numbering": false,
   "user_envs_cfg": false
  },
  "varInspector": {
   "cols": {
    "lenName": 16,
    "lenType": 16,
    "lenVar": 40
   },
   "kernels_config": {
    "python": {
     "delete_cmd_postfix": "",
     "delete_cmd_prefix": "del ",
     "library": "var_list.py",
     "varRefreshCmd": "print(var_dic_list())"
    },
    "r": {
     "delete_cmd_postfix": ") ",
     "delete_cmd_prefix": "rm(",
     "library": "var_list.r",
     "varRefreshCmd": "cat(var_dic_list()) "
    }
   },
   "types_to_exclude": [
    "module",
    "function",
    "builtin_function_or_method",
    "instance",
    "_Feature"
   ],
   "window_display": false
  }
 },
 "nbformat": 4,
 "nbformat_minor": 4
}

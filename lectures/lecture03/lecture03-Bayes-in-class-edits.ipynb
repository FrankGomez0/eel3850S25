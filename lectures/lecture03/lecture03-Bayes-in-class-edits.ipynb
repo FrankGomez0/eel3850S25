{
 "cells": [
  {
   "cell_type": "markdown",
   "metadata": {},
   "source": [
    "## Lecture 3 \n",
    "- Bayes' Theorem and Applications\n",
    "- Statistical Independence\n"
   ]
  },
  {
   "cell_type": "markdown",
   "metadata": {},
   "source": [
    "These are some of the theorems and corollaries that we have learned so far:\n",
    "\n",
    "* $\\forall E\\in\\mathcal{F}, 0 \\leq P(E)\\leq 1$\n",
    "* $P(\\Omega)=1$ and $P(\\emptyset) = 0 $\n",
    "* $P(A^c) = P(\\overline{A}) = 1 - P(A)$\n",
    "* If $A\\subset B$, then $P(A)\\leq P(B)$\n",
    "* **DeMorgan's Law 1**: $\\overline{A\\cap B} = \\overline{A}\\cup\\overline{B}$  \n",
    "* **DeMorgan's Law 2**: $\\overline{A\\cup B} = \\overline{A}\\cap\\overline{B}$\n",
    "* $P(A\\cap B) = P(A) + P(B) - P(A\\cup B)$\n",
    "* If $A$ and $B$ are M.E. then $A\\cap B=\\emptyset \\Rightarrow P(A\\cap B) = 0$\n",
    "* **Conditional Probability**: $P(A|B) = \\frac{P(A\\cap B)}{P(B)}$, for $P(B)>0$\n",
    "* **Chain Rules**: $P(A\\cap B) = P(A|B)P(B)$ and $P(A\\cap B) = P(B|A)P(A)$\n",
    "* **Multiplication Rule**: $P(\\bigcap_{i=1}^n A_i) = P(A_1)P(A_2|A_1)P(A_3|A_1\\cap A_2)\\dots P\\left(A_n|A_1\\cap\\dots \\cap A_{n-1}\\right)$\n",
    "* **Total Probability**: if a set of events $\\{C_i\\}_{i=1}^n$ are partitions of the sample space $\\Omega$, then $P(A) = \\sum_{i=1}^n P(A|C_i)P(C_i)$"
   ]
  },
  {
   "cell_type": "code",
   "execution_count": 3,
   "metadata": {},
   "outputs": [],
   "source": [
    "import random\n",
    "import numpy as np\n",
    "import numpy.random as npr\n",
    "import matplotlib.pyplot as plt\n",
    "%matplotlib inline\n",
    "plt.style.use('bmh')"
   ]
  },
  {
   "cell_type": "code",
   "execution_count": 5,
   "metadata": {},
   "outputs": [
    {
     "data": {
      "text/plain": [
       "\u001b[0;31mDocstring:\u001b[0m\n",
       "choice(a, size=None, replace=True, p=None)\n",
       "\n",
       "Generates a random sample from a given 1-D array\n",
       "\n",
       ".. versionadded:: 1.7.0\n",
       "\n",
       ".. note::\n",
       "    New code should use the ``choice`` method of a ``default_rng()``\n",
       "    instance instead; please see the :ref:`random-quick-start`.\n",
       "\n",
       "Parameters\n",
       "----------\n",
       "a : 1-D array-like or int\n",
       "    If an ndarray, a random sample is generated from its elements.\n",
       "    If an int, the random sample is generated as if it were ``np.arange(a)``\n",
       "size : int or tuple of ints, optional\n",
       "    Output shape.  If the given shape is, e.g., ``(m, n, k)``, then\n",
       "    ``m * n * k`` samples are drawn.  Default is None, in which case a\n",
       "    single value is returned.\n",
       "replace : boolean, optional\n",
       "    Whether the sample is with or without replacement. Default is True,\n",
       "    meaning that a value of ``a`` can be selected multiple times.\n",
       "p : 1-D array-like, optional\n",
       "    The probabilities associated with each entry in a.\n",
       "    If not given, the sample assumes a uniform distribution over all\n",
       "    entries in ``a``.\n",
       "\n",
       "Returns\n",
       "-------\n",
       "samples : single item or ndarray\n",
       "    The generated random samples\n",
       "\n",
       "Raises\n",
       "------\n",
       "ValueError\n",
       "    If a is an int and less than zero, if a or p are not 1-dimensional,\n",
       "    if a is an array-like of size 0, if p is not a vector of\n",
       "    probabilities, if a and p have different lengths, or if\n",
       "    replace=False and the sample size is greater than the population\n",
       "    size\n",
       "\n",
       "See Also\n",
       "--------\n",
       "randint, shuffle, permutation\n",
       "Generator.choice: which should be used in new code\n",
       "\n",
       "Notes\n",
       "-----\n",
       "Setting user-specified probabilities through ``p`` uses a more general but less\n",
       "efficient sampler than the default. The general sampler produces a different sample\n",
       "than the optimized sampler even if each element of ``p`` is 1 / len(a).\n",
       "\n",
       "Sampling random rows from a 2-D array is not possible with this function,\n",
       "but is possible with `Generator.choice` through its ``axis`` keyword.\n",
       "\n",
       "Examples\n",
       "--------\n",
       "Generate a uniform random sample from np.arange(5) of size 3:\n",
       "\n",
       ">>> np.random.choice(5, 3)\n",
       "array([0, 3, 4]) # random\n",
       ">>> #This is equivalent to np.random.randint(0,5,3)\n",
       "\n",
       "Generate a non-uniform random sample from np.arange(5) of size 3:\n",
       "\n",
       ">>> np.random.choice(5, 3, p=[0.1, 0, 0.3, 0.6, 0])\n",
       "array([3, 3, 0]) # random\n",
       "\n",
       "Generate a uniform random sample from np.arange(5) of size 3 without\n",
       "replacement:\n",
       "\n",
       ">>> np.random.choice(5, 3, replace=False)\n",
       "array([3,1,0]) # random\n",
       ">>> #This is equivalent to np.random.permutation(np.arange(5))[:3]\n",
       "\n",
       "Generate a non-uniform random sample from np.arange(5) of size\n",
       "3 without replacement:\n",
       "\n",
       ">>> np.random.choice(5, 3, replace=False, p=[0.1, 0, 0.3, 0.6, 0])\n",
       "array([2, 3, 0]) # random\n",
       "\n",
       "Any of the above can be repeated with an arbitrary array-like\n",
       "instead of just integers. For instance:\n",
       "\n",
       ">>> aa_milne_arr = ['pooh', 'rabbit', 'piglet', 'Christopher']\n",
       ">>> np.random.choice(aa_milne_arr, 5, p=[0.5, 0.1, 0.1, 0.3])\n",
       "array(['pooh', 'pooh', 'pooh', 'Christopher', 'piglet'], # random\n",
       "      dtype='<U11')\n",
       "\u001b[0;31mType:\u001b[0m      builtin_function_or_method\n"
      ]
     },
     "metadata": {},
     "output_type": "display_data"
    }
   ],
   "source": [
    "# Get familiar with npr.choice function\n",
    "? npr.choice"
   ]
  },
  {
   "cell_type": "code",
   "execution_count": 8,
   "metadata": {},
   "outputs": [],
   "source": [
    "# use npr.choice to sample K outcomes with a given distribution, with replacement\n",
    "Aset= [0,1]\n",
    "p = [0.1,0.9]\n"
   ]
  },
  {
   "cell_type": "code",
   "execution_count": 9,
   "metadata": {},
   "outputs": [],
   "source": [
    "# use npr.choice to sample K outcomes without replacement"
   ]
  },
  {
   "cell_type": "markdown",
   "metadata": {},
   "source": [
    "**<font color=blue>Example 1:</font> Consider the experiment where we select between a fair 6-sided die and a fair 12-sided die at random and flip it once. What is the probability that the die selected was the 12-sided die if face on top was 5?**\n"
   ]
  },
  {
   "cell_type": "markdown",
   "metadata": {},
   "source": [
    "Let's first solve this problem analytically using Bayes Thm"
   ]
  },
  {
   "cell_type": "markdown",
   "metadata": {},
   "source": [
    "Let's validate our answers using Python random experiments and simulation"
   ]
  },
  {
   "cell_type": "code",
   "execution_count": null,
   "metadata": {
    "scrolled": true
   },
   "outputs": [],
   "source": [
    "num_sims=100_000\n",
    "dice = ['6-sided','12-sided']\n",
    "face5 = 0\n",
    "die12 = 0\n",
    "for sim in range(num_sims):\n",
    "    coin = random.choice(dice)\n",
    "    if coin == '6-sided':\n",
    "        S = # todo\n",
    "    else:\n",
    "        S = # todo \n",
    "            \n",
    "## COMPLETE IN CLASS\n",
    "\n",
    "print('Probability that die is 12-sided if observed result is 5 is ',\n",
    "      die12/face5)"
   ]
  },
  {
   "cell_type": "markdown",
   "metadata": {},
   "source": [
    "**<font color=blue>Example 2:</font> A magician has two coins coins, one fair and one 2-headed coin. Consider the experiment where she picks one coin at random and flips it $i$ times. Let $H_i$ denote the event that the outcome of flip i is heads.**\n",
    "\n",
    "- Given the first two flips are heads, what is the probability that the third roll is also heads? "
   ]
  },
  {
   "cell_type": "markdown",
   "metadata": {},
   "source": [
    "Let's first solve this analytically."
   ]
  },
  {
   "cell_type": "markdown",
   "metadata": {},
   "source": [
    "<!--![image.png](attachment:image.png)-->"
   ]
  },
  {
   "cell_type": "markdown",
   "metadata": {},
   "source": [
    "Implement a simulation to solve $P(H_3|H_1\\cap H_2)$"
   ]
  },
  {
   "cell_type": "code",
   "execution_count": 2,
   "metadata": {},
   "outputs": [],
   "source": [
    "# complete in class\n"
   ]
  },
  {
   "cell_type": "code",
   "execution_count": null,
   "metadata": {},
   "outputs": [],
   "source": []
  }
 ],
 "metadata": {
  "kernelspec": {
   "display_name": "Python 3 (ipykernel)",
   "language": "python",
   "name": "python3"
  },
  "language_info": {
   "codemirror_mode": {
    "name": "ipython",
    "version": 3
   },
   "file_extension": ".py",
   "mimetype": "text/x-python",
   "name": "python",
   "nbconvert_exporter": "python",
   "pygments_lexer": "ipython3",
   "version": "3.9.13"
  },
  "latex_envs": {
   "LaTeX_envs_menu_present": true,
   "autoclose": false,
   "autocomplete": true,
   "bibliofile": "biblio.bib",
   "cite_by": "apalike",
   "current_citInitial": 1,
   "eqLabelWithNumbers": true,
   "eqNumInitial": 1,
   "hotkeys": {
    "equation": "Ctrl-E",
    "itemize": "Ctrl-I"
   },
   "labels_anchors": false,
   "latex_user_defs": false,
   "report_style_numbering": false,
   "user_envs_cfg": false
  },
  "varInspector": {
   "cols": {
    "lenName": 16,
    "lenType": 16,
    "lenVar": 40
   },
   "kernels_config": {
    "python": {
     "delete_cmd_postfix": "",
     "delete_cmd_prefix": "del ",
     "library": "var_list.py",
     "varRefreshCmd": "print(var_dic_list())"
    },
    "r": {
     "delete_cmd_postfix": ") ",
     "delete_cmd_prefix": "rm(",
     "library": "var_list.r",
     "varRefreshCmd": "cat(var_dic_list()) "
    }
   },
   "types_to_exclude": [
    "module",
    "function",
    "builtin_function_or_method",
    "instance",
    "_Feature"
   ],
   "window_display": false
  }
 },
 "nbformat": 4,
 "nbformat_minor": 4
}
